{
 "cells": [
  {
   "attachments": {},
   "cell_type": "markdown",
   "metadata": {},
   "source": [
    "### Convert HTML to Dataframe"
   ]
  },
  {
   "cell_type": "code",
   "execution_count": 1,
   "metadata": {},
   "outputs": [],
   "source": [
    "import pandas as pd"
   ]
  },
  {
   "cell_type": "code",
   "execution_count": 2,
   "metadata": {},
   "outputs": [
    {
     "name": "stdout",
     "output_type": "stream",
     "text": [
      "         0       1        2           3    4\n",
      "0  ROLL_NO    NAME  ADDRESS       PHONE  AGE\n",
      "1        1     RAM    DELHI  9455123451   18\n",
      "2        2  RAMESH  GURGAON  9652431543   18\n",
      "3        3   SUJIT   ROHTAK  9156253131   20\n",
      "4        4  SURESH    DELHI  9156768971   18\n"
     ]
    }
   ],
   "source": [
    "url = \"https://www.geeksforgeeks.org/extended-operators-in-relational-algebra/\"\n",
    "table = pd.read_html(url)[0]\n",
    "  \n",
    "print(table)"
   ]
  },
  {
   "cell_type": "code",
   "execution_count": null,
   "metadata": {},
   "outputs": [],
   "source": [
    "table.to_excel(\"table.xlsx\", index = False)"
   ]
  },
  {
   "attachments": {},
   "cell_type": "markdown",
   "metadata": {},
   "source": [
    "### Reference"
   ]
  },
  {
   "attachments": {},
   "cell_type": "markdown",
   "metadata": {},
   "source": [
    "Geeks for Geeks\n",
    "<br>[Python | Convert an HTML table into excel](https://www.geeksforgeeks.org/python-convert-an-html-table-into-excel/?ref=ml_lbp)\n",
    "<br>[Extended Operators in Relational Algebra](https://www.geeksforgeeks.org/extended-operators-in-relational-algebra/)"
   ]
  }
 ],
 "metadata": {
  "kernelspec": {
   "display_name": "exercise",
   "language": "python",
   "name": "python3"
  },
  "language_info": {
   "codemirror_mode": {
    "name": "ipython",
    "version": 3
   },
   "file_extension": ".py",
   "mimetype": "text/x-python",
   "name": "python",
   "nbconvert_exporter": "python",
   "pygments_lexer": "ipython3",
   "version": "3.11.3"
  },
  "orig_nbformat": 4
 },
 "nbformat": 4,
 "nbformat_minor": 2
}
