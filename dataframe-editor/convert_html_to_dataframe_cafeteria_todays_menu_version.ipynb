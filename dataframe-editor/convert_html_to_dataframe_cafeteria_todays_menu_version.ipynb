{
 "cells": [
  {
   "cell_type": "markdown",
   "metadata": {},
   "source": [
    "### Convert HTML to Dataframe (Cafeteria Today's Menu Version)"
   ]
  },
  {
   "cell_type": "markdown",
   "metadata": {},
   "source": [
    "1. Save screen capture as PDF from [webpage](https://dorm2.khu.ac.kr/40/4050.kmc)\n",
    "2. Convert PDF to HTML (AlPDF)\n",
    "3. Convert HTML to Table"
   ]
  },
  {
   "cell_type": "code",
   "execution_count": null,
   "metadata": {},
   "outputs": [],
   "source": [
    "import pandas as pd"
   ]
  },
  {
   "cell_type": "code",
   "execution_count": 157,
   "metadata": {},
   "outputs": [
    {
     "data": {
      "text/html": [
       "<div>\n",
       "<style scoped>\n",
       "    .dataframe tbody tr th:only-of-type {\n",
       "        vertical-align: middle;\n",
       "    }\n",
       "\n",
       "    .dataframe tbody tr th {\n",
       "        vertical-align: top;\n",
       "    }\n",
       "\n",
       "    .dataframe thead th {\n",
       "        text-align: right;\n",
       "    }\n",
       "</style>\n",
       "<table border=\"1\" class=\"dataframe\">\n",
       "  <thead>\n",
       "    <tr style=\"text-align: right;\">\n",
       "      <th></th>\n",
       "      <th>year</th>\n",
       "      <th>date</th>\n",
       "      <th>time</th>\n",
       "      <th>menu1</th>\n",
       "      <th>menu2</th>\n",
       "      <th>menu3</th>\n",
       "      <th>menu4</th>\n",
       "      <th>menu5</th>\n",
       "    </tr>\n",
       "  </thead>\n",
       "  <tbody>\n",
       "    <tr>\n",
       "      <th>0</th>\n",
       "      <td>2025년</td>\n",
       "      <td>1월 6일</td>\n",
       "      <td>1월 6일</td>\n",
       "      <td>1월 6일</td>\n",
       "      <td>1월 7일</td>\n",
       "      <td>1월 8일</td>\n",
       "      <td>1월 9일</td>\n",
       "      <td>2025년 1월 10일</td>\n",
       "    </tr>\n",
       "    <tr>\n",
       "      <th>1</th>\n",
       "      <td>월</td>\n",
       "      <td>조식</td>\n",
       "      <td>A식 [한식]</td>\n",
       "      <td>백미밥| 순두부백탕| 오징어떡볶음| 물만두찜*간장| 포기김치</td>\n",
       "      <td>백미밥| 우동장국| 두부참치조림| 동그랑땡*케찹| 고춧잎무침| 포기김치</td>\n",
       "      <td>백미밥| 콩나물해장국| 오리불고기| 감자채볶음| 과일주스| 포기김치</td>\n",
       "      <td>백미밥| 대파육개장| 빨간계란장조림| 흑임자연근무침| 포기김치</td>\n",
       "      <td></td>\n",
       "    </tr>\n",
       "    <tr>\n",
       "      <th>2</th>\n",
       "      <td>월</td>\n",
       "      <td>중식</td>\n",
       "      <td>A식 [한식]</td>\n",
       "      <td>제육덮밥| 시금치된장국| 고구마&amp;단호박고로케| 계란후라이| 포기김치</td>\n",
       "      <td>소불고기우동| 추가밥| 미니파닭치킨| 치킨무| 과일주스| 포기김치</td>\n",
       "      <td>춘천식 닭갈비| 얼갈이된장국| 김가루막국수| 코울슬로| 포기김치</td>\n",
       "      <td>간장돼지갈비찜| 꼬치어묵국| 들깨무나물| 치커리유자청무침| 포기김치</td>\n",
       "      <td>봄동비빔밥| 우동장국| 만두튀김| 청포묵김무침| 깍두기| 요구르트</td>\n",
       "    </tr>\n",
       "    <tr>\n",
       "      <th>3</th>\n",
       "      <td>월</td>\n",
       "      <td>석식</td>\n",
       "      <td>A식 [한식]</td>\n",
       "      <td>로제찜닭| 햄김치찌개| 콩나물매콤무침| 집게다리튀김| 포기김치</td>\n",
       "      <td>마파두부덮밥| 계란파국| 미트볼만두강정| 꼬시래기*초장| 깍두기</td>\n",
       "      <td>삼겹살김치볶음| 오징어무국| 청경채겉절이| 야채계란찜| 포기김치</td>\n",
       "      <td>간짜장덮밥| 짬뽕국| 숙주해물굴소스볶음| 파인애플탕수육| 포기김치</td>\n",
       "      <td>바지락수제비| 추가밥| 메밀전병*간장| 배추겉절이| 과일주스| 포기김치</td>\n",
       "    </tr>\n",
       "  </tbody>\n",
       "</table>\n",
       "</div>"
      ],
      "text/plain": [
       "    year   date     time                                  menu1                                    menu2                                  menu3                                  menu4                                    menu5\n",
       "0  2025년  1월 6일    1월 6일                                  1월 6일                                    1월 7일                                  1월 8일                                  1월 9일                             2025년 1월 10일\n",
       "1      월     조식  A식 [한식]      백미밥| 순두부백탕| 오징어떡볶음| 물만두찜*간장| 포기김치  백미밥| 우동장국| 두부참치조림| 동그랑땡*케찹| 고춧잎무침| 포기김치  백미밥| 콩나물해장국| 오리불고기| 감자채볶음| 과일주스| 포기김치     백미밥| 대파육개장| 빨간계란장조림| 흑임자연근무침| 포기김치                                         \n",
       "2      월     중식  A식 [한식]  제육덮밥| 시금치된장국| 고구마&단호박고로케| 계란후라이| 포기김치     소불고기우동| 추가밥| 미니파닭치킨| 치킨무| 과일주스| 포기김치    춘천식 닭갈비| 얼갈이된장국| 김가루막국수| 코울슬로| 포기김치  간장돼지갈비찜| 꼬치어묵국| 들깨무나물| 치커리유자청무침| 포기김치     봄동비빔밥| 우동장국| 만두튀김| 청포묵김무침| 깍두기| 요구르트\n",
       "3      월     석식  A식 [한식]     로제찜닭| 햄김치찌개| 콩나물매콤무침| 집게다리튀김| 포기김치      마파두부덮밥| 계란파국| 미트볼만두강정| 꼬시래기*초장| 깍두기    삼겹살김치볶음| 오징어무국| 청경채겉절이| 야채계란찜| 포기김치   간짜장덮밥| 짬뽕국| 숙주해물굴소스볶음| 파인애플탕수육| 포기김치  바지락수제비| 추가밥| 메밀전병*간장| 배추겉절이| 과일주스| 포기김치"
      ]
     },
     "metadata": {},
     "output_type": "display_data"
    }
   ],
   "source": [
    "urls = [\"menu00.html\", \"menu01.html\"]\n",
    "\n",
    "table_num = 0\n",
    "\n",
    "for url in urls:\n",
    "    tables = pd.read_html(url)\n",
    "\n",
    "    for table in tables:\n",
    "        table_num += 1    \n",
    "\n",
    "        try:\n",
    "            table.columns = ['year', 'date', 'time', 'menu']\n",
    "        except:\n",
    "            table.columns = ['year', 'date1', 'date2', 'time', 'menu']\n",
    "\n",
    "        if table_num == 1:\n",
    "            first_table = table.dropna(axis=0)\n",
    "            first_table = first_table.reset_index()\n",
    "            del first_table['index']\n",
    "\n",
    "        table = table.dropna(axis=0)\n",
    "        table_menu = table.menu\n",
    "        table_menu = table_menu.reset_index()\n",
    "        del table_menu['index']\n",
    "\n",
    "        if len(table_menu) == 3:\n",
    "            \n",
    "            table_menu.loc[3] = table_menu.loc[2]\n",
    "            table_menu.loc[2] = table_menu.loc[1]\n",
    "            table_menu.loc[1] = ' '\n",
    "\n",
    "        # print(table_menu)\n",
    "        \n",
    "        if table_num != 1 and table_num <= 5: first_table = pd.concat([first_table, table_menu],axis=1)\n",
    "\n",
    "first_table.columns = ['year', 'date', 'time', 'Mon', 'Tue', 'Wed', 'Thu', 'Fri']\n",
    "menus = ['Mon', 'Tue', 'Wed', 'Thu', 'Fri']\n",
    "\n",
    "for menu in menus:\n",
    "    first_table[menu] = first_table[menu].str.replace(',', '|')        \n",
    "\n",
    "pd.set_option('display.width', 10000)\n",
    "display(first_table)\n",
    "file_name = str(first_table.date[0]) + '.xlsx'\n",
    "\n",
    "# first_table.to_excel(file_name, index=False)"
   ]
  }
 ],
 "metadata": {
  "kernelspec": {
   "display_name": "base",
   "language": "python",
   "name": "python3"
  },
  "language_info": {
   "codemirror_mode": {
    "name": "ipython",
    "version": 3
   },
   "file_extension": ".py",
   "mimetype": "text/x-python",
   "name": "python",
   "nbconvert_exporter": "python",
   "pygments_lexer": "ipython3",
   "version": "3.10.14"
  }
 },
 "nbformat": 4,
 "nbformat_minor": 2
}
