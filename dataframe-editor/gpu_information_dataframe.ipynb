{
 "cells": [
  {
   "cell_type": "markdown",
   "metadata": {},
   "source": [
    "## GPU Information Dataframe"
   ]
  },
  {
   "cell_type": "markdown",
   "metadata": {},
   "source": [
    "<br>"
   ]
  },
  {
   "cell_type": "markdown",
   "metadata": {},
   "source": [
    "### Development Environment"
   ]
  },
  {
   "cell_type": "code",
   "execution_count": null,
   "metadata": {},
   "outputs": [],
   "source": [
    "!pip install pynvml"
   ]
  },
  {
   "cell_type": "code",
   "execution_count": 7,
   "metadata": {},
   "outputs": [],
   "source": [
    "import pynvml\n",
    "import numpy as np\n",
    "import pandas as pd\n",
    "from pynvml.smi import nvidia_smi\n",
    "from subprocess import check_output"
   ]
  },
  {
   "cell_type": "markdown",
   "metadata": {},
   "source": [
    "### GPU Information"
   ]
  },
  {
   "cell_type": "code",
   "execution_count": 6,
   "metadata": {},
   "outputs": [],
   "source": [
    "columns = ['timestamp', 'name', 'pci.bus_id', 'driver_version', 'pstate',\n",
    "           'pcie.link.gen.max', 'pcie.link.gen.current',\n",
    "           'temperature.gpu', 'utilization.gpu', 'utilization.memory',\n",
    "           'memory.total', 'memory.free', 'memory.used']\n",
    "\n",
    "qstring = ','.join(columns)\n",
    "command = ['nvidia-smi', f'--query-gpu={qstring}', '--format=csv']\n",
    "\n",
    "output = check_output(command, encoding='utf-8').strip()\n",
    "lines = output.split('\\n')\n",
    "\n",
    "rows = []\n",
    "keys = [column.replace('.', '_') for column in lines[0].split(', ')]\n",
    "for line in lines[1:]:\n",
    "    values = line.split(', ')\n",
    "    rows.append(dict(tuple(zip(keys, values))))\n",
    "    \n",
    "gpu_df = pd.DataFrame(rows)\n",
    "gpu_df.to_excel(\"workspace/gpu_df.xlsx\", index=False)"
   ]
  },
  {
   "cell_type": "code",
   "execution_count": 7,
   "metadata": {},
   "outputs": [
    {
     "data": {
      "text/html": [
       "<div>\n",
       "<style scoped>\n",
       "    .dataframe tbody tr th:only-of-type {\n",
       "        vertical-align: middle;\n",
       "    }\n",
       "\n",
       "    .dataframe tbody tr th {\n",
       "        vertical-align: top;\n",
       "    }\n",
       "\n",
       "    .dataframe thead th {\n",
       "        text-align: right;\n",
       "    }\n",
       "</style>\n",
       "<table border=\"1\" class=\"dataframe\">\n",
       "  <thead>\n",
       "    <tr style=\"text-align: right;\">\n",
       "      <th></th>\n",
       "      <th>timestamp</th>\n",
       "      <th>name</th>\n",
       "      <th>pci_bus_id</th>\n",
       "      <th>driver_version</th>\n",
       "      <th>pstate</th>\n",
       "      <th>pcie_link_gen_max</th>\n",
       "      <th>pcie_link_gen_current</th>\n",
       "      <th>temperature_gpu</th>\n",
       "      <th>utilization_gpu [%]</th>\n",
       "      <th>utilization_memory [%]</th>\n",
       "      <th>memory_total [MiB]</th>\n",
       "      <th>memory_free [MiB]</th>\n",
       "      <th>memory_used [MiB]</th>\n",
       "    </tr>\n",
       "  </thead>\n",
       "  <tbody>\n",
       "    <tr>\n",
       "      <th>0</th>\n",
       "      <td>2023/09/07 09:07:40.010</td>\n",
       "      <td>NVIDIA GeForce RTX 4090</td>\n",
       "      <td>00000000:01:00.0</td>\n",
       "      <td>525.125.06</td>\n",
       "      <td>P2</td>\n",
       "      <td>4</td>\n",
       "      <td>4</td>\n",
       "      <td>76</td>\n",
       "      <td>99 %</td>\n",
       "      <td>52 %</td>\n",
       "      <td>24564 MiB</td>\n",
       "      <td>1927 MiB</td>\n",
       "      <td>22289 MiB</td>\n",
       "    </tr>\n",
       "    <tr>\n",
       "      <th>1</th>\n",
       "      <td>2023/09/07 09:07:40.010</td>\n",
       "      <td>NVIDIA GeForce RTX 4090</td>\n",
       "      <td>00000000:21:00.0</td>\n",
       "      <td>525.125.06</td>\n",
       "      <td>P2</td>\n",
       "      <td>4</td>\n",
       "      <td>4</td>\n",
       "      <td>74</td>\n",
       "      <td>94 %</td>\n",
       "      <td>47 %</td>\n",
       "      <td>24564 MiB</td>\n",
       "      <td>1064 MiB</td>\n",
       "      <td>23152 MiB</td>\n",
       "    </tr>\n",
       "  </tbody>\n",
       "</table>\n",
       "</div>"
      ],
      "text/plain": [
       "                 timestamp                     name        pci_bus_id  \\\n",
       "0  2023/09/07 09:07:40.010  NVIDIA GeForce RTX 4090  00000000:01:00.0   \n",
       "1  2023/09/07 09:07:40.010  NVIDIA GeForce RTX 4090  00000000:21:00.0   \n",
       "\n",
       "  driver_version pstate pcie_link_gen_max pcie_link_gen_current  \\\n",
       "0     525.125.06     P2                 4                     4   \n",
       "1     525.125.06     P2                 4                     4   \n",
       "\n",
       "  temperature_gpu utilization_gpu [%] utilization_memory [%]  \\\n",
       "0              76                99 %                   52 %   \n",
       "1              74                94 %                   47 %   \n",
       "\n",
       "  memory_total [MiB] memory_free [MiB] memory_used [MiB]  \n",
       "0          24564 MiB          1927 MiB         22289 MiB  \n",
       "1          24564 MiB          1064 MiB         23152 MiB  "
      ]
     },
     "execution_count": 7,
     "metadata": {},
     "output_type": "execute_result"
    }
   ],
   "source": [
    "gpu_df"
   ]
  },
  {
   "cell_type": "code",
   "execution_count": 8,
   "metadata": {},
   "outputs": [],
   "source": [
    "pynvml.nvmlInit()\n",
    "result = []\n",
    "for dev_id in range(pynvml.nvmlDeviceGetCount()):\n",
    "    handle = pynvml.nvmlDeviceGetHandleByIndex(dev_id)\n",
    "    for proc in pynvml.nvmlDeviceGetComputeRunningProcesses(handle):\n",
    "        result.append([proc.pid, proc.usedGpuMemory, dev_id])"
   ]
  },
  {
   "cell_type": "code",
   "execution_count": 9,
   "metadata": {},
   "outputs": [],
   "source": [
    "gpu_usage = pd.DataFrame(result,columns=[\"pid\",\"bytes of memory\", \"device\"])\n",
    "gpu_usage[\"MB of memory\"] = gpu_usage[\"bytes of memory\"] / (1024*1024)\n",
    "gpu_usage[\"GB of memory\"] = gpu_usage[\"bytes of memory\"] / (1024*1024*1024)"
   ]
  },
  {
   "cell_type": "code",
   "execution_count": 23,
   "metadata": {},
   "outputs": [
    {
     "data": {
      "text/html": [
       "<div>\n",
       "<style scoped>\n",
       "    .dataframe tbody tr th:only-of-type {\n",
       "        vertical-align: middle;\n",
       "    }\n",
       "\n",
       "    .dataframe tbody tr th {\n",
       "        vertical-align: top;\n",
       "    }\n",
       "\n",
       "    .dataframe thead th {\n",
       "        text-align: right;\n",
       "    }\n",
       "</style>\n",
       "<table border=\"1\" class=\"dataframe\">\n",
       "  <thead>\n",
       "    <tr style=\"text-align: right;\">\n",
       "      <th></th>\n",
       "      <th>pid</th>\n",
       "      <th>bytes of memory</th>\n",
       "      <th>device</th>\n",
       "      <th>MB of memory</th>\n",
       "      <th>GB of memory</th>\n",
       "    </tr>\n",
       "  </thead>\n",
       "  <tbody>\n",
       "    <tr>\n",
       "      <th>0</th>\n",
       "      <td>105277</td>\n",
       "      <td>32939966464</td>\n",
       "      <td>0</td>\n",
       "      <td>31414.0</td>\n",
       "      <td>30.677734</td>\n",
       "    </tr>\n",
       "    <tr>\n",
       "      <th>1</th>\n",
       "      <td>105468</td>\n",
       "      <td>32979812352</td>\n",
       "      <td>1</td>\n",
       "      <td>31452.0</td>\n",
       "      <td>30.714844</td>\n",
       "    </tr>\n",
       "  </tbody>\n",
       "</table>\n",
       "</div>"
      ],
      "text/plain": [
       "      pid  bytes of memory  device  MB of memory  GB of memory\n",
       "0  105277      32939966464       0       31414.0     30.677734\n",
       "1  105468      32979812352       1       31452.0     30.714844"
      ]
     },
     "execution_count": 23,
     "metadata": {},
     "output_type": "execute_result"
    }
   ],
   "source": [
    "gpu_usage"
   ]
  },
  {
   "cell_type": "markdown",
   "metadata": {},
   "source": [
    "### PID Information"
   ]
  },
  {
   "cell_type": "code",
   "execution_count": 10,
   "metadata": {},
   "outputs": [],
   "source": [
    "gpu_usage_by_id_r = gpu_usage.groupby(\"pid\").apply(lambda x : \", \".join([str(i) for i in x[\"device\"].tolist()])).reset_index(drop=False)\n",
    "gpu_usage_by_id_r.columns = [\"pid\",\"device_list\"]\n",
    "gpu_usage_by_id_l = gpu_usage.groupby(\"pid\").agg({\"MB of memory\" : \"sum\",\"GB of memory\" : \"sum\",}).reset_index(drop=False)\n",
    "gpu_usage_by_id = gpu_usage_by_id_l.merge(gpu_usage_by_id_r,on=\"pid\",how=\"left\")"
   ]
  },
  {
   "cell_type": "code",
   "execution_count": 11,
   "metadata": {},
   "outputs": [
    {
     "data": {
      "text/html": [
       "<div>\n",
       "<style scoped>\n",
       "    .dataframe tbody tr th:only-of-type {\n",
       "        vertical-align: middle;\n",
       "    }\n",
       "\n",
       "    .dataframe tbody tr th {\n",
       "        vertical-align: top;\n",
       "    }\n",
       "\n",
       "    .dataframe thead th {\n",
       "        text-align: right;\n",
       "    }\n",
       "</style>\n",
       "<table border=\"1\" class=\"dataframe\">\n",
       "  <thead>\n",
       "    <tr style=\"text-align: right;\">\n",
       "      <th></th>\n",
       "      <th>pid</th>\n",
       "      <th>MB of memory</th>\n",
       "      <th>GB of memory</th>\n",
       "      <th>device_list</th>\n",
       "    </tr>\n",
       "  </thead>\n",
       "  <tbody>\n",
       "    <tr>\n",
       "      <th>0</th>\n",
       "      <td>105277</td>\n",
       "      <td>31414.0</td>\n",
       "      <td>30.677734</td>\n",
       "      <td>0</td>\n",
       "    </tr>\n",
       "    <tr>\n",
       "      <th>1</th>\n",
       "      <td>105468</td>\n",
       "      <td>31452.0</td>\n",
       "      <td>30.714844</td>\n",
       "      <td>1</td>\n",
       "    </tr>\n",
       "  </tbody>\n",
       "</table>\n",
       "</div>"
      ],
      "text/plain": [
       "      pid  MB of memory  GB of memory device_list\n",
       "0  105277       31414.0     30.677734           0\n",
       "1  105468       31452.0     30.714844           1"
      ]
     },
     "execution_count": 11,
     "metadata": {},
     "output_type": "execute_result"
    }
   ],
   "source": [
    "gpu_usage_by_id"
   ]
  },
  {
   "cell_type": "markdown",
   "metadata": {},
   "source": [
    "### Device Information"
   ]
  },
  {
   "cell_type": "code",
   "execution_count": 36,
   "metadata": {},
   "outputs": [],
   "source": [
    "nvsmi = nvidia_smi.getInstance()\n",
    "total_gpu_usage = pd.DataFrame([list(i.values())[0] for i in nvsmi.DeviceQuery('memory.free, memory.total')[\"gpu\"]])\n",
    "total_gpu_usage[\"device\"] = np.arange(len(total_gpu_usage))\n",
    "\n",
    "d = gpu_usage.groupby([\"device\",\"device_name\"]).agg({\"MB of memory\" : \"sum\",\"GB of memory\" : \"sum\",})\n",
    "device_gpusage = d.reset_index(drop=False)"
   ]
  },
  {
   "cell_type": "code",
   "execution_count": 26,
   "metadata": {},
   "outputs": [
    {
     "data": {
      "text/html": [
       "<div>\n",
       "<style scoped>\n",
       "    .dataframe tbody tr th:only-of-type {\n",
       "        vertical-align: middle;\n",
       "    }\n",
       "\n",
       "    .dataframe tbody tr th {\n",
       "        vertical-align: top;\n",
       "    }\n",
       "\n",
       "    .dataframe thead th {\n",
       "        text-align: right;\n",
       "    }\n",
       "</style>\n",
       "<table border=\"1\" class=\"dataframe\">\n",
       "  <thead>\n",
       "    <tr style=\"text-align: right;\">\n",
       "      <th></th>\n",
       "      <th>index</th>\n",
       "      <th>MB of memory</th>\n",
       "      <th>GB of memory</th>\n",
       "    </tr>\n",
       "  </thead>\n",
       "  <tbody>\n",
       "    <tr>\n",
       "      <th>0</th>\n",
       "      <td>device</td>\n",
       "      <td>31414.0</td>\n",
       "      <td>30.677734</td>\n",
       "    </tr>\n",
       "    <tr>\n",
       "      <th>1</th>\n",
       "      <td>device_name</td>\n",
       "      <td>31452.0</td>\n",
       "      <td>30.714844</td>\n",
       "    </tr>\n",
       "  </tbody>\n",
       "</table>\n",
       "</div>"
      ],
      "text/plain": [
       "         index  MB of memory  GB of memory\n",
       "0       device       31414.0     30.677734\n",
       "1  device_name       31452.0     30.714844"
      ]
     },
     "execution_count": 26,
     "metadata": {},
     "output_type": "execute_result"
    }
   ],
   "source": [
    "device_gpusage"
   ]
  },
  {
   "cell_type": "markdown",
   "metadata": {},
   "source": [
    "### Reference"
   ]
  },
  {
   "cell_type": "markdown",
   "metadata": {},
   "source": [
    "<b>Stackoverflow</b>\n",
    "<br>[How do I customize nvidia-smi 's output to show PID username?](https://stackoverflow.com/questions/50264491/how-do-i-customize-nvidia-smi-s-output-to-show-pid-username)\n",
    "\n",
    "<br><b>Blog</b>\n",
    "<br>Dandyrillra\n",
    "<br>[nvidia-smi 출력 결과물을 pandas 데이터프레임으로 받아보자](https://dandyrilla.github.io/2023-07-10/nvidia-smi-pandas-dataframe/)\n",
    "<br><br>data-newbie\n",
    "<br>[Ubuntu GPU 확인 방법](https://data-newbie.tistory.com/771/)\n"
   ]
  }
 ],
 "metadata": {
  "kernelspec": {
   "display_name": "exercise",
   "language": "python",
   "name": "python3"
  },
  "language_info": {
   "codemirror_mode": {
    "name": "ipython",
    "version": 3
   },
   "file_extension": ".py",
   "mimetype": "text/x-python",
   "name": "python",
   "nbconvert_exporter": "python",
   "pygments_lexer": "ipython3",
   "version": "3.8.12"
  },
  "orig_nbformat": 4
 },
 "nbformat": 4,
 "nbformat_minor": 2
}
