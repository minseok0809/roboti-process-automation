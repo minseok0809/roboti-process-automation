{
 "cells": [
  {
   "cell_type": "markdown",
   "metadata": {},
   "source": [
    "## Speech Recognition Save & Split & Convert Audio File"
   ]
  },
  {
   "cell_type": "markdown",
   "metadata": {},
   "source": []
  },
  {
   "cell_type": "markdown",
   "metadata": {},
   "source": [
    "### Development Envrionment"
   ]
  },
  {
   "cell_type": "code",
   "execution_count": null,
   "metadata": {},
   "outputs": [],
   "source": [
    "%pip install pydub \n",
    "%pip install SpeechRecognition"
   ]
  },
  {
   "cell_type": "markdown",
   "metadata": {},
   "source": [
    "Pydub (WindowsError: [Error 2] The system can not find the file specified)\n",
    "<br>[The other way is put ffmpeg.exe,ffplay.exe in the current working directory](https://stackoverflow.com/questions/22284461/pydub-windowserror-error-2-the-system-can-not-find-the-file-specified)\n",
    "<br>[FFmpeg Installation](https://ffmpeg.org/download.html)"
   ]
  },
  {
   "cell_type": "code",
   "execution_count": 8,
   "metadata": {},
   "outputs": [],
   "source": [
    "import tqdm\n",
    "import pydub\n",
    "from pydub import AudioSegment\n",
    "import speech_recognition as sr"
   ]
  },
  {
   "cell_type": "markdown",
   "metadata": {},
   "source": [
    "### Split MP3 File & Convert WAV File"
   ]
  },
  {
   "cell_type": "code",
   "execution_count": 3,
   "metadata": {},
   "outputs": [],
   "source": [
    "src = \"Large Language Models Can Be Strong Differentially Private Learners.mp3\"\n",
    "audSeg = AudioSegment.from_mp3(src)\n",
    "number_of_file = 15\n",
    "seconds = len(audSeg) // number_of_file\n",
    "pbar = tqdm.tqdm(range(number_of_file + 1))\n",
    "for i in pbar: \n",
    "    dst = \"Large Language Models Can Be Strong Differentially Private Learners_\" + str(i) + \".wav\"\n",
    "    try:\n",
    "        if seconds * (i+1) >= len(audSeg) and seconds * i < len(audSeg):\n",
    "            part = audSeg[seconds * i:]    \n",
    "            part.export(dst, format=\"wav\")          \n",
    "        elif seconds * (i+1) < len(audSeg):            \n",
    "            part = audSeg[seconds * i:seconds * (i+1)]\n",
    "            part.export(dst, format=\"wav\")\n",
    "    except:\n",
    "        pass\n",
    "pbar.close"
   ]
  },
  {
   "cell_type": "code",
   "execution_count": 8,
   "metadata": {},
   "outputs": [],
   "source": [
    "orders = [\"00\", \"01\"]\n",
    "for order in orders:\n",
    "    src = \"Hidden Trigger Backdoor Attack on NLP Models via Linguistic Style Manipulation_\" + order + \".mp3\"\n",
    "    audSeg = AudioSegment.from_mp3(src)\n",
    "    number_of_file = 15\n",
    "    seconds = len(audSeg) // number_of_file\n",
    "    pbar = tqdm.tqdm(range(number_of_file + 1))\n",
    "    for i in pbar: \n",
    "        dst = \"Hidden Trigger Backdoor Attack on NLP Models via Linguistic Style Manipulation_\" + order + \"_\" + str(i) + \".wav\"\n",
    "        try:\n",
    "            if seconds * (i+1) >= len(audSeg) and seconds * i < len(audSeg):\n",
    "                part = audSeg[seconds * i:]    \n",
    "                part.export(dst, format=\"wav\")          \n",
    "            elif seconds * (i+1) < len(audSeg):            \n",
    "                part = audSeg[seconds * i:seconds * (i+1)]\n",
    "                part.export(dst, format=\"wav\")\n",
    "        except:\n",
    "            pass\n",
    "    pbar.close"
   ]
  },
  {
   "cell_type": "markdown",
   "metadata": {},
   "source": [
    "### Speech Recognition"
   ]
  },
  {
   "cell_type": "code",
   "execution_count": 10,
   "metadata": {},
   "outputs": [
    {
     "name": "stderr",
     "output_type": "stream",
     "text": [
      "  0%|          | 0/16 [00:00<?, ?it/s]"
     ]
    },
    {
     "name": "stderr",
     "output_type": "stream",
     "text": [
      "100%|██████████| 16/16 [06:40<00:00, 25.04s/it]\n"
     ]
    }
   ],
   "source": [
    "recognizer = sr.Recognizer()\n",
    "total_text = \"\"\n",
    "number_of_file = 15\n",
    "pbar = tqdm.tqdm(range(number_of_file + 1))\n",
    "\n",
    "for i in pbar: \n",
    "    file_path =  \"Large Language Models Can Be Strong Differentially Private Learners_\" + str(i) + \".wav\"\n",
    "    with sr.AudioFile(file_path) as source:\n",
    "        audio = recognizer.record(source)\n",
    "    text = recognizer.recognize_google(audio, language = 'en-IN', show_all = True)\n",
    "    try:\n",
    "        total_text += \"/n\" + text['alternative'][0]['transcript']\n",
    "    except:\n",
    "        pass\n",
    "pbar.close\n",
    "\n",
    "save_txt_path =  \"Large Language Models Can Be Strong Differentially Private Learners.txt\"\n",
    "with open(save_txt_path, 'a', encoding='utf-8') as fp:\n",
    "    fp.write(total_text)"
   ]
  },
  {
   "cell_type": "code",
   "execution_count": 17,
   "metadata": {},
   "outputs": [],
   "source": [
    "recognizer = sr.Recognizer()\n",
    "total_text = \"\"\n",
    "orders = [\"00\", \"01\"]\n",
    "number_of_file = 15\n",
    "pbar = tqdm.tqdm(range(number_of_file + 1))\n",
    "\n",
    "for order in orders:\n",
    "    for i in pbar: \n",
    "        file_path =  \"Hidden Trigger Backdoor Attack on NLP Models via Linguistic Style Manipulation_\" + order + \"_\" + str(i) + \".wav\"\n",
    "        with sr.AudioFile(file_path) as source:\n",
    "            audio = recognizer.record(source)\n",
    "        text = recognizer.recognize_google(audio, language = 'en-IN', show_all = True)\n",
    "        try:\n",
    "            total_text += \"/n\" + text['alternative'][0]['transcript']\n",
    "        except:\n",
    "            pass\n",
    "        \n",
    "pbar.close\n",
    "\n",
    "save_txt_path =  \"Hidden Trigger Backdoor Attack on NLP Models via Linguistic Style Manipulation.txt\"\n",
    "with open(save_txt_path, 'a', encoding='utf-8') as fp:\n",
    "    fp.write(total_text)"
   ]
  },
  {
   "cell_type": "code",
   "execution_count": 29,
   "metadata": {},
   "outputs": [
    {
     "name": "stdout",
     "output_type": "stream",
     "text": [
      "/nwhat is the back door to prepare the sugar sentences for back to injection\n"
     ]
    }
   ],
   "source": [
    "with open(\"Hidden Trigger Backdoor Attack on NLP Models via Linguistic Style Manipulation.txt\", 'r') as f:\n",
    "    lines = f.read().splitlines() \n",
    "    for line in lines:\n",
    "            print(line[:76])"
   ]
  },
  {
   "cell_type": "markdown",
   "metadata": {},
   "source": [
    "### Reference"
   ]
  },
  {
   "cell_type": "markdown",
   "metadata": {},
   "source": [
    "<b>Paper</b>\n",
    "<br>[X Pan et al. Hidden Trigger Backdoor Attack on NLP Models via Linguistic Style Manipulation. USENIX Security, 2022.](https://arxiv.org/abs/1706.03762)\n",
    "<br>[Xuechen Li et al. Large Language Models Can Be Strong Differentially Private Learners. ICLR, 2022.](https://arxiv.org/abs/1706.03762)\n",
    "\n",
    "<br><br><b>Youtube</b>\n",
    "<br>[USENIX Security '22 - Hidden Trigger Backdoor Attack on NLP Models via Linguistic Style Manipulation](https://youtu.be/J0uTI7UuB7k?feature=shared)\n",
    "\n",
    "<br><br><b>Slidesilve</b>\n",
    "<br>[NeurIPS 2021 Workshop - Privacy in Machine Learning (PriML) - Large Language Models Can Be Strong Differentially Private Learners](https://slideslive.com/38970720/large-language-models-can-be-strong-differentially-private-learners)"
   ]
  }
 ],
 "metadata": {
  "kernelspec": {
   "display_name": "exercise",
   "language": "python",
   "name": "python3"
  },
  "language_info": {
   "codemirror_mode": {
    "name": "ipython",
    "version": 3
   },
   "file_extension": ".py",
   "mimetype": "text/x-python",
   "name": "python",
   "nbconvert_exporter": "python",
   "pygments_lexer": "ipython3",
   "version": "3.11.5"
  },
  "orig_nbformat": 4
 },
 "nbformat": 4,
 "nbformat_minor": 2
}
