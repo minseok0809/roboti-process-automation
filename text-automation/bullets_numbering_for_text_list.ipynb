{
 "cells": [
  {
   "attachments": {},
   "cell_type": "markdown",
   "metadata": {},
   "source": [
    "## Bullets & Numbering For Text List "
   ]
  },
  {
   "cell_type": "markdown",
   "metadata": {},
   "source": []
  },
  {
   "cell_type": "markdown",
   "metadata": {},
   "source": []
  },
  {
   "attachments": {},
   "cell_type": "markdown",
   "metadata": {},
   "source": [
    "### Development Envrionment"
   ]
  },
  {
   "cell_type": "code",
   "execution_count": 10,
   "metadata": {},
   "outputs": [],
   "source": [
    "import re"
   ]
  },
  {
   "attachments": {},
   "cell_type": "markdown",
   "metadata": {},
   "source": [
    "### Bullets & Numbering"
   ]
  },
  {
   "attachments": {},
   "cell_type": "markdown",
   "metadata": {},
   "source": [
    "#### Robert Dimery <1001 Songs You Must Hear Before You Die>"
   ]
  },
  {
   "cell_type": "code",
   "execution_count": 2,
   "metadata": {},
   "outputs": [
    {
     "name": "stdout",
     "output_type": "stream",
     "text": [
      "O sole mio – Enrico Caruso\n",
      "St. Louis Blues – Bessie Smith\n",
      "Allons a Lafayette – Joe & Cleoma Falcon\n"
     ]
    }
   ],
   "source": [
    "line_num = 0\n",
    "with open('1001_songs.txt', 'r') as f:\n",
    "    lines = f.read().splitlines() \n",
    "    for line in lines:\n",
    "        line_num += 1\n",
    "        if line_num <= 3:\n",
    "            print(line)"
   ]
  },
  {
   "cell_type": "code",
   "execution_count": 4,
   "metadata": {},
   "outputs": [
    {
     "name": "stdout",
     "output_type": "stream",
     "text": [
      "1. O sole mio – Enrico Caruso\n",
      "2. St. Louis Blues – Bessie Smith\n",
      "3. Allons a Lafayette – Joe & Cleoma Falcon\n"
     ]
    }
   ],
   "source": [
    "line_num = 0\n",
    "with open('1001_songs.txt', 'r') as f:\n",
    "    lines = f.read().splitlines() \n",
    "    for line in lines:\n",
    "        line_num += 1\n",
    "        if line_num <= 3:\n",
    "            print(str(line_num) + \". \" + line)"
   ]
  },
  {
   "cell_type": "code",
   "execution_count": 5,
   "metadata": {},
   "outputs": [],
   "source": [
    "line_num = 0\n",
    "text = \"\"\n",
    "with open('1001_songs.txt', 'r') as f:\n",
    "    lines = f.read().splitlines() \n",
    "    for line in lines:\n",
    "        line_num += 1\n",
    "        line = str(line_num) + \". \" + line\n",
    "        text += (line + \"\\n\")\n",
    "\n",
    "with open('1001_songs_with_numbering.txt', 'w') as f:\n",
    "    f.write(text)"
   ]
  }
 ],
 "metadata": {
  "kernelspec": {
   "display_name": "vscode",
   "language": "python",
   "name": "python3"
  },
  "language_info": {
   "codemirror_mode": {
    "name": "ipython",
    "version": 3
   },
   "file_extension": ".py",
   "mimetype": "text/x-python",
   "name": "python",
   "nbconvert_exporter": "python",
   "pygments_lexer": "ipython3",
   "version": "3.11.5"
  },
  "orig_nbformat": 4,
  "vscode": {
   "interpreter": {
    "hash": "d717929ba838751f4ff0a01c71d98cfd63c6cc0362540d10631b9e314a288e77"
   }
  }
 },
 "nbformat": 4,
 "nbformat_minor": 2
}
