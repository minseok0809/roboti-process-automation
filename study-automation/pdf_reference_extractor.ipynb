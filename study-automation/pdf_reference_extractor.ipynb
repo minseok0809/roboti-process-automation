{
 "cells": [
  {
   "cell_type": "markdown",
   "metadata": {},
   "source": [
    "## PDF Reference Extractor"
   ]
  },
  {
   "cell_type": "markdown",
   "metadata": {},
   "source": [
    "<br>"
   ]
  },
  {
   "cell_type": "markdown",
   "metadata": {},
   "source": [
    "### Development Environment"
   ]
  },
  {
   "cell_type": "code",
   "execution_count": null,
   "metadata": {},
   "outputs": [],
   "source": [
    "%pip install PyPDF2"
   ]
  },
  {
   "cell_type": "code",
   "execution_count": 1,
   "metadata": {},
   "outputs": [],
   "source": [
    "from PyPDF2 import PdfReader"
   ]
  },
  {
   "cell_type": "markdown",
   "metadata": {},
   "source": [
    "### Reference Extractor"
   ]
  },
  {
   "cell_type": "code",
   "execution_count": 2,
   "metadata": {},
   "outputs": [],
   "source": [
    "def text_extractor_from_pdf(paper_path):\n",
    "    \n",
    "    reader = PdfReader(paper_path)\n",
    "    paper_pages = reader.pages\n",
    "\n",
    "    total_text_list = []\n",
    "\n",
    "    for paper_page in paper_pages:\n",
    "\n",
    "        pdf_paragrpah = paper_page.extract_text().split(\"\\n\")\n",
    "\n",
    "        for pdf_text in pdf_paragrpah:\n",
    "            total_text_list.append(pdf_text)\n",
    "\n",
    "    return total_text_list"
   ]
  },
  {
   "cell_type": "code",
   "execution_count": 9,
   "metadata": {},
   "outputs": [],
   "source": [
    "def reference_extractor_from_text(total_text_list, save_txt_path):\n",
    "\n",
    "    reference_text = \"\"\n",
    "    reference_text_list = []\n",
    "    begin_refrence_index = 0\n",
    "    end_refrence_index = 0\n",
    "\n",
    "    for index, text in enumerate(total_text_list):\n",
    "\n",
    "        if text.lower() == \"references\":\n",
    "            begin_refrence_index = index\n",
    "\n",
    "        elif 'quantization for vision transforme' in text:\n",
    "            end_refrence_index = index + 1\n",
    "\n",
    "    for index, text in enumerate(total_text_list):\n",
    "\n",
    "        if index >= begin_refrence_index and index < end_refrence_index:\n",
    "            reference_text_list.append(text) \n",
    "            reference_text += text + \"\\n\"\n",
    "\n",
    "    for idx, value in enumerate(reference_text_list):\n",
    "        if value.lower() == \"references\":\n",
    "            start_idx = idx\n",
    "\n",
    "    reference_text_list = reference_text_list[start_idx:]\n",
    "    \n",
    "    with open(save_txt_path, 'a', encoding='utf-8') as fp:\n",
    "        fp.write(\"\\n\".join(reference_text_list))\n",
    "\n",
    "    return reference_text"
   ]
  },
  {
   "cell_type": "code",
   "execution_count": 7,
   "metadata": {},
   "outputs": [],
   "source": [
    "def reference_extractor_from_pdf(paper_path, save_txt_path):\n",
    "\n",
    "    total_text_list = text_extractor_from_pdf(paper_path)\n",
    "    reference_text = reference_extractor_from_text(total_text_list, save_txt_path)\n",
    "\n",
    "    return reference_text"
   ]
  },
  {
   "cell_type": "code",
   "execution_count": 10,
   "metadata": {},
   "outputs": [],
   "source": [
    "# paper_path = \"LLaMA Open and Efficient Foundation Language Models.pdf\"\n",
    "paper_path =  \"Patch-wise Mixed-Precision Quantization of Vision Transformer, Junrui Xiao et al., 2023, v1.pdf\"\n",
    "save_txt_path = 'paper_reference.txt'\n",
    "reference_text = reference_extractor_from_pdf(paper_path, save_txt_path)"
   ]
  },
  {
   "cell_type": "code",
   "execution_count": 8,
   "metadata": {},
   "outputs": [],
   "source": [
    "line_list = []\n",
    "line_num = 0\n",
    "with open('paper_reference.txt', 'r', encoding='utf-8') as f:\n",
    "    lines = f.read().splitlines() \n",
    "    for line in lines:\n",
    "        line_num += 1\n",
    "        if line_num <= 11:\n",
    "           line_list.append(line)\n",
    "for line in line_list:\n",
    "    print(line, end=\"\\n\")"
   ]
  },
  {
   "cell_type": "markdown",
   "metadata": {},
   "source": [
    "### Reference"
   ]
  },
  {
   "cell_type": "markdown",
   "metadata": {},
   "source": [
    "<b>Paper</b>\n",
    "<br>[Hugo Touvron et al. LLaMA: Open and Efficient Foundation Language Models](https://arxiv.org/abs/2302.13971)\n",
    "<br>[Junrui Xiao et al. Patch-wise Mixed-Precision Quantization of Vision Transformer](https://arxiv.org/abs/2305.06559)"
   ]
  }
 ],
 "metadata": {
  "kernelspec": {
   "display_name": "exercise",
   "language": "python",
   "name": "python3"
  },
  "language_info": {
   "codemirror_mode": {
    "name": "ipython",
    "version": 3
   },
   "file_extension": ".py",
   "mimetype": "text/x-python",
   "name": "python",
   "nbconvert_exporter": "python",
   "pygments_lexer": "ipython3",
   "version": "3.11.3"
  },
  "orig_nbformat": 4
 },
 "nbformat": 4,
 "nbformat_minor": 2
}
