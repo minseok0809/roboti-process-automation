{
 "cells": [
  {
   "attachments": {},
   "cell_type": "markdown",
   "metadata": {},
   "source": [
    "## Lecture Note (Text Editor) "
   ]
  },
  {
   "cell_type": "markdown",
   "metadata": {},
   "source": []
  },
  {
   "cell_type": "markdown",
   "metadata": {},
   "source": []
  },
  {
   "attachments": {},
   "cell_type": "markdown",
   "metadata": {},
   "source": [
    "### Development Envrionment"
   ]
  },
  {
   "cell_type": "code",
   "execution_count": 2,
   "metadata": {},
   "outputs": [],
   "source": [
    "import re"
   ]
  },
  {
   "attachments": {},
   "cell_type": "markdown",
   "metadata": {},
   "source": [
    "### Lecture Note"
   ]
  },
  {
   "attachments": {},
   "cell_type": "markdown",
   "metadata": {},
   "source": [
    "[클로바노트](https://clovanote.naver.com/home)\n",
    "<br/>[다글로](https://daglo.ai/)"
   ]
  },
  {
   "cell_type": "code",
   "execution_count": 14,
   "metadata": {},
   "outputs": [
    {
     "name": "stdout",
     "output_type": "stream",
     "text": [
      "참석자 1 00:00열린연단 문화의 안과 박 패러다임의 최적가 갱신 세 번째 파트 정치 경제의 두 번째 강연입니다. 전체적으로 23강이 되겠습니다. 국제정치와 평화라는 주제로 오늘 강연과 토론을 진행하겠습니다. 저희가 알다시피 루소는\n",
      "참석자 1 00:23삶과 사상 모두에서 그런 폭풍 같은 여정을 보여준 사상가인데 오늘 한국외국어대학교에 김용민 교수님을 모시고 강연을 듣도록 하겠습니다. 김 교수님은 서울대학교 정치학과를 졸업하시고 동 대학원에서 석사학위를 그리고\n",
      "참석자 1 00:43미국 시카고 대학교에서 정치학 석사와 박사학위를 받으셨습니다. 현재 한국외국어대학교 정치학과 교수로 계시고 아산정책연구원의 이사로도 활동하고 계십니다. 그동안 한국외국어대학교 사회과학대학 학장 한국정치사상학회 회장을 역임하셨습니다. 저서로는 루소의 정치철학이 있고\n",
      "참석자 1 01:06공조로는 로서 정치를 논하다 좋은 삶의 정치사상 서양 근대 정치사상 등이 있습니다. 근간 예정인 저서로는 정치 키케로의 철학이 있습니다. 그러면 김영민 교수님을 모셔서 강연을 듣도록 하겠습니다. 하 박수로 맞으시니\n"
     ]
    }
   ],
   "source": [
    "line_num = 0\n",
    "with open('[열린연단] 루소 국제 정치와 평화.txt', 'r') as f:\n",
    "    lines = f.read().splitlines() \n",
    "    for line in lines:\n",
    "        line_num += 1\n",
    "        if line_num >= 10 and line_num <= 13:\n",
    "            print(line)"
   ]
  },
  {
   "cell_type": "code",
   "execution_count": 15,
   "metadata": {},
   "outputs": [],
   "source": [
    "text = \"\"\n",
    "with open('[열린연단] 루소 국제 정치와 평화.txt', 'r') as f:\n",
    "    lines = f.read().splitlines() \n",
    "    for line in lines:\n",
    "        line = re.sub(r\"참석자 +[0-9] \", \"\", line)\n",
    "        line = re.sub(r\"[0-9]+[0-9]+:+[0-9]+[0-9]\", \"\", line)\n",
    "        line = re.sub(r\"참석자 +[0-9] +[0-9]+[0-9]+:+[0-9]+[0-9]\", \"\", line)\n",
    "        text += (line + \"\\n\")\n",
    "        \n",
    "with open('[열린연단] 루소 국제 정치와 평화_completion.txt', 'w') as f:\n",
    "    f.write(text)"
   ]
  },
  {
   "cell_type": "code",
   "execution_count": 16,
   "metadata": {},
   "outputs": [
    {
     "name": "stdout",
     "output_type": "stream",
     "text": [
      "열린연단 문화의 안과 박 패러다임의 최적가 갱신 세 번째 파트 정치 경제의 두 번째 강연입니다. 전체적으로 23강이 되겠습니다. 국제정치와 평화라는 주제로 오늘 강연과 토론을 진행하겠습니다. 저희가 알다시피 루소는\n",
      "삶과 사상 모두에서 그런 폭풍 같은 여정을 보여준 사상가인데 오늘 한국외국어대학교에 김용민 교수님을 모시고 강연을 듣도록 하겠습니다. 김 교수님은 서울대학교 정치학과를 졸업하시고 동 대학원에서 석사학위를 그리고\n",
      "미국 시카고 대학교에서 정치학 석사와 박사학위를 받으셨습니다. 현재 한국외국어대학교 정치학과 교수로 계시고 아산정책연구원의 이사로도 활동하고 계십니다. 그동안 한국외국어대학교 사회과학대학 학장 한국정치사상학회 회장을 역임하셨습니다. 저서로는 루소의 정치철학이 있고\n",
      "공조로는 로서 정치를 논하다 좋은 삶의 정치사상 서양 근대 정치사상 등이 있습니다. 근간 예정인 저서로는 정치 키케로의 철학이 있습니다. 그러면 김영민 교수님을 모셔서 강연을 듣도록 하겠습니다. 하 박수로 맞으시니\n"
     ]
    }
   ],
   "source": [
    "line_num = 0\n",
    "with open('[열린연단] 루소 국제 정치와 평화_completion.txt', 'r') as f:\n",
    "    lines = f.read().splitlines() \n",
    "    for line in lines:\n",
    "        line_num += 1\n",
    "        if line_num >= 10 and line_num <= 13:\n",
    "            print(line)"
   ]
  }
 ],
 "metadata": {
  "kernelspec": {
   "display_name": "vscode",
   "language": "python",
   "name": "python3"
  },
  "language_info": {
   "codemirror_mode": {
    "name": "ipython",
    "version": 3
   },
   "file_extension": ".py",
   "mimetype": "text/x-python",
   "name": "python",
   "nbconvert_exporter": "python",
   "pygments_lexer": "ipython3",
   "version": "3.10.9"
  },
  "orig_nbformat": 4,
  "vscode": {
   "interpreter": {
    "hash": "d717929ba838751f4ff0a01c71d98cfd63c6cc0362540d10631b9e314a288e77"
   }
  }
 },
 "nbformat": 4,
 "nbformat_minor": 2
}
