{
 "cells": [
  {
   "attachments": {},
   "cell_type": "markdown",
   "metadata": {},
   "source": [
    "### HTML Table to Dataframe Converter (Beautifulsoup)"
   ]
  },
  {
   "cell_type": "markdown",
   "metadata": {},
   "source": [
    "<br>"
   ]
  },
  {
   "cell_type": "markdown",
   "metadata": {},
   "source": [
    "### Development Environment"
   ]
  },
  {
   "cell_type": "code",
   "execution_count": 1,
   "metadata": {},
   "outputs": [],
   "source": [
    "import re\n",
    "import requests\n",
    "import pandas as pd\n",
    "from glob import glob\n",
    "from bs4 import BeautifulSoup"
   ]
  },
  {
   "cell_type": "markdown",
   "metadata": {},
   "source": [
    "### Page Information"
   ]
  },
  {
   "cell_type": "code",
   "execution_count": 2,
   "metadata": {},
   "outputs": [],
   "source": [
    "def make_page_soup(link):\n",
    "    target = link\n",
    "    response = requests.get(target)\n",
    "    response.raise_for_status()\n",
    "    response.encoding='EUC-KR'\n",
    "    page = str(response.content)\n",
    "    soup = BeautifulSoup(response.text, 'html.parser') \n",
    "    return page, soup"
   ]
  },
  {
   "cell_type": "code",
   "execution_count": 3,
   "metadata": {},
   "outputs": [],
   "source": [
    "link = \"http://web.stanford.edu/class/cs224n/\"\n",
    "page, soup = make_page_soup(link)\n",
    "tables = soup.find_all('table', attrs={'class':'table'})\n",
    "table = tables[1]"
   ]
  },
  {
   "cell_type": "markdown",
   "metadata": {},
   "source": [
    "### HTML Table to Dataframe Converter"
   ]
  },
  {
   "cell_type": "code",
   "execution_count": 24,
   "metadata": {},
   "outputs": [],
   "source": [
    "def parse_by_pattern(text):\n",
    "    link_list = []\n",
    "    final_link_list = []\n",
    "    href_pattern = re.findall(r'href=[\\'\"]?([^\\'\" >]+)', text)\n",
    "    if href_pattern != None:\n",
    "        number_of_link = len(href_pattern)\n",
    "        for i in range(number_of_link):\n",
    "            link = href_pattern[i]\n",
    "            link_list.append(link)\n",
    "        for link in link_list:\n",
    "            if \"slides/\" in link or \"project/\" in link or \\\n",
    "                \"readings/\" in link or 'assignments/' in link:\n",
    "                link = \"http://web.stanford.edu/class/cs224n/\" + link\n",
    "                final_link_list.append(link)\n",
    "    html_pattern = \"<(?:\\\"[^\\\"]*\\\"['\\\"]*|'[^']*'['\\\"]*|[^'\\\">])+>\"\n",
    "    text = re.sub(html_pattern, ' ', text) \n",
    "    try:\n",
    "        if len(final_link_list) > 0:\n",
    "            for link in final_link_list:\n",
    "                text +=  \"\\n\" + link\n",
    "        else:\n",
    "            for link in link_list:\n",
    "                text +=  \"\\n\" + link\n",
    "    except:\n",
    "        pass  \n",
    "    text = text.strip()\n",
    "    text += \"\\n\\n\"\n",
    "    return text"
   ]
  },
  {
   "cell_type": "code",
   "execution_count": 46,
   "metadata": {},
   "outputs": [],
   "source": [
    "date_list = []\n",
    "slides_tutorial_list = []\n",
    "readings_list = []\n",
    "assignment_list = []\n",
    "\n",
    "table_tr = table('tr')\n",
    "for i in range(len(table_tr)):\n",
    "    if i > 0:\n",
    "        try:\n",
    "            date = str(table_tr[i]('td')[0])            \n",
    "            date = parse_by_pattern(date)\n",
    "        except:\n",
    "            date = None        \n",
    "        try:\n",
    "            slides_tutorial = str(table_tr[i]('td')[1])\n",
    "            slides_tutorial = parse_by_pattern(slides_tutorial)\n",
    "        except:\n",
    "            slides_tutorial = None\n",
    "        try:    \n",
    "            readings = str(table_tr[i]('td')[2])\n",
    "            readings = parse_by_pattern(readings)\n",
    "        except:\n",
    "            readings = None\n",
    "        try:   \n",
    "            assignment = str(table_tr[i]('td')[3])\n",
    "            assignment = parse_by_pattern(assignment)\n",
    "        except:\n",
    "            assignment = None\n",
    "\n",
    "        date_list.append(date)\n",
    "        slides_tutorial_list.append(slides_tutorial)\n",
    "        readings_list.append(readings)\n",
    "        assignment_list.append(assignment)  "
   ]
  },
  {
   "cell_type": "code",
   "execution_count": 54,
   "metadata": {},
   "outputs": [],
   "source": [
    "slides_tutorial_df = pd.DataFrame({'date':date_list, 'content':slides_tutorial_list})\n",
    "readings_df = pd.DataFrame({'date':date_list, 'content':readings_list})\n",
    "assignment_df = pd.DataFrame({'date':date_list, 'content':assignment_list})"
   ]
  },
  {
   "cell_type": "code",
   "execution_count": 55,
   "metadata": {},
   "outputs": [],
   "source": [
    "slides_tutorial_df.to_csv(\"slides_tutorial.txt\")\n",
    "readings_df.to_csv(\"readings.txt\")\n",
    "assignment_df.to_csv(\"assignment.txt\")"
   ]
  },
  {
   "cell_type": "code",
   "execution_count": 56,
   "metadata": {},
   "outputs": [],
   "source": [
    "slides_tutorial_df.to_excel(\"slides_tutorial.xlsx\")\n",
    "readings_df.to_excel(\"readings.xlsx\")\n",
    "assignment_df.to_excel(\"assignment.xlsx\")"
   ]
  },
  {
   "cell_type": "code",
   "execution_count": 57,
   "metadata": {},
   "outputs": [],
   "source": [
    "pd.set_option('display.max_rows', 5)\n",
    "pd.set_option('display.max_colwidth', 180)"
   ]
  },
  {
   "cell_type": "code",
   "execution_count": 58,
   "metadata": {},
   "outputs": [
    {
     "data": {
      "text/html": [
       "<div>\n",
       "<style scoped>\n",
       "    .dataframe tbody tr th:only-of-type {\n",
       "        vertical-align: middle;\n",
       "    }\n",
       "\n",
       "    .dataframe tbody tr th {\n",
       "        vertical-align: top;\n",
       "    }\n",
       "\n",
       "    .dataframe thead th {\n",
       "        text-align: right;\n",
       "    }\n",
       "</style>\n",
       "<table border=\"1\" class=\"dataframe\">\n",
       "  <thead>\n",
       "    <tr style=\"text-align: right;\">\n",
       "      <th></th>\n",
       "      <th>date</th>\n",
       "      <th>content</th>\n",
       "    </tr>\n",
       "  </thead>\n",
       "  <tbody>\n",
       "    <tr>\n",
       "      <th>0</th>\n",
       "      <td>Tue Jan 10    Week 1\\n\\n</td>\n",
       "      <td>Word Vectors  (by John Hewitt) \\n \\n      [ slides ]\\n       video ]--&gt;\\n      [ notes ]\\n        \\n      Gensim word vectors example:\\n       \\n      [ code ]\\n      [ preview...</td>\n",
       "    </tr>\n",
       "    <tr>\n",
       "      <th>1</th>\n",
       "      <td>Thu Jan 12\\n\\n</td>\n",
       "      <td>Word Vectors,  Word Window Classification, Language Models\\n       \\n      [ slides ]\\n       video ]--&gt;\\n      [ notes ]\\n     \\nhttp://web.stanford.edu/class/cs224n/slides/cs...</td>\n",
       "    </tr>\n",
       "    <tr>\n",
       "      <th>...</th>\n",
       "      <td>...</td>\n",
       "      <td>...</td>\n",
       "    </tr>\n",
       "    <tr>\n",
       "      <th>27</th>\n",
       "      <td>Sat Mar 18\\n\\n</td>\n",
       "      <td>\\n\\n</td>\n",
       "    </tr>\n",
       "    <tr>\n",
       "      <th>28</th>\n",
       "      <td>Monday Mar 20\\n\\n</td>\n",
       "      <td>Poster Session\\n       \\n      [ code ]\\n      [ preview ]--&gt;\\n \\nhttp://web.stanford.edu/class/cs224n/readings/cs224n-python-review-code-updated.zip\\nhttp://web.stanford.edu/c...</td>\n",
       "    </tr>\n",
       "  </tbody>\n",
       "</table>\n",
       "<p>29 rows × 2 columns</p>\n",
       "</div>"
      ],
      "text/plain": [
       "                        date  \\\n",
       "0   Tue Jan 10    Week 1\\n\\n   \n",
       "1             Thu Jan 12\\n\\n   \n",
       "..                       ...   \n",
       "27            Sat Mar 18\\n\\n   \n",
       "28         Monday Mar 20\\n\\n   \n",
       "\n",
       "                                                                                                                                                                                content  \n",
       "0   Word Vectors  (by John Hewitt) \\n \\n      [ slides ]\\n       video ]-->\\n      [ notes ]\\n        \\n      Gensim word vectors example:\\n       \\n      [ code ]\\n      [ preview...  \n",
       "1   Word Vectors,  Word Window Classification, Language Models\\n       \\n      [ slides ]\\n       video ]-->\\n      [ notes ]\\n     \\nhttp://web.stanford.edu/class/cs224n/slides/cs...  \n",
       "..                                                                                                                                                                                  ...  \n",
       "27                                                                                                                                                                                 \\n\\n  \n",
       "28  Poster Session\\n       \\n      [ code ]\\n      [ preview ]-->\\n \\nhttp://web.stanford.edu/class/cs224n/readings/cs224n-python-review-code-updated.zip\\nhttp://web.stanford.edu/c...  \n",
       "\n",
       "[29 rows x 2 columns]"
      ]
     },
     "execution_count": 58,
     "metadata": {},
     "output_type": "execute_result"
    }
   ],
   "source": [
    "slides_tutorial_df"
   ]
  },
  {
   "cell_type": "code",
   "execution_count": 59,
   "metadata": {},
   "outputs": [
    {
     "data": {
      "text/html": [
       "<div>\n",
       "<style scoped>\n",
       "    .dataframe tbody tr th:only-of-type {\n",
       "        vertical-align: middle;\n",
       "    }\n",
       "\n",
       "    .dataframe tbody tr th {\n",
       "        vertical-align: top;\n",
       "    }\n",
       "\n",
       "    .dataframe thead th {\n",
       "        text-align: right;\n",
       "    }\n",
       "</style>\n",
       "<table border=\"1\" class=\"dataframe\">\n",
       "  <thead>\n",
       "    <tr style=\"text-align: right;\">\n",
       "      <th></th>\n",
       "      <th>date</th>\n",
       "      <th>content</th>\n",
       "    </tr>\n",
       "  </thead>\n",
       "  <tbody>\n",
       "    <tr>\n",
       "      <th>0</th>\n",
       "      <td>Tue Jan 10    Week 1\\n\\n</td>\n",
       "      <td>Suggested Readings:\\n       \\n  Efficient Estimation of Word Representations in Vector Space  (original word2vec paper) \\n  Distributed Representations of Words and Phrases and...</td>\n",
       "    </tr>\n",
       "    <tr>\n",
       "      <th>1</th>\n",
       "      <td>Thu Jan 12\\n\\n</td>\n",
       "      <td>Suggested Readings:\\n       \\n  GloVe: Global Vectors for Word Representation  (original GloVe paper) \\n  Improving Distributional Similarity with Lessons Learned from Word Emb...</td>\n",
       "    </tr>\n",
       "    <tr>\n",
       "      <th>...</th>\n",
       "      <td>...</td>\n",
       "      <td>...</td>\n",
       "    </tr>\n",
       "    <tr>\n",
       "      <th>27</th>\n",
       "      <td>Sat Mar 18\\n\\n</td>\n",
       "      <td>\\n\\n</td>\n",
       "    </tr>\n",
       "    <tr>\n",
       "      <th>28</th>\n",
       "      <td>Monday Mar 20\\n\\n</td>\n",
       "      <td>5pm-9pm [ More details ] \\n      Location: Tressider Oak Lounge\\n     \\nproject.html\\n\\n</td>\n",
       "    </tr>\n",
       "  </tbody>\n",
       "</table>\n",
       "<p>29 rows × 2 columns</p>\n",
       "</div>"
      ],
      "text/plain": [
       "                        date  \\\n",
       "0   Tue Jan 10    Week 1\\n\\n   \n",
       "1             Thu Jan 12\\n\\n   \n",
       "..                       ...   \n",
       "27            Sat Mar 18\\n\\n   \n",
       "28         Monday Mar 20\\n\\n   \n",
       "\n",
       "                                                                                                                                                                                content  \n",
       "0   Suggested Readings:\\n       \\n  Efficient Estimation of Word Representations in Vector Space  (original word2vec paper) \\n  Distributed Representations of Words and Phrases and...  \n",
       "1   Suggested Readings:\\n       \\n  GloVe: Global Vectors for Word Representation  (original GloVe paper) \\n  Improving Distributional Similarity with Lessons Learned from Word Emb...  \n",
       "..                                                                                                                                                                                  ...  \n",
       "27                                                                                                                                                                                 \\n\\n  \n",
       "28                                                                                             5pm-9pm [ More details ] \\n      Location: Tressider Oak Lounge\\n     \\nproject.html\\n\\n  \n",
       "\n",
       "[29 rows x 2 columns]"
      ]
     },
     "execution_count": 59,
     "metadata": {},
     "output_type": "execute_result"
    }
   ],
   "source": [
    "readings_df"
   ]
  },
  {
   "cell_type": "code",
   "execution_count": 60,
   "metadata": {},
   "outputs": [
    {
     "data": {
      "text/html": [
       "<div>\n",
       "<style scoped>\n",
       "    .dataframe tbody tr th:only-of-type {\n",
       "        vertical-align: middle;\n",
       "    }\n",
       "\n",
       "    .dataframe tbody tr th {\n",
       "        vertical-align: top;\n",
       "    }\n",
       "\n",
       "    .dataframe thead th {\n",
       "        text-align: right;\n",
       "    }\n",
       "</style>\n",
       "<table border=\"1\" class=\"dataframe\">\n",
       "  <thead>\n",
       "    <tr style=\"text-align: right;\">\n",
       "      <th></th>\n",
       "      <th>date</th>\n",
       "      <th>content</th>\n",
       "    </tr>\n",
       "  </thead>\n",
       "  <tbody>\n",
       "    <tr>\n",
       "      <th>0</th>\n",
       "      <td>Tue Jan 10    Week 1\\n\\n</td>\n",
       "      <td>Assignment 1   out  \\n \\n      [ code ]\\n       \\n        [ preview ]\\n     \\nhttp://web.stanford.edu/class/cs224n/assignments/a1.zip\\nhttp://web.stanford.edu/class/cs224n/assi...</td>\n",
       "    </tr>\n",
       "    <tr>\n",
       "      <th>1</th>\n",
       "      <td>Thu Jan 12\\n\\n</td>\n",
       "      <td>\\n\\n</td>\n",
       "    </tr>\n",
       "    <tr>\n",
       "      <th>...</th>\n",
       "      <td>...</td>\n",
       "      <td>...</td>\n",
       "    </tr>\n",
       "    <tr>\n",
       "      <th>27</th>\n",
       "      <td>Sat Mar 18\\n\\n</td>\n",
       "      <td>\\n\\n</td>\n",
       "    </tr>\n",
       "    <tr>\n",
       "      <th>28</th>\n",
       "      <td>Monday Mar 20\\n\\n</td>\n",
       "      <td>\\n\\n</td>\n",
       "    </tr>\n",
       "  </tbody>\n",
       "</table>\n",
       "<p>29 rows × 2 columns</p>\n",
       "</div>"
      ],
      "text/plain": [
       "                        date  \\\n",
       "0   Tue Jan 10    Week 1\\n\\n   \n",
       "1             Thu Jan 12\\n\\n   \n",
       "..                       ...   \n",
       "27            Sat Mar 18\\n\\n   \n",
       "28         Monday Mar 20\\n\\n   \n",
       "\n",
       "                                                                                                                                                                                content  \n",
       "0   Assignment 1   out  \\n \\n      [ code ]\\n       \\n        [ preview ]\\n     \\nhttp://web.stanford.edu/class/cs224n/assignments/a1.zip\\nhttp://web.stanford.edu/class/cs224n/assi...  \n",
       "1                                                                                                                                                                                  \\n\\n  \n",
       "..                                                                                                                                                                                  ...  \n",
       "27                                                                                                                                                                                 \\n\\n  \n",
       "28                                                                                                                                                                                 \\n\\n  \n",
       "\n",
       "[29 rows x 2 columns]"
      ]
     },
     "execution_count": 60,
     "metadata": {},
     "output_type": "execute_result"
    }
   ],
   "source": [
    "assignment_df"
   ]
  },
  {
   "cell_type": "markdown",
   "metadata": {},
   "source": [
    "<br>"
   ]
  },
  {
   "attachments": {},
   "cell_type": "markdown",
   "metadata": {},
   "source": [
    "### Reference"
   ]
  },
  {
   "attachments": {},
   "cell_type": "markdown",
   "metadata": {},
   "source": [
    "<br><b>MOOC<b>\n",
    "<br>[CS224N: Natural Language Processing with Deep Learning, Stanford University](http://web.stanford.edu/class/cs224n/)"
   ]
  }
 ],
 "metadata": {
  "kernelspec": {
   "display_name": "exercise",
   "language": "python",
   "name": "python3"
  },
  "language_info": {
   "codemirror_mode": {
    "name": "ipython",
    "version": 3
   },
   "file_extension": ".py",
   "mimetype": "text/x-python",
   "name": "python",
   "nbconvert_exporter": "python",
   "pygments_lexer": "ipython3",
   "version": "3.11.3"
  },
  "orig_nbformat": 4
 },
 "nbformat": 4,
 "nbformat_minor": 2
}
