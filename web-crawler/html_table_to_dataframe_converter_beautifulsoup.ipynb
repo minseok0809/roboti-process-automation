{
 "cells": [
  {
   "attachments": {},
   "cell_type": "markdown",
   "metadata": {},
   "source": [
    "### HTML Table to Dataframe Converter (Beautifulsoup)"
   ]
  },
  {
   "cell_type": "markdown",
   "metadata": {},
   "source": [
    "<br>"
   ]
  },
  {
   "cell_type": "markdown",
   "metadata": {},
   "source": [
    "### Development Environment"
   ]
  },
  {
   "cell_type": "code",
   "execution_count": 2,
   "metadata": {},
   "outputs": [],
   "source": [
    "import re\n",
    "import requests\n",
    "import pandas as pd\n",
    "from glob import glob\n",
    "from bs4 import BeautifulSoup"
   ]
  },
  {
   "cell_type": "markdown",
   "metadata": {},
   "source": [
    "### Page Information"
   ]
  },
  {
   "cell_type": "code",
   "execution_count": 3,
   "metadata": {},
   "outputs": [],
   "source": [
    "def make_page_soup(link):\n",
    "    target = link\n",
    "    response = requests.get(target)\n",
    "    response.raise_for_status()\n",
    "    response.encoding='EUC-KR'\n",
    "    page = str(response.content)\n",
    "    soup = BeautifulSoup(response.text, 'html.parser') \n",
    "    return page, soup"
   ]
  },
  {
   "cell_type": "code",
   "execution_count": 4,
   "metadata": {},
   "outputs": [],
   "source": [
    "link = \"http://web.stanford.edu/class/cs224n/\"\n",
    "page, soup = make_page_soup(link)\n",
    "tables = soup.find_all('table', attrs={'class':'table'})\n",
    "table = tables[1]"
   ]
  },
  {
   "cell_type": "markdown",
   "metadata": {},
   "source": [
    "### HTML Table to Dataframe Converter"
   ]
  },
  {
   "cell_type": "code",
   "execution_count": 33,
   "metadata": {},
   "outputs": [],
   "source": [
    "def parse_by_pattern(text):\n",
    "    link_list = []\n",
    "    final_link_list = []\n",
    "    href_pattern = re.findall(r'href=[\\'\"]?([^\\'\" >]+)', text)\n",
    "    if href_pattern != None:\n",
    "        number_of_link = len(href_pattern)\n",
    "        for i in range(number_of_link):\n",
    "            link = href_pattern[i]\n",
    "            link_list.append(link)\n",
    "        for link in link_list:\n",
    "            if \"slides/\" in link or \"project/\" in link or \\\n",
    "                \"readings/\" in link or 'assignments/' in link:\n",
    "                link = \"http://web.stanford.edu/class/cs224n/\" + link\n",
    "                final_link_list.append(link)\n",
    "    html_pattern = \"<(?:\\\"[^\\\"]*\\\"['\\\"]*|'[^']*'['\\\"]*|[^'\\\">])+>\"\n",
    "    text = re.sub(html_pattern, ' ', text) \n",
    "    try:\n",
    "        if len(final_link_list) > 0:\n",
    "            for link in final_link_list:\n",
    "                text +=  \" \" + link\n",
    "        else:\n",
    "            for link in link_list:\n",
    "                text +=  \" \" + link\n",
    "    except:\n",
    "        pass  \n",
    "    text = re.sub(r\"\\s+\", \" \", text)\n",
    "    text = text.strip()\n",
    "    return text"
   ]
  },
  {
   "cell_type": "code",
   "execution_count": 34,
   "metadata": {},
   "outputs": [],
   "source": [
    "date_list = []\n",
    "slides_tutorial_list = []\n",
    "readings_list = []\n",
    "assignment_list = []\n",
    "\n",
    "table_tr = table('tr')\n",
    "for i in range(len(table_tr)):\n",
    "    if i > 0:\n",
    "        try:\n",
    "            date = str(table_tr[i]('td')[0])            \n",
    "            date = parse_by_pattern(date)\n",
    "        except:\n",
    "            date = None        \n",
    "        try:\n",
    "            slides_tutorial = str(table_tr[i]('td')[1])\n",
    "            slides_tutorial = parse_by_pattern(slides_tutorial)\n",
    "        except:\n",
    "            slides_tutorial = None\n",
    "        try:    \n",
    "            readings = str(table_tr[i]('td')[2])\n",
    "            readings = parse_by_pattern(readings)\n",
    "        except:\n",
    "            readings = None\n",
    "        try:   \n",
    "            assignment = str(table_tr[i]('td')[3])\n",
    "            assignment = parse_by_pattern(assignment)\n",
    "        except:\n",
    "            assignment = None\n",
    "\n",
    "        date_list.append(date)\n",
    "        slides_tutorial_list.append(slides_tutorial)\n",
    "        readings_list.append(readings)\n",
    "        assignment_list.append(assignment)  "
   ]
  },
  {
   "cell_type": "code",
   "execution_count": 35,
   "metadata": {},
   "outputs": [],
   "source": [
    "slides_tutorial_list = [v for v in slides_tutorial_list if v]\n",
    "readings_list = [v for v in readings_list if v]\n",
    "assignment_list = [v for v in assignment_list if v]"
   ]
  },
  {
   "cell_type": "code",
   "execution_count": 36,
   "metadata": {},
   "outputs": [],
   "source": [
    "slides_tutorial_df = pd.DataFrame({'content':slides_tutorial_list})\n",
    "readings_df = pd.DataFrame({'content':readings_list})\n",
    "assignment_df = pd.DataFrame({'content':assignment_list})"
   ]
  },
  {
   "cell_type": "code",
   "execution_count": 37,
   "metadata": {},
   "outputs": [],
   "source": [
    "slides_tutorial_df.to_excel(\"slides_tutorial.xlsx\")\n",
    "readings_df.to_excel(\"readings.xlsx\")\n",
    "assignment_df.to_excel(\"assignment.xlsx\")"
   ]
  },
  {
   "cell_type": "code",
   "execution_count": 38,
   "metadata": {},
   "outputs": [],
   "source": [
    "pd.set_option('display.max_rows', 5)\n",
    "pd.set_option('display.max_colwidth', 180)"
   ]
  },
  {
   "cell_type": "code",
   "execution_count": 39,
   "metadata": {},
   "outputs": [
    {
     "data": {
      "text/html": [
       "<div>\n",
       "<style scoped>\n",
       "    .dataframe tbody tr th:only-of-type {\n",
       "        vertical-align: middle;\n",
       "    }\n",
       "\n",
       "    .dataframe tbody tr th {\n",
       "        vertical-align: top;\n",
       "    }\n",
       "\n",
       "    .dataframe thead th {\n",
       "        text-align: right;\n",
       "    }\n",
       "</style>\n",
       "<table border=\"1\" class=\"dataframe\">\n",
       "  <thead>\n",
       "    <tr style=\"text-align: right;\">\n",
       "      <th></th>\n",
       "      <th>content</th>\n",
       "    </tr>\n",
       "  </thead>\n",
       "  <tbody>\n",
       "    <tr>\n",
       "      <th>0</th>\n",
       "      <td>Word Vectors (by John Hewitt) [ slides ] video ]--&gt; [ notes ] Gensim word vectors example: [ code ] [ preview ] http://web.stanford.edu/class/cs224n/slides/cs224n-2023-lecture0...</td>\n",
       "    </tr>\n",
       "    <tr>\n",
       "      <th>1</th>\n",
       "      <td>Word Vectors, Word Window Classification, Language Models [ slides ] video ]--&gt; [ notes ] http://web.stanford.edu/class/cs224n/slides/cs224n-2023-lecture02-wordvecs2.pdf http:/...</td>\n",
       "    </tr>\n",
       "    <tr>\n",
       "      <th>...</th>\n",
       "      <td>...</td>\n",
       "    </tr>\n",
       "    <tr>\n",
       "      <th>25</th>\n",
       "      <td>Final Project Emergency Assistance (no lecture) [ slides ]--&gt; http://web.stanford.edu/class/cs224n/slides/cs224n-2021-lecture18-future.pdf</td>\n",
       "    </tr>\n",
       "    <tr>\n",
       "      <th>26</th>\n",
       "      <td>Poster Session [ code ] [ preview ]--&gt; http://web.stanford.edu/class/cs224n/readings/cs224n-python-review-code-updated.zip http://web.stanford.edu/class/cs224n/readings/cs224n-...</td>\n",
       "    </tr>\n",
       "  </tbody>\n",
       "</table>\n",
       "<p>27 rows × 1 columns</p>\n",
       "</div>"
      ],
      "text/plain": [
       "                                                                                                                                                                                content\n",
       "0   Word Vectors (by John Hewitt) [ slides ] video ]--> [ notes ] Gensim word vectors example: [ code ] [ preview ] http://web.stanford.edu/class/cs224n/slides/cs224n-2023-lecture0...\n",
       "1   Word Vectors, Word Window Classification, Language Models [ slides ] video ]--> [ notes ] http://web.stanford.edu/class/cs224n/slides/cs224n-2023-lecture02-wordvecs2.pdf http:/...\n",
       "..                                                                                                                                                                                  ...\n",
       "25                                           Final Project Emergency Assistance (no lecture) [ slides ]--> http://web.stanford.edu/class/cs224n/slides/cs224n-2021-lecture18-future.pdf\n",
       "26  Poster Session [ code ] [ preview ]--> http://web.stanford.edu/class/cs224n/readings/cs224n-python-review-code-updated.zip http://web.stanford.edu/class/cs224n/readings/cs224n-...\n",
       "\n",
       "[27 rows x 1 columns]"
      ]
     },
     "execution_count": 39,
     "metadata": {},
     "output_type": "execute_result"
    }
   ],
   "source": [
    "slides_tutorial_df"
   ]
  },
  {
   "cell_type": "code",
   "execution_count": 40,
   "metadata": {},
   "outputs": [
    {
     "data": {
      "text/html": [
       "<div>\n",
       "<style scoped>\n",
       "    .dataframe tbody tr th:only-of-type {\n",
       "        vertical-align: middle;\n",
       "    }\n",
       "\n",
       "    .dataframe tbody tr th {\n",
       "        vertical-align: top;\n",
       "    }\n",
       "\n",
       "    .dataframe thead th {\n",
       "        text-align: right;\n",
       "    }\n",
       "</style>\n",
       "<table border=\"1\" class=\"dataframe\">\n",
       "  <thead>\n",
       "    <tr style=\"text-align: right;\">\n",
       "      <th></th>\n",
       "      <th>content</th>\n",
       "    </tr>\n",
       "  </thead>\n",
       "  <tbody>\n",
       "    <tr>\n",
       "      <th>0</th>\n",
       "      <td>Suggested Readings: Efficient Estimation of Word Representations in Vector Space (original word2vec paper) Distributed Representations of Words and Phrases and their Compositio...</td>\n",
       "    </tr>\n",
       "    <tr>\n",
       "      <th>1</th>\n",
       "      <td>Suggested Readings: GloVe: Global Vectors for Word Representation (original GloVe paper) Improving Distributional Similarity with Lessons Learned from Word Embeddings Evaluatio...</td>\n",
       "    </tr>\n",
       "    <tr>\n",
       "      <th>...</th>\n",
       "      <td>...</td>\n",
       "    </tr>\n",
       "    <tr>\n",
       "      <th>21</th>\n",
       "      <td>Extra project office hours available during usual lecture time, see Ed.</td>\n",
       "    </tr>\n",
       "    <tr>\n",
       "      <th>22</th>\n",
       "      <td>5pm-9pm [ More details ] Location: Tressider Oak Lounge project.html</td>\n",
       "    </tr>\n",
       "  </tbody>\n",
       "</table>\n",
       "<p>23 rows × 1 columns</p>\n",
       "</div>"
      ],
      "text/plain": [
       "                                                                                                                                                                                content\n",
       "0   Suggested Readings: Efficient Estimation of Word Representations in Vector Space (original word2vec paper) Distributed Representations of Words and Phrases and their Compositio...\n",
       "1   Suggested Readings: GloVe: Global Vectors for Word Representation (original GloVe paper) Improving Distributional Similarity with Lessons Learned from Word Embeddings Evaluatio...\n",
       "..                                                                                                                                                                                  ...\n",
       "21                                                                                                              Extra project office hours available during usual lecture time, see Ed.\n",
       "22                                                                                                                 5pm-9pm [ More details ] Location: Tressider Oak Lounge project.html\n",
       "\n",
       "[23 rows x 1 columns]"
      ]
     },
     "execution_count": 40,
     "metadata": {},
     "output_type": "execute_result"
    }
   ],
   "source": [
    "readings_df"
   ]
  },
  {
   "cell_type": "code",
   "execution_count": 41,
   "metadata": {},
   "outputs": [
    {
     "data": {
      "text/html": [
       "<div>\n",
       "<style scoped>\n",
       "    .dataframe tbody tr th:only-of-type {\n",
       "        vertical-align: middle;\n",
       "    }\n",
       "\n",
       "    .dataframe tbody tr th {\n",
       "        vertical-align: top;\n",
       "    }\n",
       "\n",
       "    .dataframe thead th {\n",
       "        text-align: right;\n",
       "    }\n",
       "</style>\n",
       "<table border=\"1\" class=\"dataframe\">\n",
       "  <thead>\n",
       "    <tr style=\"text-align: right;\">\n",
       "      <th></th>\n",
       "      <th>content</th>\n",
       "    </tr>\n",
       "  </thead>\n",
       "  <tbody>\n",
       "    <tr>\n",
       "      <th>0</th>\n",
       "      <td>Assignment 1 out [ code ] [ preview ] http://web.stanford.edu/class/cs224n/assignments/a1.zip http://web.stanford.edu/class/cs224n/assignments/a1_preview/exploring_word_vectors...</td>\n",
       "    </tr>\n",
       "    <tr>\n",
       "      <th>1</th>\n",
       "      <td>Assignment 2 out (Not yet released) --&gt; [ code ] [ handout ] [ latex template ] http://web.stanford.edu/class/cs224n/assignments/a2.zip http://web.stanford.edu/class/cs224n/ass...</td>\n",
       "    </tr>\n",
       "    <tr>\n",
       "      <th>...</th>\n",
       "      <td>...</td>\n",
       "    </tr>\n",
       "    <tr>\n",
       "      <th>6</th>\n",
       "      <td>Colab https://colab.research.google.com/drive/1pxc-ehTtnVM72-NViET_D2ZqOlpOi2LH?usp=sharing</td>\n",
       "    </tr>\n",
       "    <tr>\n",
       "      <th>7</th>\n",
       "      <td>Project Milestone out [ Instructions ] http://web.stanford.edu/class/cs224n/project/CS224N_Final_Project_Milestone_Instructions.pdf</td>\n",
       "    </tr>\n",
       "  </tbody>\n",
       "</table>\n",
       "<p>8 rows × 1 columns</p>\n",
       "</div>"
      ],
      "text/plain": [
       "                                                                                                                                                                                content\n",
       "0   Assignment 1 out [ code ] [ preview ] http://web.stanford.edu/class/cs224n/assignments/a1.zip http://web.stanford.edu/class/cs224n/assignments/a1_preview/exploring_word_vectors...\n",
       "1   Assignment 2 out (Not yet released) --> [ code ] [ handout ] [ latex template ] http://web.stanford.edu/class/cs224n/assignments/a2.zip http://web.stanford.edu/class/cs224n/ass...\n",
       "..                                                                                                                                                                                  ...\n",
       "6                                                                                           Colab https://colab.research.google.com/drive/1pxc-ehTtnVM72-NViET_D2ZqOlpOi2LH?usp=sharing\n",
       "7                                                   Project Milestone out [ Instructions ] http://web.stanford.edu/class/cs224n/project/CS224N_Final_Project_Milestone_Instructions.pdf\n",
       "\n",
       "[8 rows x 1 columns]"
      ]
     },
     "execution_count": 41,
     "metadata": {},
     "output_type": "execute_result"
    }
   ],
   "source": [
    "assignment_df"
   ]
  },
  {
   "cell_type": "markdown",
   "metadata": {},
   "source": [
    "<br>"
   ]
  },
  {
   "attachments": {},
   "cell_type": "markdown",
   "metadata": {},
   "source": [
    "### Reference"
   ]
  },
  {
   "attachments": {},
   "cell_type": "markdown",
   "metadata": {},
   "source": [
    "<br><b>MOOC<b>\n",
    "<br>[CS224N: Natural Language Processing with Deep Learning, Stanford University](http://web.stanford.edu/class/cs224n/)"
   ]
  }
 ],
 "metadata": {
  "kernelspec": {
   "display_name": "exercise",
   "language": "python",
   "name": "python3"
  },
  "language_info": {
   "codemirror_mode": {
    "name": "ipython",
    "version": 3
   },
   "file_extension": ".py",
   "mimetype": "text/x-python",
   "name": "python",
   "nbconvert_exporter": "python",
   "pygments_lexer": "ipython3",
   "version": "3.11.3"
  },
  "orig_nbformat": 4
 },
 "nbformat": 4,
 "nbformat_minor": 2
}
