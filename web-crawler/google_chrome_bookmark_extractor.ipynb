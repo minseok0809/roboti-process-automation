{
 "cells": [
  {
   "cell_type": "markdown",
   "metadata": {},
   "source": [
    "## Google Chrome Bookmark Extractor"
   ]
  },
  {
   "cell_type": "markdown",
   "metadata": {},
   "source": [
    "<br>"
   ]
  },
  {
   "cell_type": "markdown",
   "metadata": {},
   "source": [
    "### Development Environment"
   ]
  },
  {
   "cell_type": "code",
   "execution_count": 4,
   "metadata": {},
   "outputs": [],
   "source": [
    "import pandas as pd\n",
    "from bs4 import BeautifulSoup"
   ]
  },
  {
   "cell_type": "markdown",
   "metadata": {},
   "source": [
    "### Google Chrome Bookmark Extractor"
   ]
  },
  {
   "cell_type": "code",
   "execution_count": 9,
   "metadata": {},
   "outputs": [],
   "source": [
    "def make_google_chrome_bookmark_dataframe(bookmark_html_file):\n",
    "\n",
    "    soup = BeautifulSoup()\n",
    "    with open(bookmark_html_file) as f:\n",
    "        soup = BeautifulSoup(f.read(), 'lxml')\n",
    "\n",
    "    url_list = []\n",
    "    title_list = []\n",
    "    # date_list = []\n",
    "    folder_name_list = []\n",
    "\n",
    "    dt = soup.find_all('dt')\n",
    "    folder_name =''\n",
    "    for i in dt:\n",
    "        n = i.find_next()\n",
    "        if n.name == 'h3':\n",
    "            folder_name = n.text\n",
    "            continue\n",
    "        else:\n",
    "            title_list.append(n.text)\n",
    "            url_list.append(n.get(\"href\"))\n",
    "            # date_list.append(n.get(\"add_date\"))\n",
    "            folder_name_list.append(folder_name)\n",
    "\n",
    "    google_chrome_bookmark_df = pd.DataFrame({'folder':folder_name_list, 'title':title_list, 'link':url_list})\n",
    "    google_chrome_bookmark_df.to_excel(\"google_chrome_bookmark_df.xlsx\", index = False)\n",
    "\n",
    "    return google_chrome_bookmark_df"
   ]
  },
  {
   "cell_type": "code",
   "execution_count": 19,
   "metadata": {},
   "outputs": [],
   "source": [
    "bookmark_html_file = 'bookmarks_9_24_23.html'\n",
    "google_chrome_bookmark_df = make_google_chrome_bookmark_dataframe(bookmark_html_file)"
   ]
  },
  {
   "cell_type": "code",
   "execution_count": 20,
   "metadata": {},
   "outputs": [
    {
     "data": {
      "text/html": [
       "<div>\n",
       "<style scoped>\n",
       "    .dataframe tbody tr th:only-of-type {\n",
       "        vertical-align: middle;\n",
       "    }\n",
       "\n",
       "    .dataframe tbody tr th {\n",
       "        vertical-align: top;\n",
       "    }\n",
       "\n",
       "    .dataframe thead th {\n",
       "        text-align: right;\n",
       "    }\n",
       "</style>\n",
       "<table border=\"1\" class=\"dataframe\">\n",
       "  <thead>\n",
       "    <tr style=\"text-align: right;\">\n",
       "      <th></th>\n",
       "      <th>folder</th>\n",
       "      <th>title</th>\n",
       "      <th>link</th>\n",
       "    </tr>\n",
       "  </thead>\n",
       "  <tbody>\n",
       "    <tr>\n",
       "      <th>0</th>\n",
       "      <td>Bookmarks bar</td>\n",
       "      <td></td>\n",
       "      <td>chrome://newtab/</td>\n",
       "    </tr>\n",
       "    <tr>\n",
       "      <th>1</th>\n",
       "      <td>Bookmarks bar</td>\n",
       "      <td></td>\n",
       "      <td>https://www.naver.com/</td>\n",
       "    </tr>\n",
       "    <tr>\n",
       "      <th>2</th>\n",
       "      <td>Bookmarks bar</td>\n",
       "      <td></td>\n",
       "      <td>https://www.tistory.com/</td>\n",
       "    </tr>\n",
       "    <tr>\n",
       "      <th>3</th>\n",
       "      <td>Bookmarks bar</td>\n",
       "      <td></td>\n",
       "      <td>https://feedly.com/i/my</td>\n",
       "    </tr>\n",
       "    <tr>\n",
       "      <th>4</th>\n",
       "      <td>Bookmarks bar</td>\n",
       "      <td></td>\n",
       "      <td>https://www.acmicpc.net/</td>\n",
       "    </tr>\n",
       "    <tr>\n",
       "      <th>...</th>\n",
       "      <td>...</td>\n",
       "      <td>...</td>\n",
       "      <td>...</td>\n",
       "    </tr>\n",
       "    <tr>\n",
       "      <th>258</th>\n",
       "      <td>학회</td>\n",
       "      <td>대한수학회</td>\n",
       "      <td>http://www.kms.or.kr/</td>\n",
       "    </tr>\n",
       "    <tr>\n",
       "      <th>259</th>\n",
       "      <td>학회</td>\n",
       "      <td>움짤모음 059</td>\n",
       "      <td>https://wattle.tistory.com/m/139</td>\n",
       "    </tr>\n",
       "    <tr>\n",
       "      <th>260</th>\n",
       "      <td>학회</td>\n",
       "      <td>otter275 (Matt Lee) - velog</td>\n",
       "      <td>https://velog.io/@otter275</td>\n",
       "    </tr>\n",
       "    <tr>\n",
       "      <th>261</th>\n",
       "      <td>학회</td>\n",
       "      <td>Human-Animal Studies - Members</td>\n",
       "      <td>https://sites.google.com/view/has-network/members</td>\n",
       "    </tr>\n",
       "    <tr>\n",
       "      <th>262</th>\n",
       "      <td>학회</td>\n",
       "      <td>내 블로그 1 페이지 &gt; 맨날 추억에 사네</td>\n",
       "      <td>http://fabiano.dothome.co.kr/bbs/board.php?bo_table=blog&amp;sca=%EA%B7%B8%EB%95%8C+%EA%B7%B8+%EC%8B%9C%EC%A0%88</td>\n",
       "    </tr>\n",
       "  </tbody>\n",
       "</table>\n",
       "<p>263 rows × 3 columns</p>\n",
       "</div>"
      ],
      "text/plain": [
       "            folder                           title   \n",
       "0    Bookmarks bar                                  \\\n",
       "1    Bookmarks bar                                   \n",
       "2    Bookmarks bar                                   \n",
       "3    Bookmarks bar                                   \n",
       "4    Bookmarks bar                                   \n",
       "..             ...                             ...   \n",
       "258             학회                           대한수학회   \n",
       "259             학회                        움짤모음 059   \n",
       "260             학회     otter275 (Matt Lee) - velog   \n",
       "261             학회  Human-Animal Studies - Members   \n",
       "262             학회         내 블로그 1 페이지 > 맨날 추억에 사네   \n",
       "\n",
       "                                                                                                             link  \n",
       "0                                                                                                chrome://newtab/  \n",
       "1                                                                                          https://www.naver.com/  \n",
       "2                                                                                        https://www.tistory.com/  \n",
       "3                                                                                         https://feedly.com/i/my  \n",
       "4                                                                                        https://www.acmicpc.net/  \n",
       "..                                                                                                            ...  \n",
       "258                                                                                         http://www.kms.or.kr/  \n",
       "259                                                                              https://wattle.tistory.com/m/139  \n",
       "260                                                                                    https://velog.io/@otter275  \n",
       "261                                                             https://sites.google.com/view/has-network/members  \n",
       "262  http://fabiano.dothome.co.kr/bbs/board.php?bo_table=blog&sca=%EA%B7%B8%EB%95%8C+%EA%B7%B8+%EC%8B%9C%EC%A0%88  \n",
       "\n",
       "[263 rows x 3 columns]"
      ]
     },
     "execution_count": 20,
     "metadata": {},
     "output_type": "execute_result"
    }
   ],
   "source": [
    "pd.set_option('display.max_colwidth', None)\n",
    "google_chrome_bookmark_df"
   ]
  },
  {
   "cell_type": "markdown",
   "metadata": {},
   "source": [
    "### Reference"
   ]
  },
  {
   "cell_type": "markdown",
   "metadata": {},
   "source": [
    "<b>Stackoverflow</b>\n",
    "<br>[Extracting bookmarks and folder hierarchy from google chrome with BeautifulSoup (Ananth)](https://stackoverflow.com/questions/68621107/extracting-bookmarks-and-folder-hierarchy-from-google-chrome-with-beautifulsoup)"
   ]
  }
 ],
 "metadata": {
  "kernelspec": {
   "display_name": "exercise",
   "language": "python",
   "name": "python3"
  },
  "language_info": {
   "codemirror_mode": {
    "name": "ipython",
    "version": 3
   },
   "file_extension": ".py",
   "mimetype": "text/x-python",
   "name": "python",
   "nbconvert_exporter": "python",
   "pygments_lexer": "ipython3",
   "version": "3.11.3"
  },
  "orig_nbformat": 4
 },
 "nbformat": 4,
 "nbformat_minor": 2
}
