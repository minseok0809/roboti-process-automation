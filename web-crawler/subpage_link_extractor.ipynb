{
 "cells": [
  {
   "cell_type": "markdown",
   "metadata": {},
   "source": [
    "## Subpage Link Extractor"
   ]
  },
  {
   "cell_type": "markdown",
   "metadata": {},
   "source": [
    "<br>"
   ]
  },
  {
   "cell_type": "markdown",
   "metadata": {},
   "source": [
    "### Development Environment"
   ]
  },
  {
   "cell_type": "code",
   "execution_count": null,
   "metadata": {},
   "outputs": [],
   "source": [
    "%pip install selenium "
   ]
  },
  {
   "cell_type": "code",
   "execution_count": 49,
   "metadata": {},
   "outputs": [],
   "source": [
    "import re\n",
    "import json\n",
    "import urllib\n",
    "import requests\n",
    "import pandas as pd\n",
    "from bs4 import BeautifulSoup"
   ]
  },
  {
   "cell_type": "markdown",
   "metadata": {},
   "source": [
    "### Subpage Link Extractor"
   ]
  },
  {
   "cell_type": "code",
   "execution_count": 4,
   "metadata": {},
   "outputs": [],
   "source": [
    "def getdata(url):\n",
    "\tr = requests.get(url)\n",
    "\treturn r.text"
   ]
  },
  {
   "cell_type": "code",
   "execution_count": 44,
   "metadata": {},
   "outputs": [],
   "source": [
    "def get_links(website_link, subpage_txt_file_name):\n",
    "\n",
    "\tdict_href_links = {}\n",
    "\t\n",
    "\thtml_data = getdata(website_link)\n",
    "\tsoup = BeautifulSoup(html_data, \"html.parser\")\n",
    "\tlist_links = []\n",
    "\tlist_page_links = []\n",
    "\tlist_page_numbers = []\n",
    "\tlist_page_strings = []\n",
    "\n",
    "\tfor link in soup.find_all(\"a\", href=True):\n",
    "\n",
    "\t\tif str(link[\"href\"]).startswith((str(website_link))):\n",
    "\t\t\tlist_links.append(link[\"href\"])\n",
    "\n",
    "\t\tif str(link[\"href\"]).startswith(\"/\"):\n",
    "\t\t\tif link[\"href\"] not in dict_href_links:\n",
    "\t\t\t\tdict_href_links[link[\"href\"]] = None\n",
    "\t\t\t\tlink_with_www = website_link + link[\"href\"][1:]\n",
    "\t\t\t\tlist_links.append(link_with_www)\n",
    "\n",
    "\t\t\t\t#nested subpage\n",
    "\n",
    "\t\t\t\thtml_data = getdata(link_with_www)\n",
    "\t\t\t\tsoup = BeautifulSoup(html_data, \"html.parser\")\n",
    "\n",
    "\t\t\t\tfor link in soup.find_all(\"a\", href=True):\n",
    "\n",
    "\t\t\t\t\tif str(link[\"href\"]).startswith(\"/\"):\n",
    "\t\t\t\t\t\tif link[\"href\"] not in dict_href_links:\n",
    "\t\t\t\t\t\t\tdict_href_links[link[\"href\"]] = None\n",
    "\t\t\t\t\t\t\t\n",
    "\t\t\t\t\t\t\tlink_with_www = website_link + link[\"href\"][1:]\n",
    "\t\t\t\t\t\t\tlist_links.append(link_with_www)\n",
    "\n",
    "\t#nested subpage \"page=\"\n",
    "\n",
    "\tfor link in list_links:\n",
    "\t\tif \"page=\" in link:\n",
    "\t\t\tnumber = int(re.sub(r'[^0-9]', '', link))\n",
    "\t\t\tpage_string = re.sub(r\"[0-9]\", \"\", link)\n",
    "\t\t\tlist_page_links.append(link)\n",
    "\t\t\tlist_page_numbers.append(number)\n",
    "\n",
    "\tmax_page_numbers = max(list_page_numbers)\n",
    "\n",
    "\tfor page_number in range(max_page_numbers):\n",
    "\t\tpage = page_string + str(page_number + 1)\n",
    "\n",
    "\n",
    "\t\thtml_data = getdata(page)\n",
    "\t\tsoup = BeautifulSoup(html_data, \"html.parser\")\n",
    "\t\tbs4_element_script = soup.find_all(\"script\", type='application/ld+json')\n",
    "\t\tbs4_element_json = [json.loads(x.string) for x in bs4_element_script]\n",
    "\n",
    "\t\tfor bs4_element_dict in bs4_element_json:\n",
    "\t\t\titem_list_element = bs4_element_dict['itemListElement']\n",
    "\t\t\tfor i in range(len(item_list_element)):\n",
    "\t\t\t\tlink = item_list_element[i]['item']['@id']\n",
    "\t\t\t\tlist_links.append(link)\n",
    "\n",
    "\tdict_links = dict.fromkeys(list_links)\n",
    "\tlist_links = list(dict_links)\n",
    "\tlist_links = sorted(list_links)\n",
    "\t\n",
    "\twith open(subpage_txt_file_name, 'a', encoding='utf-8') as fp:\n",
    "\t\tfp.write(\"\\n\".join(list_links))\n",
    "\n",
    "\treturn list_links"
   ]
  },
  {
   "cell_type": "code",
   "execution_count": 55,
   "metadata": {},
   "outputs": [],
   "source": [
    "url = \"https://odanttoi.tistory.com/\"\n",
    "subpage_txt_file_name = \"web_subpage_link.txt\"\n",
    "list_links = get_links(url, subpage_txt_file_name)\n",
    "subpage_df = pd.DataFrame({\"subpage\": list_links})"
   ]
  },
  {
   "cell_type": "code",
   "execution_count": 57,
   "metadata": {},
   "outputs": [
    {
     "data": {
      "text/html": [
       "<div>\n",
       "<style scoped>\n",
       "    .dataframe tbody tr th:only-of-type {\n",
       "        vertical-align: middle;\n",
       "    }\n",
       "\n",
       "    .dataframe tbody tr th {\n",
       "        vertical-align: top;\n",
       "    }\n",
       "\n",
       "    .dataframe thead th {\n",
       "        text-align: right;\n",
       "    }\n",
       "</style>\n",
       "<table border=\"1\" class=\"dataframe\">\n",
       "  <thead>\n",
       "    <tr style=\"text-align: right;\">\n",
       "      <th></th>\n",
       "      <th>subpage</th>\n",
       "    </tr>\n",
       "  </thead>\n",
       "  <tbody>\n",
       "    <tr>\n",
       "      <th>0</th>\n",
       "      <td>https://odanttoi.tistory.com/</td>\n",
       "    </tr>\n",
       "    <tr>\n",
       "      <th>1</th>\n",
       "      <td>https://odanttoi.tistory.com/10</td>\n",
       "    </tr>\n",
       "    <tr>\n",
       "      <th>2</th>\n",
       "      <td>https://odanttoi.tistory.com/100</td>\n",
       "    </tr>\n",
       "    <tr>\n",
       "      <th>3</th>\n",
       "      <td>https://odanttoi.tistory.com/101</td>\n",
       "    </tr>\n",
       "    <tr>\n",
       "      <th>4</th>\n",
       "      <td>https://odanttoi.tistory.com/102</td>\n",
       "    </tr>\n",
       "    <tr>\n",
       "      <th>...</th>\n",
       "      <td>...</td>\n",
       "    </tr>\n",
       "    <tr>\n",
       "      <th>162</th>\n",
       "      <td>https://odanttoi.tistory.com/manage</td>\n",
       "    </tr>\n",
       "    <tr>\n",
       "      <th>163</th>\n",
       "      <td>https://odanttoi.tistory.com/page/about</td>\n",
       "    </tr>\n",
       "    <tr>\n",
       "      <th>164</th>\n",
       "      <td>https://odanttoi.tistory.com/page/country</td>\n",
       "    </tr>\n",
       "    <tr>\n",
       "      <th>165</th>\n",
       "      <td>https://odanttoi.tistory.com/tag/%ED%86%B5%EA%B3%84%ED%95%99</td>\n",
       "    </tr>\n",
       "    <tr>\n",
       "      <th>166</th>\n",
       "      <td>https://odanttoi.tistory.com/tag/r</td>\n",
       "    </tr>\n",
       "  </tbody>\n",
       "</table>\n",
       "<p>167 rows × 1 columns</p>\n",
       "</div>"
      ],
      "text/plain": [
       "                                                          subpage\n",
       "0                                   https://odanttoi.tistory.com/\n",
       "1                                 https://odanttoi.tistory.com/10\n",
       "2                                https://odanttoi.tistory.com/100\n",
       "3                                https://odanttoi.tistory.com/101\n",
       "4                                https://odanttoi.tistory.com/102\n",
       "..                                                            ...\n",
       "162                           https://odanttoi.tistory.com/manage\n",
       "163                       https://odanttoi.tistory.com/page/about\n",
       "164                     https://odanttoi.tistory.com/page/country\n",
       "165  https://odanttoi.tistory.com/tag/%ED%86%B5%EA%B3%84%ED%95%99\n",
       "166                            https://odanttoi.tistory.com/tag/r\n",
       "\n",
       "[167 rows x 1 columns]"
      ]
     },
     "execution_count": 57,
     "metadata": {},
     "output_type": "execute_result"
    }
   ],
   "source": [
    "pd.set_option('display.max_colwidth', None)\n",
    "subpage_df "
   ]
  },
  {
   "cell_type": "markdown",
   "metadata": {},
   "source": [
    "### Reference"
   ]
  },
  {
   "cell_type": "markdown",
   "metadata": {},
   "source": [
    "<b>Plain English</b>\n",
    "<br>[Scraping all Subpages of a Website in Python](https://plainenglish.io/blog/scraping-the-subpages-on-a-website-ea2d4e3db113)\n",
    "<br><br><b>Stackoverflow</b>\n",
    "<br>[Parsing application ld+Json with Beautifulsoup (findAll)](https://stackoverflow.com/questions/68460844/parsing-application-ldjson-with-beautifulsoup-findall)\n"
   ]
  }
 ],
 "metadata": {
  "kernelspec": {
   "display_name": "exercise",
   "language": "python",
   "name": "python3"
  },
  "language_info": {
   "codemirror_mode": {
    "name": "ipython",
    "version": 3
   },
   "file_extension": ".py",
   "mimetype": "text/x-python",
   "name": "python",
   "nbconvert_exporter": "python",
   "pygments_lexer": "ipython3",
   "version": "3.11.3"
  },
  "orig_nbformat": 4
 },
 "nbformat": 4,
 "nbformat_minor": 2
}
