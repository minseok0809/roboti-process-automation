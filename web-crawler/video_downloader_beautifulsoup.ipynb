{
 "cells": [
  {
   "attachments": {},
   "cell_type": "markdown",
   "metadata": {},
   "source": [
    "### Video Downloader (Beautifulsoup)"
   ]
  },
  {
   "cell_type": "markdown",
   "metadata": {},
   "source": [
    "<br>"
   ]
  },
  {
   "cell_type": "markdown",
   "metadata": {},
   "source": [
    "### Development Environment"
   ]
  },
  {
   "cell_type": "code",
   "execution_count": 193,
   "metadata": {},
   "outputs": [],
   "source": [
    "import os\n",
    "import re\n",
    "import time\n",
    "import requests\n",
    "import urllib\n",
    "import threading\n",
    "import pandas as pd\n",
    "from glob import glob\n",
    "from bs4 import BeautifulSoup\n",
    "from urllib.request import urlretrieve"
   ]
  },
  {
   "cell_type": "markdown",
   "metadata": {},
   "source": [
    "### Page Information"
   ]
  },
  {
   "cell_type": "code",
   "execution_count": 181,
   "metadata": {},
   "outputs": [],
   "source": [
    "def make_page_soup(link):\n",
    "    target = link\n",
    "    response = requests.get(target)\n",
    "    response.raise_for_status()\n",
    "    response.encoding='EUC-KR'\n",
    "    page = str(response.content)\n",
    "    soup = BeautifulSoup(response.text, 'html.parser') \n",
    "    return page, soup"
   ]
  },
  {
   "cell_type": "code",
   "execution_count": null,
   "metadata": {},
   "outputs": [],
   "source": [
    "link = \"http://ropas.snu.ac.kr/~kwang/4190.310/mooc/\"\n",
    "page, soup = make_page_soup(link)"
   ]
  },
  {
   "cell_type": "markdown",
   "metadata": {},
   "source": [
    "### Video File Name Dataframe"
   ]
  },
  {
   "cell_type": "code",
   "execution_count": 182,
   "metadata": {},
   "outputs": [],
   "source": [
    "def make_title_list(soup):\n",
    "    titles = soup.select(\"h4\")\n",
    "    title_list = []\n",
    "    for i in titles:\n",
    "        title = i.get_text()\n",
    "        if \"Part\" in title:\n",
    "            title = title.replace(':', '')\n",
    "            title = title.replace('\\n','')\n",
    "            title_list.append(title)\n",
    "    return title_list"
   ]
  },
  {
   "cell_type": "code",
   "execution_count": 183,
   "metadata": {},
   "outputs": [],
   "source": [
    "def make_subtitle_list(soup):\n",
    "    li = soup.select(\"li\")\n",
    "    text_list = []\n",
    "    li_texts = str(li).split(\"<li>\")\n",
    "    for li_text in li_texts:\n",
    "        if \"a href\" not in li_text:\n",
    "            text = li_text[ : li_text.find(\"<ul>\") ]\n",
    "            text = text.strip()\n",
    "            if len(li_text) > 1:\n",
    "                text = text.replace(\"?\", \"\")\n",
    "                text = re.sub('(&|;|:|,)', '', text)\n",
    "                text_list.append(text)\n",
    "    text_list.append(\"강의 마무리\")\n",
    "    subtitle_dict = dict.fromkeys(text_list)\n",
    "    subtitle_list = list(subtitle_dict)   \n",
    "    return subtitle_list     "
   ]
  },
  {
   "cell_type": "code",
   "execution_count": 184,
   "metadata": {},
   "outputs": [],
   "source": [
    "def make_single_title_list(soup):\n",
    "    a = soup.select(\"a\")\n",
    "    text_list = []\n",
    "    for a_text in a:\n",
    "        a_text = str(a_text)\n",
    "        text = a_text[ a_text.find(\">\")+1 : a_text.find(\"</a>\") ]\n",
    "        text = text.strip()\n",
    "        if 'font' not in text and 'img' not in text:\n",
    "            text = text.replace('\"','')\n",
    "            text = text.replace('\\n','')\n",
    "            text = text.replace('\\t',' ')\n",
    "            text = text.replace(\"?\", \"\")\n",
    "            text = re.sub('(&|;|:|,)', '', text)\n",
    "            text_list.append(text)\n",
    "    single_title_list = text_list\n",
    "    return single_title_list"
   ]
  },
  {
   "cell_type": "code",
   "execution_count": 185,
   "metadata": {},
   "outputs": [],
   "source": [
    "def make_idx_list(single_title_list):\n",
    "    idx_list = []\n",
    "    for single_title in single_title_list:\n",
    "        if \"프로그래밍 언어 배우기\" in single_title or \\\n",
    "            \"귀납 증명 예제\" in single_title or \\\n",
    "            \"형식논리(formal logic) 표기법\" in single_title or \\\n",
    "            \"설탕 구조(syntactic sugar)\" in single_title or \\\n",
    "            \"메모리 주소의 유효기간(lifetime)\" in single_title or \\\n",
    "            \"K- 언어 전체 의미 파악 예제\" in single_title or \\\n",
    "            \"stop amp copy 알고리즘\" in single_title or \\\n",
    "            \"강의 전반부 마무리 및 강의 후반부 소개\" in single_title or \\\n",
    "            \"의미 정의 설탕 구조\" in single_title or \\\n",
    "            \"동일화 알고리즘은 충실한 구현\" in single_title or \\\n",
    "            \"기계중심 언어의 다형 타입 추론 2\" in single_title or \\\n",
    "            \"물건중심 언어(object oriented language)와의 관계 2\" in single_title or \\\n",
    "            \"실행중 결정되는 함수의 실체(late binding dynamic binding)\" in single_title or \\\n",
    "            \"강의 리뷰\" in single_title:\n",
    "            idx_list.append(single_title_list.index(single_title))\n",
    "    return idx_list"
   ]
  },
  {
   "cell_type": "code",
   "execution_count": 186,
   "metadata": {},
   "outputs": [],
   "source": [
    "def make_video_title_df(soup, title_list, subtitle_list, single_title_list, idx_list):\n",
    "    video_title_df = pd.DataFrame({'title':[0]})\n",
    "    for idx, chapter in enumerate(single_title_list): \n",
    "        if idx <= idx_list[0]:\n",
    "            video_title_df.loc[idx] = [chapter + \" - \" + subtitle_list[0] + \" - \" + title_list[0]]\n",
    "        elif idx >= idx_list[0] and idx <= idx_list[1]:\n",
    "            video_title_df.loc[idx] = [chapter + \" - \" + subtitle_list[1] + \" - \" + title_list[0]]\n",
    "        elif idx >= idx_list[1] and idx <= idx_list[2]:\n",
    "            video_title_df.loc[idx] = [chapter + \" - \" + subtitle_list[2] + \" - \" + title_list[0]]\n",
    "        elif idx >= idx_list[2] and idx <= idx_list[3]:\n",
    "            video_title_df.loc[idx] = [chapter + \" - \" + subtitle_list[3] + \" - \" + title_list[1]]\n",
    "        elif idx >= idx_list[3] and idx <= idx_list[4]:\n",
    "            video_title_df.loc[idx] = [chapter + \" - \" + subtitle_list[4] + \" - \" + title_list[1]]\n",
    "        elif idx >= idx_list[4] and idx <= idx_list[5]:\n",
    "            video_title_df.loc[idx] = [chapter + \" - \" + subtitle_list[5] + \" - \" + title_list[1]]\n",
    "        elif idx >= idx_list[5] and idx <= idx_list[6]:\n",
    "            video_title_df.loc[idx] = [chapter + \" - \" + subtitle_list[6] + \" - \" + title_list[1]]\n",
    "        elif idx >= idx_list[6] and idx <= idx_list[7]:\n",
    "            video_title_df.loc[idx] = [chapter + \" - \" + subtitle_list[7] + \" - \" + title_list[1]]\n",
    "        elif idx >= idx_list[7] and idx <= idx_list[8]:\n",
    "            video_title_df.loc[idx] = [chapter + \" - \" + subtitle_list[8] + \" - \" + title_list[2]]\n",
    "        elif idx >= idx_list[8] and idx <= idx_list[9]:\n",
    "            video_title_df.loc[idx] = [chapter + \" - \" + subtitle_list[9] + \" - \" + title_list[2]]\n",
    "        elif idx >= idx_list[9] and idx <= idx_list[10]:\n",
    "            video_title_df.loc[idx] = [chapter + \" - \" + subtitle_list[10] + \" - \" + title_list[2]]\n",
    "        elif idx >= idx_list[10] and idx <= idx_list[11]:\n",
    "            video_title_df.loc[idx] = [chapter + \" - \" + subtitle_list[11] + \" - \" + title_list[2]]\n",
    "        elif idx >= idx_list[11] and idx <= idx_list[12]:\n",
    "            video_title_df.loc[idx] = [chapter + \" - \" + subtitle_list[12] + \" - \" + title_list[2]]  \n",
    "        elif idx >= idx_list[12] and idx <= idx_list[13]:\n",
    "            video_title_df.loc[idx] = [chapter + \" - \" + subtitle_list[13] + \" - \" + title_list[2]]     \n",
    "\n",
    "        video_title_df.to_excel(\"video_title_df.xlsx\")\n",
    "        \n",
    "    return video_title_df"
   ]
  },
  {
   "cell_type": "code",
   "execution_count": null,
   "metadata": {},
   "outputs": [],
   "source": [
    "title_list = make_title_list(soup)\n",
    "subtitle_list = make_subtitle_list(soup)\n",
    "single_title_list = make_single_title_list(soup)\n",
    "idx_list = make_idx_list(single_title_list)"
   ]
  },
  {
   "cell_type": "code",
   "execution_count": null,
   "metadata": {},
   "outputs": [],
   "source": [
    "video_title_df = make_video_title_df(soup, title_list, subtitle_list, single_title_list, idx_list)"
   ]
  },
  {
   "cell_type": "code",
   "execution_count": 188,
   "metadata": {},
   "outputs": [
    {
     "data": {
      "text/html": [
       "<div>\n",
       "<style scoped>\n",
       "    .dataframe tbody tr th:only-of-type {\n",
       "        vertical-align: middle;\n",
       "    }\n",
       "\n",
       "    .dataframe tbody tr th {\n",
       "        vertical-align: top;\n",
       "    }\n",
       "\n",
       "    .dataframe thead th {\n",
       "        text-align: right;\n",
       "    }\n",
       "</style>\n",
       "<table border=\"1\" class=\"dataframe\">\n",
       "  <thead>\n",
       "    <tr style=\"text-align: right;\">\n",
       "      <th></th>\n",
       "      <th>title</th>\n",
       "    </tr>\n",
       "  </thead>\n",
       "  <tbody>\n",
       "    <tr>\n",
       "      <th>0</th>\n",
       "      <td>강의의 목표 - 프로그래밍 언어란 무엇인가 - Part 0 기초</td>\n",
       "    </tr>\n",
       "    <tr>\n",
       "      <th>1</th>\n",
       "      <td>강의 내용 개괄 - 프로그래밍 언어란 무엇인가 - Part 0 기초</td>\n",
       "    </tr>\n",
       "    <tr>\n",
       "      <th>2</th>\n",
       "      <td>프로그래밍 언어란 무엇인가 - 프로그래밍 언어란 무엇인가 - Part 0 기초</td>\n",
       "    </tr>\n",
       "    <tr>\n",
       "      <th>3</th>\n",
       "      <td>프로그래밍 언어의 쓰임새 - 프로그래밍 언어란 무엇인가 - Part 0 기초</td>\n",
       "    </tr>\n",
       "    <tr>\n",
       "      <th>4</th>\n",
       "      <td>프로그래밍 언어 배우기 - 프로그래밍 언어란 무엇인가 - Part 0 기초</td>\n",
       "    </tr>\n",
       "    <tr>\n",
       "      <th>...</th>\n",
       "      <td>...</td>\n",
       "    </tr>\n",
       "    <tr>\n",
       "      <th>118</th>\n",
       "      <td>물건중심 언어(object oriented language)와의 관계 1 - 계층타...</td>\n",
       "    </tr>\n",
       "    <tr>\n",
       "      <th>119</th>\n",
       "      <td>물건중심 언어(object oriented language)와의 관계 2 - 계층타...</td>\n",
       "    </tr>\n",
       "    <tr>\n",
       "      <th>120</th>\n",
       "      <td>유일한 특성 상속(inheritance) - 물건중심의 언어(object-orien...</td>\n",
       "    </tr>\n",
       "    <tr>\n",
       "      <th>121</th>\n",
       "      <td>실행중 결정되는 함수의 실체(late binding dynamic binding) ...</td>\n",
       "    </tr>\n",
       "    <tr>\n",
       "      <th>122</th>\n",
       "      <td>강의 리뷰 - 강의 마무리 -  Part II 이론에 기반한 언어 디자인. 값중심의...</td>\n",
       "    </tr>\n",
       "  </tbody>\n",
       "</table>\n",
       "<p>123 rows × 1 columns</p>\n",
       "</div>"
      ],
      "text/plain": [
       "                                                 title\n",
       "0                  강의의 목표 - 프로그래밍 언어란 무엇인가 - Part 0 기초\n",
       "1                강의 내용 개괄 - 프로그래밍 언어란 무엇인가 - Part 0 기초\n",
       "2          프로그래밍 언어란 무엇인가 - 프로그래밍 언어란 무엇인가 - Part 0 기초\n",
       "3           프로그래밍 언어의 쓰임새 - 프로그래밍 언어란 무엇인가 - Part 0 기초\n",
       "4            프로그래밍 언어 배우기 - 프로그래밍 언어란 무엇인가 - Part 0 기초\n",
       "..                                                 ...\n",
       "118  물건중심 언어(object oriented language)와의 관계 1 - 계층타...\n",
       "119  물건중심 언어(object oriented language)와의 관계 2 - 계층타...\n",
       "120  유일한 특성 상속(inheritance) - 물건중심의 언어(object-orien...\n",
       "121  실행중 결정되는 함수의 실체(late binding dynamic binding) ...\n",
       "122  강의 리뷰 - 강의 마무리 -  Part II 이론에 기반한 언어 디자인. 값중심의...\n",
       "\n",
       "[123 rows x 1 columns]"
      ]
     },
     "execution_count": 188,
     "metadata": {},
     "output_type": "execute_result"
    }
   ],
   "source": [
    "video_title_df"
   ]
  },
  {
   "cell_type": "markdown",
   "metadata": {},
   "source": [
    "### Video Downloader"
   ]
  },
  {
   "cell_type": "code",
   "execution_count": 189,
   "metadata": {},
   "outputs": [],
   "source": [
    "def getURL(page):\n",
    "    start_link = page.find(\"a href\")\n",
    "    if start_link == -1:\n",
    "        return None, 0\n",
    "    start_quote = page.find('\"', start_link)\n",
    "    end_quote = page.find('\"', start_quote + 1)\n",
    "    url = page[start_quote + 1: end_quote]\n",
    "    return url, end_quote"
   ]
  },
  {
   "cell_type": "code",
   "execution_count": 190,
   "metadata": {},
   "outputs": [],
   "source": [
    "def download(url, fileName, file_new_name):\n",
    "    urlretrieve(url, fileName)\n",
    "    os.rename(fileName, file_new_name)"
   ]
  },
  {
   "cell_type": "code",
   "execution_count": null,
   "metadata": {},
   "outputs": [],
   "source": [
    "def video_downloader(page, viedo_title_df, file_extension):\n",
    "        idx = -1\n",
    "    while True:\n",
    "        url, n = getURL(page)\n",
    "        page = page[n:]\n",
    "\n",
    "        if url:\n",
    "\n",
    "            if url.endswith(file_extension):\n",
    "\n",
    "                while 10 < threading.active_count():\n",
    "                    time.sleep(3)\n",
    "\n",
    "                idx += 1\n",
    "                if idx % 10 == 0 and idx != 0:\n",
    "                    print()\n",
    "                if len(url[:-4]) > 1:\n",
    "                    print(url[:-4], end=\"  |  \")\n",
    "                file_new_name = url[:-4] + \" - \" + viedo_title_df.loc[idx]['title'] + file_extension\n",
    "                t = threading.Thread(target=download, args=(target+url, url, file_new_name))\n",
    "                t.daemon = True\n",
    "                t.start()\n",
    "\n",
    "        else:\n",
    "            while 0 < threading.active_count():\n",
    "                time.sleep(3)\n",
    "            break\n",
    "    "
   ]
  },
  {
   "cell_type": "code",
   "execution_count": 200,
   "metadata": {},
   "outputs": [],
   "source": [
    "def check_download_file(video_title_df, file_extension):\n",
    "    video_file_list = glob(\"*.mp4\")\n",
    "    if len(video_file_list) == len(video_title_df):\n",
    "        print(\"Video Download Complete\")\n",
    "    video_file_df = pd.DataFrame({'file':video_file_list})\n",
    "    return video_file_df"
   ]
  },
  {
   "cell_type": "code",
   "execution_count": 191,
   "metadata": {},
   "outputs": [
    {
     "name": "stdout",
     "output_type": "stream",
     "text": [
      "01-01  |  01-02  |  01-03  |  01-04  |  01-05  |  02-01  |  02-02  |  02-03  |  02-04  |  02-05  |  \n",
      "02-06  |  02-07  |  02-08  |  02-09  |  02-10  |  03-01  |  03-02  |  03-03  |  03-04  |  03-05  |  \n",
      "03-06  |  04-01  |  04-02  |  04-03  |  04-04  |  04-05  |  04-06  |  04-07  |  05-01  |  05-02  |  \n",
      "05-03  |  05-04  |  05-05  |  05-06  |  05-07  |  05-08  |  05-09  |  05-10  |  05-11  |  06-01  |  \n",
      "06-02  |  06-03  |  06-04  |  06-05  |  06-06  |  06-07  |  06-08  |  06-09  |  06-10  |  06-11  |  \n",
      "06-12  |  06-13  |  06-14  |  06-15  |  06-16  |  06-17  |  07-01  |  07-02  |  07-03  |  07-04  |  \n",
      "07-05  |  07-06  |  08-01  |  08-02  |  08-03  |  08-04  |  08-05  |  08-06  |  09-01  |  09-02  |  \n",
      "09-03  |  09-04  |  09-05  |  09-06  |  09-07  |  09-08  |  09-09  |  09-10  |  09-11  |  09-12  |  \n",
      "09-13  |  10-01  |  10-02  |  11-01  |  11-02  |  11-03  |  11-04  |  11-05  |  11-06  |  11-07  |  \n",
      "11-08  |  11-09  |  11-10  |  11-11  |  11-12  |  11-13  |  11-14  |  11-15  |  11-16  |  11-17  |  \n",
      "11-18  |  11-19  |  11-20  |  11-21  |  12-01  |  12-02  |  12-03  |  12-04  |  12-05  |  12-06  |  \n",
      "12-07  |  12-08  |  12-09  |  12-10  |  12-11  |  12-12  |  13-01  |  13-02  |  13-03  |  13-04  |  \n",
      "14-01  |  14-02  |  15-01  |  "
     ]
    },
    {
     "ename": "KeyboardInterrupt",
     "evalue": "",
     "output_type": "error",
     "traceback": [
      "\u001b[1;31m---------------------------------------------------------------------------\u001b[0m",
      "\u001b[1;31mKeyboardInterrupt\u001b[0m                         Traceback (most recent call last)",
      "Cell \u001b[1;32mIn[191], line 25\u001b[0m\n\u001b[0;32m     23\u001b[0m \u001b[39melse\u001b[39;00m:\n\u001b[0;32m     24\u001b[0m     \u001b[39mwhile\u001b[39;00m \u001b[39m0\u001b[39m \u001b[39m<\u001b[39m threading\u001b[39m.\u001b[39mactive_count():\n\u001b[1;32m---> 25\u001b[0m         time\u001b[39m.\u001b[39msleep(\u001b[39m3\u001b[39m)\n\u001b[0;32m     26\u001b[0m     \u001b[39mbreak\u001b[39;00m\n",
      "\u001b[1;31mKeyboardInterrupt\u001b[0m: "
     ]
    }
   ],
   "source": [
    "video_downloader(page, viedo_title_df, '.mp4')"
   ]
  },
  {
   "cell_type": "code",
   "execution_count": 204,
   "metadata": {},
   "outputs": [
    {
     "name": "stdout",
     "output_type": "stream",
     "text": [
      "Video Download Complete\n"
     ]
    },
    {
     "data": {
      "text/html": [
       "<div>\n",
       "<style scoped>\n",
       "    .dataframe tbody tr th:only-of-type {\n",
       "        vertical-align: middle;\n",
       "    }\n",
       "\n",
       "    .dataframe tbody tr th {\n",
       "        vertical-align: top;\n",
       "    }\n",
       "\n",
       "    .dataframe thead th {\n",
       "        text-align: right;\n",
       "    }\n",
       "</style>\n",
       "<table border=\"1\" class=\"dataframe\">\n",
       "  <thead>\n",
       "    <tr style=\"text-align: right;\">\n",
       "      <th></th>\n",
       "      <th>file</th>\n",
       "    </tr>\n",
       "  </thead>\n",
       "  <tbody>\n",
       "    <tr>\n",
       "      <th>0</th>\n",
       "      <td>01-01 - 강의의 목표 - 프로그래밍 언어란 무엇인가 - Part 0 기초.mp4</td>\n",
       "    </tr>\n",
       "    <tr>\n",
       "      <th>1</th>\n",
       "      <td>01-02 - 강의 내용 개괄 - 프로그래밍 언어란 무엇인가 - Part 0 기초.mp4</td>\n",
       "    </tr>\n",
       "    <tr>\n",
       "      <th>2</th>\n",
       "      <td>01-03 - 프로그래밍 언어란 무엇인가 - 프로그래밍 언어란 무엇인가 - Part...</td>\n",
       "    </tr>\n",
       "    <tr>\n",
       "      <th>3</th>\n",
       "      <td>01-04 - 프로그래밍 언어의 쓰임새 - 프로그래밍 언어란 무엇인가 - Part ...</td>\n",
       "    </tr>\n",
       "    <tr>\n",
       "      <th>4</th>\n",
       "      <td>01-05 - 프로그래밍 언어 배우기 - 프로그래밍 언어란 무엇인가 - Part 0...</td>\n",
       "    </tr>\n",
       "    <tr>\n",
       "      <th>...</th>\n",
       "      <td>...</td>\n",
       "    </tr>\n",
       "    <tr>\n",
       "      <th>118</th>\n",
       "      <td>13-03 - 물건중심 언어(object oriented language)와의 관계...</td>\n",
       "    </tr>\n",
       "    <tr>\n",
       "      <th>119</th>\n",
       "      <td>13-04 - 물건중심 언어(object oriented language)와의 관계...</td>\n",
       "    </tr>\n",
       "    <tr>\n",
       "      <th>120</th>\n",
       "      <td>14-01 - 유일한 특성 상속(inheritance) - 물건중심의 언어(obje...</td>\n",
       "    </tr>\n",
       "    <tr>\n",
       "      <th>121</th>\n",
       "      <td>14-02 - 실행중 결정되는 함수의 실체(late binding dynamic b...</td>\n",
       "    </tr>\n",
       "    <tr>\n",
       "      <th>122</th>\n",
       "      <td>15-01 - 강의 리뷰 - 강의 마무리 -  Part II 이론에 기반한 언어 디...</td>\n",
       "    </tr>\n",
       "  </tbody>\n",
       "</table>\n",
       "<p>123 rows × 1 columns</p>\n",
       "</div>"
      ],
      "text/plain": [
       "                                                  file\n",
       "0      01-01 - 강의의 목표 - 프로그래밍 언어란 무엇인가 - Part 0 기초.mp4\n",
       "1    01-02 - 강의 내용 개괄 - 프로그래밍 언어란 무엇인가 - Part 0 기초.mp4\n",
       "2    01-03 - 프로그래밍 언어란 무엇인가 - 프로그래밍 언어란 무엇인가 - Part...\n",
       "3    01-04 - 프로그래밍 언어의 쓰임새 - 프로그래밍 언어란 무엇인가 - Part ...\n",
       "4    01-05 - 프로그래밍 언어 배우기 - 프로그래밍 언어란 무엇인가 - Part 0...\n",
       "..                                                 ...\n",
       "118  13-03 - 물건중심 언어(object oriented language)와의 관계...\n",
       "119  13-04 - 물건중심 언어(object oriented language)와의 관계...\n",
       "120  14-01 - 유일한 특성 상속(inheritance) - 물건중심의 언어(obje...\n",
       "121  14-02 - 실행중 결정되는 함수의 실체(late binding dynamic b...\n",
       "122  15-01 - 강의 리뷰 - 강의 마무리 -  Part II 이론에 기반한 언어 디...\n",
       "\n",
       "[123 rows x 1 columns]"
      ]
     },
     "execution_count": 204,
     "metadata": {},
     "output_type": "execute_result"
    }
   ],
   "source": [
    "video_file_df = check_download_file(video_title_df, \"*.mp4\")\n",
    "video_file_df"
   ]
  },
  {
   "cell_type": "markdown",
   "metadata": {},
   "source": [
    "<br>"
   ]
  },
  {
   "attachments": {},
   "cell_type": "markdown",
   "metadata": {},
   "source": [
    "### Reference"
   ]
  },
  {
   "attachments": {},
   "cell_type": "markdown",
   "metadata": {},
   "source": [
    "<b>Github<b>\n",
    "<br>[serithemage](https://github.com/serithemage/python_exercise/blob/master/downloader/downloader.py)\n",
    "\n",
    "<br><b>MOOC<b>\n",
    "<br>[Kwangkeun Yi 4190.310 Programming Languages](http://ropas.snu.ac.kr/~kwang/4190.310/mooc/)"
   ]
  }
 ],
 "metadata": {
  "kernelspec": {
   "display_name": "exercise",
   "language": "python",
   "name": "python3"
  },
  "language_info": {
   "codemirror_mode": {
    "name": "ipython",
    "version": 3
   },
   "file_extension": ".py",
   "mimetype": "text/x-python",
   "name": "python",
   "nbconvert_exporter": "python",
   "pygments_lexer": "ipython3",
   "version": "3.11.3"
  },
  "orig_nbformat": 4
 },
 "nbformat": 4,
 "nbformat_minor": 2
}
