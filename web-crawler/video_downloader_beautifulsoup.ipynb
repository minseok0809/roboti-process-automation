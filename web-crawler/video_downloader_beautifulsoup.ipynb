{
 "cells": [
  {
   "attachments": {},
   "cell_type": "markdown",
   "metadata": {},
   "source": [
    "### Video Downloader (Beautifulsoup)"
   ]
  },
  {
   "cell_type": "code",
   "execution_count": null,
   "metadata": {},
   "outputs": [],
   "source": [
    "import requests\n",
    "import urllib\n",
    "import threading\n",
    "import time\n",
    "from BeautifulSoup import BeautifulSoup"
   ]
  },
  {
   "cell_type": "code",
   "execution_count": null,
   "metadata": {},
   "outputs": [],
   "source": [
    "target = \"http://ropas.snu.ac.kr/~kwang/4190.310/mooc/\"\n",
    "response = requests.get(target)\n",
    "page = str(BeautifulSoup(response.content))"
   ]
  },
  {
   "cell_type": "code",
   "execution_count": null,
   "metadata": {},
   "outputs": [],
   "source": [
    "def getURL(page):\n",
    "    start_link = page.find(\"a href\")\n",
    "    if start_link == -1:\n",
    "        return None, 0\n",
    "    start_quote = page.find('\"', start_link)\n",
    "    end_quote = page.find('\"', start_quote + 1)\n",
    "    url = page[start_quote + 1: end_quote]\n",
    "    return url, end_quote"
   ]
  },
  {
   "cell_type": "code",
   "execution_count": null,
   "metadata": {},
   "outputs": [],
   "source": [
    "def download(url, fileName):\n",
    "    urllib.urlretrieve(url, fileName)\n",
    "    print(fileName + \" download end\")"
   ]
  },
  {
   "cell_type": "code",
   "execution_count": null,
   "metadata": {},
   "outputs": [],
   "source": [
    "while True:\n",
    "    url, n = getURL(page)\n",
    "    page = page[n:]\n",
    "\n",
    "    if url:\n",
    "\n",
    "        if url.endswith('.mp4'):\n",
    "\n",
    "            while 10 < threading.activeCount():\n",
    "                time.sleep(3)\n",
    "\n",
    "            print(url)\n",
    "            t = threading.Thread(target=download, args=(target+url, url))\n",
    "            t.daemon = True\n",
    "            t.start()\n",
    "\n",
    "    else:\n",
    "        while 0 < threading.activeCount():\n",
    "            time.sleep(3)\n",
    "        break"
   ]
  },
  {
   "attachments": {},
   "cell_type": "markdown",
   "metadata": {},
   "source": [
    "### Reference"
   ]
  },
  {
   "attachments": {},
   "cell_type": "markdown",
   "metadata": {},
   "source": [
    "<b>Github<b>\n",
    "<br>[serithemage](https://github.com/serithemage/python_exercise/blob/master/downloader/downloader.py)\n",
    "\n",
    "<br><b>MOOC<b>\n",
    "<br>[Kwangkeun Yi 4190.310 Programming Languages](http://ropas.snu.ac.kr/~kwang/4190.310/mooc/)"
   ]
  }
 ],
 "metadata": {
  "language_info": {
   "name": "python"
  },
  "orig_nbformat": 4
 },
 "nbformat": 4,
 "nbformat_minor": 2
}
