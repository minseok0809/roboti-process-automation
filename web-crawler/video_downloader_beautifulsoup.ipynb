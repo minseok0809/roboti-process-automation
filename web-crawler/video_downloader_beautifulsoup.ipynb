{
 "cells": [
  {
   "attachments": {},
   "cell_type": "markdown",
   "metadata": {},
   "source": [
    "## Video Downloader (Beautifulsoup)"
   ]
  },
  {
   "cell_type": "markdown",
   "metadata": {},
   "source": [
    "<br>"
   ]
  },
  {
   "cell_type": "markdown",
   "metadata": {},
   "source": [
    "### Development Environment"
   ]
  },
  {
   "cell_type": "code",
   "execution_count": 1,
   "metadata": {},
   "outputs": [],
   "source": [
    "import os\n",
    "import re\n",
    "import time\n",
    "import requests\n",
    "import urllib\n",
    "import threading\n",
    "import pandas as pd\n",
    "from glob import glob\n",
    "from bs4 import BeautifulSoup\n",
    "from urllib.request import urlretrieve"
   ]
  },
  {
   "cell_type": "markdown",
   "metadata": {},
   "source": [
    "### Page Information"
   ]
  },
  {
   "cell_type": "code",
   "execution_count": 2,
   "metadata": {},
   "outputs": [],
   "source": [
    "def make_page_soup(link):\n",
    "\n",
    "    target = link\n",
    "    response = requests.get(target)\n",
    "    response.raise_for_status()\n",
    "    response.encoding='EUC-KR'\n",
    "    page = str(response.content)\n",
    "    soup = BeautifulSoup(response.text, 'html.parser') \n",
    "    \n",
    "    return page, soup"
   ]
  },
  {
   "cell_type": "code",
   "execution_count": 3,
   "metadata": {},
   "outputs": [],
   "source": [
    "link = \"http://ropas.snu.ac.kr/~kwang/4190.310/mooc/\"\n",
    "page, soup = make_page_soup(link)"
   ]
  },
  {
   "cell_type": "markdown",
   "metadata": {},
   "source": [
    "### Video File Name Dataframe"
   ]
  },
  {
   "cell_type": "markdown",
   "metadata": {},
   "source": [
    "#### Make Video Title List"
   ]
  },
  {
   "cell_type": "code",
   "execution_count": 4,
   "metadata": {},
   "outputs": [],
   "source": [
    "def make_title_list(soup):\n",
    "\n",
    "    titles = soup.select(\"h4\")\n",
    "    title_list = []\n",
    "    for i in titles:\n",
    "        title = i.get_text()\n",
    "        if \"Part\" in title:\n",
    "            title = title.replace(':', '')\n",
    "            title = title.replace('\\n','')\n",
    "            title_list.append(title)\n",
    "            \n",
    "    return title_list"
   ]
  },
  {
   "cell_type": "code",
   "execution_count": 5,
   "metadata": {},
   "outputs": [],
   "source": [
    "def make_subtitle_list(soup):\n",
    "\n",
    "    li = soup.select(\"li\")\n",
    "    text_list = []\n",
    "    li_texts = str(li).split(\"<li>\")\n",
    "    for li_text in li_texts:\n",
    "        if \"a href\" not in li_text:\n",
    "            text = li_text[ : li_text.find(\"<ul>\") ]\n",
    "            text = text.strip()\n",
    "            if len(li_text) > 1:\n",
    "                text = text.replace(\"?\", \"\")\n",
    "                text = re.sub('(&|;|:|,)', '', text)\n",
    "                text_list.append(text)\n",
    "    text_list.append(\"강의 마무리\")\n",
    "    subtitle_dict = dict.fromkeys(text_list)\n",
    "    subtitle_list = list(subtitle_dict)  \n",
    "     \n",
    "    return subtitle_list     "
   ]
  },
  {
   "cell_type": "code",
   "execution_count": 6,
   "metadata": {},
   "outputs": [],
   "source": [
    "def make_single_title_list(soup):\n",
    "\n",
    "    a = soup.select(\"a\")\n",
    "    text_list = []\n",
    "    for a_text in a:\n",
    "        a_text = str(a_text)\n",
    "        text = a_text[ a_text.find(\">\")+1 : a_text.find(\"</a>\") ]\n",
    "        text = text.strip()\n",
    "        if 'font' not in text and 'img' not in text:\n",
    "            text = text.replace('\"','')\n",
    "            text = text.replace('\\n','')\n",
    "            text = text.replace('\\t',' ')\n",
    "            text = text.replace(\"?\", \"\")\n",
    "            text = re.sub('(&|;|:|,)', '', text)\n",
    "            text_list.append(text)\n",
    "    single_title_list = text_list\n",
    "    \n",
    "    return single_title_list"
   ]
  },
  {
   "cell_type": "code",
   "execution_count": 45,
   "metadata": {},
   "outputs": [],
   "source": [
    "def make_subtitle_idx_list(single_title_list, if_statement_interval):\n",
    "\n",
    "    subtitle_idx_list = []\n",
    "    for single_title in single_title_list:\n",
    "        if any(interval in single_title for interval in if_statement_interval):\n",
    "            subtitle_idx_list.append(single_title_list.index(single_title)+1)\n",
    "    subtitle_idx_list.insert(0, 0)\n",
    "    \n",
    "    return subtitle_idx_list"
   ]
  },
  {
   "cell_type": "code",
   "execution_count": 148,
   "metadata": {},
   "outputs": [],
   "source": [
    "def make_single_title_nested_list(subtitle_idx_list, title_list, subtitle_list, single_title_list, if_statement_interval):\n",
    "\n",
    "    single_title_nested_list = []\n",
    "    interval_01 = subtitle_list.index(if_statement_interval[0]) + 1\n",
    "    interval_02 = subtitle_list.index(if_statement_interval[1]) + 1\n",
    "    interval_03 = subtitle_list.index(if_statement_interval[2]) + 1\n",
    "    interval_04 = subtitle_list.index(if_statement_interval[3]) + 1\n",
    "        \n",
    "    for i in range(len(subtitle_idx_list)):\n",
    "        if i == interval_01:\n",
    "            inner_list = []\n",
    "            for j in range(i):\n",
    "                if j > -1:\n",
    "                    inner_list.append(single_title_list[subtitle_idx_list[j]:subtitle_idx_list[j+1]])\n",
    "            single_title_nested_list.append(inner_list)\n",
    "        elif i == interval_02:\n",
    "            inner_list = []\n",
    "            for j in range(i):\n",
    "                if j >= interval_01:\n",
    "                    inner_list.append(single_title_list[subtitle_idx_list[j]:subtitle_idx_list[j+1]])\n",
    "            single_title_nested_list.append(inner_list)\n",
    "        elif i == interval_03:\n",
    "            inner_list = []\n",
    "            for j in range(i):\n",
    "                if j >= interval_02:\n",
    "                    inner_list.append(single_title_list[subtitle_idx_list[j]:subtitle_idx_list[j+1]])  \n",
    "            # single_title_nested_list.append(inner_list)        \n",
    "        elif i == interval_04:\n",
    "            for j in range(i):\n",
    "                if j >= interval_03:\n",
    "                    inner_list.append(single_title_list[subtitle_idx_list[j]:subtitle_idx_list[j+1]])  \n",
    "            single_title_nested_list.append(inner_list)\n",
    "        \n",
    "    return single_title_nested_list"
   ]
  },
  {
   "cell_type": "code",
   "execution_count": 149,
   "metadata": {},
   "outputs": [],
   "source": [
    "title_list = make_title_list(soup)\n",
    "subtitle_list = make_subtitle_list(soup)\n",
    "single_title_list = make_single_title_list(soup)"
   ]
  },
  {
   "cell_type": "code",
   "execution_count": 165,
   "metadata": {},
   "outputs": [
    {
     "name": "stdout",
     "output_type": "stream",
     "text": [
      "['Part 0 기초', ' Part I 상식에 기반한 언어 디자인. 기계중심의 언어, 명령형  언어(imperative language) ', ' Part II 이론에 기반한 언어 디자인. 값중심의 언어(applicative  language)']\n"
     ]
    }
   ],
   "source": [
    "print(title_list)"
   ]
  },
  {
   "cell_type": "code",
   "execution_count": 164,
   "metadata": {},
   "outputs": [
    {
     "name": "stdout",
     "output_type": "stream",
     "text": [
      "['프로그래밍 언어란 무엇인가', '귀납법(inductive definitions amp inductions)', '추론규칙(inference rules)', '문법 의미', '변수 프로시저(procedure) 유효범위(scope)', '타입 시스템(type system)', '메모리 관리(memory management)', '번역(translation)과 가상 기계(virtual machine)', '이론에 기반한 언어', '단순 타입 추론 시스템(simple type inference system)', '다형 타입 추론(polymorphic type inference)', '계층타입 시스템(subtype system)', '물건중심의 언어(object-oriented language)', '강의 마무리']\n"
     ]
    }
   ],
   "source": [
    "print(subtitle_list)"
   ]
  },
  {
   "cell_type": "code",
   "execution_count": 163,
   "metadata": {},
   "outputs": [
    {
     "name": "stdout",
     "output_type": "stream",
     "text": [
      "['강의의 목표', '강의 내용 개괄', '프로그래밍 언어란 무엇인가', '프로그래밍 언어의 쓰임새', '프로그래밍 언어 배우기', '귀납적인 생각방식', '귀납적 정의의 표현법', '귀납적 정의 예제', '프로그래밍 언어와 귀납법', '요약된 문법구조(abstract syntax)', '프로그램 의미구조(semantics)', '귀납적으로 정의된 집합', '귀납적으로 정의된 집합 예제', '귀납법으로 증명하기', '귀납 증명 예제', '집합의 정의와 추론규칙(inference rule)', '집합의 정의와 추론규칙 예제', '추론규칙의 평가 증명나무(proof tree)', '안전성(soundness)과 완전성(completeness)', '안전성과 완전성과의 관계', '형식논리(formal logic) 표기법', '명령형 언어 소개', '추론 규칙에 의한 의미 정의 1', '추론 규칙에 의한 의미 정의 2', '메모리와 함수의 의미 정의 1', '메모리와 함수의 의미 정의 2', '실제 코드 예제로 의미 파악하기', '설탕 구조(syntactic sugar)', '변수와 유효범위', '유효범위를 정의하는 방법 1', '유효범위를 정의하는 방법 2', '유효범위 예제', '묶여있는 이름(bound variable)과 자유로운 이름(free variable)', '프로시저 소개', '프로시저를 표현하는 문법', '프로그램의 버그', '동적인 유효범위(dynamic scoping) 함수 인자 넘기기(parameter passing)', '재귀 프로시저(recursive procedure)', '메모리 주소의 유효기간(lifetime)', '타입 검사(type checking)의 동기', '안전성(soundness)과 완전성(completeness)', '타입 검사 1', '타입 검사 2', '멈춤 문제(halting problem) 1', '멈춤 문제(halting problem) 2', '타입에 대한 간략한 소개', '논리와 계산', '타입 추론하기', 'K- 언어와 타입 시스템', 'K- 언어 예제', 'K- 타입 추론 예제 1', 'K- 타입 추론 예제 2', '레코드 타입', '레코드 타입 예제 타입 추론', '타입 안전성(type safety)', 'K- 언어 전체 의미 파악 예제', '메모리 관리. 왜 필요한가', '메모리 누수(memory leak)와 메모리 재활용(garbage collection)', '메모리 재활용 과정', '메모리 재활용 알고리즘', 'mark amp sweep 알고리즘', 'stop amp copy 알고리즘', '용어 정의 및 소개', '프로그램 의미로 본 번역의 조건', '예제 정수식 스택머신', '예제 K-- 에서 SM5 로의 변환', '언어의 번역', '강의 전반부 마무리 및 강의 후반부 소개', '프로그래밍언의 모델 람다 계산법(Lambda Calculus)', '람다계산법 소개', '자유 변수와 치환', '자유 변수와 치환 예제', '계산법 정의', '계산끝난 식(normal form)', '끝을 내는 계산법(normal-order reduction)', '끝을 내는 계산법 예', '람다 계산법과 기계적인 계산', '재귀 함수의 표현', '재귀 함수 표현 예제', '의미 정의', '소극적 계산법(lazy evaluation)과 적극적 계산법(eager evaluation)', '값중심의 언어(applicative language)', '의미 정의 설탕 구조', '타입 추론(type inference)', '간단한 타입 추론 예제', '함수의 타입 단형타입(monomorphic type) 다형타입(polymorphic type)', '타입 추론시 주목해야 할 점들', '타입 시스템의 올바름 증명', '진행정리(progress lemma)와  보존정리(preservation lemma) 1', '타입 추론 예제', '진행정리(progress lemma)와  보존정리(preservation lemma) 2', '진행정리의 증명 1', '진행정리의 증명 2', '치환정리(substitution lemma)', '타입 추론의 올바름 증명', '타입 추론 알고리즘 예제', '타입 추론 알고리즘 직관 방정식 풀기 1', '타입 추론 알고리즘 직관 방정식 풀기 2', '추론 규칙의 구현', '타입 연립 방정식 세우기', '타입 연립 방정식 세우기 예제', '추론 규칙의 올바름 증명', '동일화(unification) 알고리즘', '동일화 알고리즘은 충실한 구현', '함부로 다형 타입으로 일반화하면 불안전', 'let-다형(let-polymorphic) 타입 시스템', '타입 추론 규칙', '타입 추론 규칙 예제 1', '타입 추론 규칙 예제 2', '다형 타입 유추 알고리즘 W 1', '다형 타입 유추 알고리즘 W 2', '다형 타입 유추 알고리즘 M', '기계중심 언어의 다형 타입 예제 1', '기계중심 언어의 다형 타입 예제 2', '기계중심 언어의 다형 타입 추론 1', '기계중심 언어의 다형 타입 추론 2', '소개 및 간단한 예제', '타입 추론 규칙', '물건중심 언어(object oriented language)와의 관계 1', '물건중심 언어(object oriented language)와의 관계 2', '유일한 특성 상속(inheritance)', '실행중 결정되는 함수의 실체(late binding dynamic binding)', '강의 리뷰']\n"
     ]
    }
   ],
   "source": [
    "print(single_title_list[:123])"
   ]
  },
  {
   "cell_type": "code",
   "execution_count": 150,
   "metadata": {},
   "outputs": [],
   "source": [
    "if_statement_interval = [\"프로그래밍 언어 배우기\", \"귀납 증명 예제\", \"형식논리(formal logic) 표기법\", \n",
    "                         \"설탕 구조(syntactic sugar)\", \"메모리 주소의 유효기간(lifetime)\", \n",
    "                         \"K- 언어 전체 의미 파악 예제\", \"stop amp copy 알고리즘\", \n",
    "                         \"강의 전반부 마무리 및 강의 후반부 소개\", \"의미 정의 설탕 구조\", \n",
    "                         \"동일화 알고리즘은 충실한 구현\", \"기계중심 언어의 다형 타입 추론 2\", \n",
    "                         \"물건중심 언어(object oriented language)와의 관계 2\", \n",
    "                         \"실행중 결정되는 함수의 실체(late binding dynamic binding)\", \"강의 리뷰\"]\n",
    "\n",
    "subtitle_idx_list = make_subtitle_idx_list(single_title_list, if_statement_interval)"
   ]
  },
  {
   "cell_type": "code",
   "execution_count": 166,
   "metadata": {},
   "outputs": [
    {
     "name": "stdout",
     "output_type": "stream",
     "text": [
      "[0, 5, 15, 21, 28, 39, 56, 62, 68, 83, 104, 116, 120, 122, 123]\n"
     ]
    }
   ],
   "source": [
    "print(subtitle_idx_list)"
   ]
  },
  {
   "cell_type": "code",
   "execution_count": 179,
   "metadata": {},
   "outputs": [],
   "source": [
    "if_statement_interval = [\"추론규칙(inference rules)\", \"번역(translation)과 가상 기계(virtual machine)\", \n",
    "                         \"물건중심의 언어(object-oriented language)\", \"강의 마무리\"]\n",
    "\n",
    "single_title_nested_list = make_single_title_nested_list(subtitle_idx_list, title_list, subtitle_list, single_title_list, if_statement_interval)"
   ]
  },
  {
   "cell_type": "code",
   "execution_count": 180,
   "metadata": {},
   "outputs": [
    {
     "data": {
      "text/plain": [
       "[[['강의의 목표', '강의 내용 개괄', '프로그래밍 언어란 무엇인가', '프로그래밍 언어의 쓰임새', '프로그래밍 언어 배우기'],\n",
       "  ['귀납적인 생각방식',\n",
       "   '귀납적 정의의 표현법',\n",
       "   '귀납적 정의 예제',\n",
       "   '프로그래밍 언어와 귀납법',\n",
       "   '요약된 문법구조(abstract syntax)',\n",
       "   '프로그램 의미구조(semantics)',\n",
       "   '귀납적으로 정의된 집합',\n",
       "   '귀납적으로 정의된 집합 예제',\n",
       "   '귀납법으로 증명하기',\n",
       "   '귀납 증명 예제'],\n",
       "  ['집합의 정의와 추론규칙(inference rule)',\n",
       "   '집합의 정의와 추론규칙 예제',\n",
       "   '추론규칙의 평가 증명나무(proof tree)',\n",
       "   '안전성(soundness)과 완전성(completeness)',\n",
       "   '안전성과 완전성과의 관계',\n",
       "   '형식논리(formal logic) 표기법']],\n",
       " [['명령형 언어 소개',\n",
       "   '추론 규칙에 의한 의미 정의 1',\n",
       "   '추론 규칙에 의한 의미 정의 2',\n",
       "   '메모리와 함수의 의미 정의 1',\n",
       "   '메모리와 함수의 의미 정의 2',\n",
       "   '실제 코드 예제로 의미 파악하기',\n",
       "   '설탕 구조(syntactic sugar)'],\n",
       "  ['변수와 유효범위',\n",
       "   '유효범위를 정의하는 방법 1',\n",
       "   '유효범위를 정의하는 방법 2',\n",
       "   '유효범위 예제',\n",
       "   '묶여있는 이름(bound variable)과 자유로운 이름(free variable)',\n",
       "   '프로시저 소개',\n",
       "   '프로시저를 표현하는 문법',\n",
       "   '프로그램의 버그',\n",
       "   '동적인 유효범위(dynamic scoping) 함수 인자 넘기기(parameter passing)',\n",
       "   '재귀 프로시저(recursive procedure)',\n",
       "   '메모리 주소의 유효기간(lifetime)'],\n",
       "  ['타입 검사(type checking)의 동기',\n",
       "   '안전성(soundness)과 완전성(completeness)',\n",
       "   '타입 검사 1',\n",
       "   '타입 검사 2',\n",
       "   '멈춤 문제(halting problem) 1',\n",
       "   '멈춤 문제(halting problem) 2',\n",
       "   '타입에 대한 간략한 소개',\n",
       "   '논리와 계산',\n",
       "   '타입 추론하기',\n",
       "   'K- 언어와 타입 시스템',\n",
       "   'K- 언어 예제',\n",
       "   'K- 타입 추론 예제 1',\n",
       "   'K- 타입 추론 예제 2',\n",
       "   '레코드 타입',\n",
       "   '레코드 타입 예제 타입 추론',\n",
       "   '타입 안전성(type safety)',\n",
       "   'K- 언어 전체 의미 파악 예제'],\n",
       "  ['메모리 관리. 왜 필요한가',\n",
       "   '메모리 누수(memory leak)와 메모리 재활용(garbage collection)',\n",
       "   '메모리 재활용 과정',\n",
       "   '메모리 재활용 알고리즘',\n",
       "   'mark amp sweep 알고리즘',\n",
       "   'stop amp copy 알고리즘'],\n",
       "  ['용어 정의 및 소개',\n",
       "   '프로그램 의미로 본 번역의 조건',\n",
       "   '예제 정수식 스택머신',\n",
       "   '예제 K-- 에서 SM5 로의 변환',\n",
       "   '언어의 번역',\n",
       "   '강의 전반부 마무리 및 강의 후반부 소개']],\n",
       " [['프로그래밍언의 모델 람다 계산법(Lambda Calculus)',\n",
       "   '람다계산법 소개',\n",
       "   '자유 변수와 치환',\n",
       "   '자유 변수와 치환 예제',\n",
       "   '계산법 정의',\n",
       "   '계산끝난 식(normal form)',\n",
       "   '끝을 내는 계산법(normal-order reduction)',\n",
       "   '끝을 내는 계산법 예',\n",
       "   '람다 계산법과 기계적인 계산',\n",
       "   '재귀 함수의 표현',\n",
       "   '재귀 함수 표현 예제',\n",
       "   '의미 정의',\n",
       "   '소극적 계산법(lazy evaluation)과 적극적 계산법(eager evaluation)',\n",
       "   '값중심의 언어(applicative language)',\n",
       "   '의미 정의 설탕 구조'],\n",
       "  ['타입 추론(type inference)',\n",
       "   '간단한 타입 추론 예제',\n",
       "   '함수의 타입 단형타입(monomorphic type) 다형타입(polymorphic type)',\n",
       "   '타입 추론시 주목해야 할 점들',\n",
       "   '타입 시스템의 올바름 증명',\n",
       "   '진행정리(progress lemma)와  보존정리(preservation lemma) 1',\n",
       "   '타입 추론 예제',\n",
       "   '진행정리(progress lemma)와  보존정리(preservation lemma) 2',\n",
       "   '진행정리의 증명 1',\n",
       "   '진행정리의 증명 2',\n",
       "   '치환정리(substitution lemma)',\n",
       "   '타입 추론의 올바름 증명',\n",
       "   '타입 추론 알고리즘 예제',\n",
       "   '타입 추론 알고리즘 직관 방정식 풀기 1',\n",
       "   '타입 추론 알고리즘 직관 방정식 풀기 2',\n",
       "   '추론 규칙의 구현',\n",
       "   '타입 연립 방정식 세우기',\n",
       "   '타입 연립 방정식 세우기 예제',\n",
       "   '추론 규칙의 올바름 증명',\n",
       "   '동일화(unification) 알고리즘',\n",
       "   '동일화 알고리즘은 충실한 구현'],\n",
       "  ['함부로 다형 타입으로 일반화하면 불안전',\n",
       "   'let-다형(let-polymorphic) 타입 시스템',\n",
       "   '타입 추론 규칙',\n",
       "   '타입 추론 규칙 예제 1',\n",
       "   '타입 추론 규칙 예제 2',\n",
       "   '다형 타입 유추 알고리즘 W 1',\n",
       "   '다형 타입 유추 알고리즘 W 2',\n",
       "   '다형 타입 유추 알고리즘 M',\n",
       "   '기계중심 언어의 다형 타입 예제 1',\n",
       "   '기계중심 언어의 다형 타입 예제 2',\n",
       "   '기계중심 언어의 다형 타입 추론 1',\n",
       "   '기계중심 언어의 다형 타입 추론 2'],\n",
       "  ['소개 및 간단한 예제',\n",
       "   '타입 추론 규칙',\n",
       "   '물건중심 언어(object oriented language)와의 관계 1',\n",
       "   '물건중심 언어(object oriented language)와의 관계 2'],\n",
       "  ['유일한 특성 상속(inheritance)', '실행중 결정되는 함수의 실체(late binding dynamic binding)'],\n",
       "  ['강의 리뷰']]]"
      ]
     },
     "execution_count": 180,
     "metadata": {},
     "output_type": "execute_result"
    }
   ],
   "source": [
    "single_title_nested_list"
   ]
  },
  {
   "cell_type": "markdown",
   "metadata": {},
   "source": [
    "#### Make Dataframe by List"
   ]
  },
  {
   "cell_type": "code",
   "execution_count": 152,
   "metadata": {},
   "outputs": [],
   "source": [
    "def make_video_title_df_by_list(single_title_nested_list, single_title_list, subtitle_list, title_list):\n",
    "    \n",
    "    video_title_df = pd.DataFrame({'title':[0]})\n",
    "\n",
    "    idx = -1\n",
    "    subtitle_idx = -1\n",
    "    for i, j in enumerate(single_title_nested_list):\n",
    "        for k, l in enumerate(j):\n",
    "            subtitle_idx += 1\n",
    "            for m, n in enumerate(l):\n",
    "                idx += 1\n",
    "                video_title_df.loc[idx] = [single_title_list[idx] +  \" - \" + subtitle_list[subtitle_idx] + \" - \" + title_list[i]]\n",
    "\n",
    "    return video_title_df"
   ]
  },
  {
   "cell_type": "code",
   "execution_count": 153,
   "metadata": {},
   "outputs": [],
   "source": [
    "video_title_df = make_video_title_df_by_list(single_title_nested_list, single_title_list, subtitle_list, title_list)"
   ]
  },
  {
   "cell_type": "code",
   "execution_count": 154,
   "metadata": {},
   "outputs": [
    {
     "data": {
      "text/html": [
       "<div>\n",
       "<style scoped>\n",
       "    .dataframe tbody tr th:only-of-type {\n",
       "        vertical-align: middle;\n",
       "    }\n",
       "\n",
       "    .dataframe tbody tr th {\n",
       "        vertical-align: top;\n",
       "    }\n",
       "\n",
       "    .dataframe thead th {\n",
       "        text-align: right;\n",
       "    }\n",
       "</style>\n",
       "<table border=\"1\" class=\"dataframe\">\n",
       "  <thead>\n",
       "    <tr style=\"text-align: right;\">\n",
       "      <th></th>\n",
       "      <th>title</th>\n",
       "    </tr>\n",
       "  </thead>\n",
       "  <tbody>\n",
       "    <tr>\n",
       "      <th>0</th>\n",
       "      <td>강의의 목표 - 프로그래밍 언어란 무엇인가 - Part 0 기초</td>\n",
       "    </tr>\n",
       "    <tr>\n",
       "      <th>1</th>\n",
       "      <td>강의 내용 개괄 - 프로그래밍 언어란 무엇인가 - Part 0 기초</td>\n",
       "    </tr>\n",
       "    <tr>\n",
       "      <th>2</th>\n",
       "      <td>프로그래밍 언어란 무엇인가 - 프로그래밍 언어란 무엇인가 - Part 0 기초</td>\n",
       "    </tr>\n",
       "    <tr>\n",
       "      <th>3</th>\n",
       "      <td>프로그래밍 언어의 쓰임새 - 프로그래밍 언어란 무엇인가 - Part 0 기초</td>\n",
       "    </tr>\n",
       "    <tr>\n",
       "      <th>4</th>\n",
       "      <td>프로그래밍 언어 배우기 - 프로그래밍 언어란 무엇인가 - Part 0 기초</td>\n",
       "    </tr>\n",
       "    <tr>\n",
       "      <th>...</th>\n",
       "      <td>...</td>\n",
       "    </tr>\n",
       "    <tr>\n",
       "      <th>118</th>\n",
       "      <td>물건중심 언어(object oriented language)와의 관계 1 - 계층타...</td>\n",
       "    </tr>\n",
       "    <tr>\n",
       "      <th>119</th>\n",
       "      <td>물건중심 언어(object oriented language)와의 관계 2 - 계층타...</td>\n",
       "    </tr>\n",
       "    <tr>\n",
       "      <th>120</th>\n",
       "      <td>유일한 특성 상속(inheritance) - 물건중심의 언어(object-orien...</td>\n",
       "    </tr>\n",
       "    <tr>\n",
       "      <th>121</th>\n",
       "      <td>실행중 결정되는 함수의 실체(late binding dynamic binding) ...</td>\n",
       "    </tr>\n",
       "    <tr>\n",
       "      <th>122</th>\n",
       "      <td>강의 리뷰 - 강의 마무리 -  Part II 이론에 기반한 언어 디자인. 값중심의...</td>\n",
       "    </tr>\n",
       "  </tbody>\n",
       "</table>\n",
       "<p>123 rows × 1 columns</p>\n",
       "</div>"
      ],
      "text/plain": [
       "                                                 title\n",
       "0                  강의의 목표 - 프로그래밍 언어란 무엇인가 - Part 0 기초\n",
       "1                강의 내용 개괄 - 프로그래밍 언어란 무엇인가 - Part 0 기초\n",
       "2          프로그래밍 언어란 무엇인가 - 프로그래밍 언어란 무엇인가 - Part 0 기초\n",
       "3           프로그래밍 언어의 쓰임새 - 프로그래밍 언어란 무엇인가 - Part 0 기초\n",
       "4            프로그래밍 언어 배우기 - 프로그래밍 언어란 무엇인가 - Part 0 기초\n",
       "..                                                 ...\n",
       "118  물건중심 언어(object oriented language)와의 관계 1 - 계층타...\n",
       "119  물건중심 언어(object oriented language)와의 관계 2 - 계층타...\n",
       "120  유일한 특성 상속(inheritance) - 물건중심의 언어(object-orien...\n",
       "121  실행중 결정되는 함수의 실체(late binding dynamic binding) ...\n",
       "122  강의 리뷰 - 강의 마무리 -  Part II 이론에 기반한 언어 디자인. 값중심의...\n",
       "\n",
       "[123 rows x 1 columns]"
      ]
     },
     "execution_count": 154,
     "metadata": {},
     "output_type": "execute_result"
    }
   ],
   "source": [
    "video_title_df"
   ]
  },
  {
   "cell_type": "markdown",
   "metadata": {},
   "source": [
    "#### Make Dataframe by Dict"
   ]
  },
  {
   "cell_type": "code",
   "execution_count": 155,
   "metadata": {},
   "outputs": [],
   "source": [
    "def make_video_title_dict(single_title_nested_list, title_list, subtitle_list):\n",
    "\n",
    "    video_title_dict = {val: key for key, val in enumerate(title_list)}\n",
    "    for i in range(len(single_title_nested_list)):\n",
    "        video_title_dict[title_list[i]] = {subtitle_list[j] : k for j, k in enumerate(single_title_nested_list[i])}\n",
    "        subtitle_list = subtitle_list[len(single_title_nested_list[i]):]\n",
    "        \n",
    "    return video_title_dict"
   ]
  },
  {
   "cell_type": "code",
   "execution_count": 156,
   "metadata": {},
   "outputs": [],
   "source": [
    "def make_video_title_df_by_dict(video_title_dict):\n",
    "    \n",
    "    video_title_df = pd.DataFrame({'title':[0]})\n",
    "    idx = -1\n",
    "    for title, title_idx in video_title_dict.items():\n",
    "        for subtitle, single_titles in video_title_dict[title].items():\n",
    "            for single_title in single_titles:\n",
    "               idx += 1\n",
    "               video_title_df.loc[idx] = [single_title +  \" - \" + subtitle + \" - \" + title]\n",
    "    \n",
    "    video_title_df.to_excel(\"video_title_df.xlsx\")\n",
    "        \n",
    "    return video_title_df"
   ]
  },
  {
   "cell_type": "code",
   "execution_count": 171,
   "metadata": {},
   "outputs": [],
   "source": [
    "video_title_dict = make_video_title_dict(single_title_nested_list, title_list, subtitle_list)"
   ]
  },
  {
   "cell_type": "code",
   "execution_count": 176,
   "metadata": {},
   "outputs": [
    {
     "data": {
      "text/plain": [
       "{'Part 0 기초': {'프로그래밍 언어란 무엇인가': ['강의의 목표',\n",
       "   '강의 내용 개괄',\n",
       "   '프로그래밍 언어란 무엇인가',\n",
       "   '프로그래밍 언어의 쓰임새',\n",
       "   '프로그래밍 언어 배우기'],\n",
       "  '귀납법(inductive definitions amp inductions)': ['귀납적인 생각방식',\n",
       "   '귀납적 정의의 표현법',\n",
       "   '귀납적 정의 예제',\n",
       "   '프로그래밍 언어와 귀납법',\n",
       "   '요약된 문법구조(abstract syntax)',\n",
       "   '프로그램 의미구조(semantics)',\n",
       "   '귀납적으로 정의된 집합',\n",
       "   '귀납적으로 정의된 집합 예제',\n",
       "   '귀납법으로 증명하기',\n",
       "   '귀납 증명 예제'],\n",
       "  '추론규칙(inference rules)': ['집합의 정의와 추론규칙(inference rule)',\n",
       "   '집합의 정의와 추론규칙 예제',\n",
       "   '추론규칙의 평가 증명나무(proof tree)',\n",
       "   '안전성(soundness)과 완전성(completeness)',\n",
       "   '안전성과 완전성과의 관계',\n",
       "   '형식논리(formal logic) 표기법']},\n",
       " ' Part I 상식에 기반한 언어 디자인. 기계중심의 언어, 명령형  언어(imperative language) ': {'문법 의미': ['명령형 언어 소개',\n",
       "   '추론 규칙에 의한 의미 정의 1',\n",
       "   '추론 규칙에 의한 의미 정의 2',\n",
       "   '메모리와 함수의 의미 정의 1',\n",
       "   '메모리와 함수의 의미 정의 2',\n",
       "   '실제 코드 예제로 의미 파악하기',\n",
       "   '설탕 구조(syntactic sugar)'],\n",
       "  '변수 프로시저(procedure) 유효범위(scope)': ['변수와 유효범위',\n",
       "   '유효범위를 정의하는 방법 1',\n",
       "   '유효범위를 정의하는 방법 2',\n",
       "   '유효범위 예제',\n",
       "   '묶여있는 이름(bound variable)과 자유로운 이름(free variable)',\n",
       "   '프로시저 소개',\n",
       "   '프로시저를 표현하는 문법',\n",
       "   '프로그램의 버그',\n",
       "   '동적인 유효범위(dynamic scoping) 함수 인자 넘기기(parameter passing)',\n",
       "   '재귀 프로시저(recursive procedure)',\n",
       "   '메모리 주소의 유효기간(lifetime)'],\n",
       "  '타입 시스템(type system)': ['타입 검사(type checking)의 동기',\n",
       "   '안전성(soundness)과 완전성(completeness)',\n",
       "   '타입 검사 1',\n",
       "   '타입 검사 2',\n",
       "   '멈춤 문제(halting problem) 1',\n",
       "   '멈춤 문제(halting problem) 2',\n",
       "   '타입에 대한 간략한 소개',\n",
       "   '논리와 계산',\n",
       "   '타입 추론하기',\n",
       "   'K- 언어와 타입 시스템',\n",
       "   'K- 언어 예제',\n",
       "   'K- 타입 추론 예제 1',\n",
       "   'K- 타입 추론 예제 2',\n",
       "   '레코드 타입',\n",
       "   '레코드 타입 예제 타입 추론',\n",
       "   '타입 안전성(type safety)',\n",
       "   'K- 언어 전체 의미 파악 예제'],\n",
       "  '메모리 관리(memory management)': ['메모리 관리. 왜 필요한가',\n",
       "   '메모리 누수(memory leak)와 메모리 재활용(garbage collection)',\n",
       "   '메모리 재활용 과정',\n",
       "   '메모리 재활용 알고리즘',\n",
       "   'mark amp sweep 알고리즘',\n",
       "   'stop amp copy 알고리즘'],\n",
       "  '번역(translation)과 가상 기계(virtual machine)': ['용어 정의 및 소개',\n",
       "   '프로그램 의미로 본 번역의 조건',\n",
       "   '예제 정수식 스택머신',\n",
       "   '예제 K-- 에서 SM5 로의 변환',\n",
       "   '언어의 번역',\n",
       "   '강의 전반부 마무리 및 강의 후반부 소개']},\n",
       " ' Part II 이론에 기반한 언어 디자인. 값중심의 언어(applicative  language)': {'이론에 기반한 언어': ['프로그래밍언의 모델 람다 계산법(Lambda Calculus)',\n",
       "   '람다계산법 소개',\n",
       "   '자유 변수와 치환',\n",
       "   '자유 변수와 치환 예제',\n",
       "   '계산법 정의',\n",
       "   '계산끝난 식(normal form)',\n",
       "   '끝을 내는 계산법(normal-order reduction)',\n",
       "   '끝을 내는 계산법 예',\n",
       "   '람다 계산법과 기계적인 계산',\n",
       "   '재귀 함수의 표현',\n",
       "   '재귀 함수 표현 예제',\n",
       "   '의미 정의',\n",
       "   '소극적 계산법(lazy evaluation)과 적극적 계산법(eager evaluation)',\n",
       "   '값중심의 언어(applicative language)',\n",
       "   '의미 정의 설탕 구조'],\n",
       "  '단순 타입 추론 시스템(simple type inference system)': ['타입 추론(type inference)',\n",
       "   '간단한 타입 추론 예제',\n",
       "   '함수의 타입 단형타입(monomorphic type) 다형타입(polymorphic type)',\n",
       "   '타입 추론시 주목해야 할 점들',\n",
       "   '타입 시스템의 올바름 증명',\n",
       "   '진행정리(progress lemma)와  보존정리(preservation lemma) 1',\n",
       "   '타입 추론 예제',\n",
       "   '진행정리(progress lemma)와  보존정리(preservation lemma) 2',\n",
       "   '진행정리의 증명 1',\n",
       "   '진행정리의 증명 2',\n",
       "   '치환정리(substitution lemma)',\n",
       "   '타입 추론의 올바름 증명',\n",
       "   '타입 추론 알고리즘 예제',\n",
       "   '타입 추론 알고리즘 직관 방정식 풀기 1',\n",
       "   '타입 추론 알고리즘 직관 방정식 풀기 2',\n",
       "   '추론 규칙의 구현',\n",
       "   '타입 연립 방정식 세우기',\n",
       "   '타입 연립 방정식 세우기 예제',\n",
       "   '추론 규칙의 올바름 증명',\n",
       "   '동일화(unification) 알고리즘',\n",
       "   '동일화 알고리즘은 충실한 구현'],\n",
       "  '다형 타입 추론(polymorphic type inference)': ['함부로 다형 타입으로 일반화하면 불안전',\n",
       "   'let-다형(let-polymorphic) 타입 시스템',\n",
       "   '타입 추론 규칙',\n",
       "   '타입 추론 규칙 예제 1',\n",
       "   '타입 추론 규칙 예제 2',\n",
       "   '다형 타입 유추 알고리즘 W 1',\n",
       "   '다형 타입 유추 알고리즘 W 2',\n",
       "   '다형 타입 유추 알고리즘 M',\n",
       "   '기계중심 언어의 다형 타입 예제 1',\n",
       "   '기계중심 언어의 다형 타입 예제 2',\n",
       "   '기계중심 언어의 다형 타입 추론 1',\n",
       "   '기계중심 언어의 다형 타입 추론 2'],\n",
       "  '계층타입 시스템(subtype system)': ['소개 및 간단한 예제',\n",
       "   '타입 추론 규칙',\n",
       "   '물건중심 언어(object oriented language)와의 관계 1',\n",
       "   '물건중심 언어(object oriented language)와의 관계 2'],\n",
       "  '물건중심의 언어(object-oriented language)': ['유일한 특성 상속(inheritance)',\n",
       "   '실행중 결정되는 함수의 실체(late binding dynamic binding)'],\n",
       "  '강의 마무리': ['강의 리뷰']}}"
      ]
     },
     "execution_count": 176,
     "metadata": {},
     "output_type": "execute_result"
    }
   ],
   "source": [
    "video_title_dict"
   ]
  },
  {
   "cell_type": "code",
   "execution_count": 157,
   "metadata": {},
   "outputs": [],
   "source": [
    "video_title_df = make_video_title_df_by_dict(video_title_dict)"
   ]
  },
  {
   "cell_type": "code",
   "execution_count": 158,
   "metadata": {},
   "outputs": [
    {
     "data": {
      "text/html": [
       "<div>\n",
       "<style scoped>\n",
       "    .dataframe tbody tr th:only-of-type {\n",
       "        vertical-align: middle;\n",
       "    }\n",
       "\n",
       "    .dataframe tbody tr th {\n",
       "        vertical-align: top;\n",
       "    }\n",
       "\n",
       "    .dataframe thead th {\n",
       "        text-align: right;\n",
       "    }\n",
       "</style>\n",
       "<table border=\"1\" class=\"dataframe\">\n",
       "  <thead>\n",
       "    <tr style=\"text-align: right;\">\n",
       "      <th></th>\n",
       "      <th>title</th>\n",
       "    </tr>\n",
       "  </thead>\n",
       "  <tbody>\n",
       "    <tr>\n",
       "      <th>0</th>\n",
       "      <td>강의의 목표 - 프로그래밍 언어란 무엇인가 - Part 0 기초</td>\n",
       "    </tr>\n",
       "    <tr>\n",
       "      <th>1</th>\n",
       "      <td>강의 내용 개괄 - 프로그래밍 언어란 무엇인가 - Part 0 기초</td>\n",
       "    </tr>\n",
       "    <tr>\n",
       "      <th>2</th>\n",
       "      <td>프로그래밍 언어란 무엇인가 - 프로그래밍 언어란 무엇인가 - Part 0 기초</td>\n",
       "    </tr>\n",
       "    <tr>\n",
       "      <th>3</th>\n",
       "      <td>프로그래밍 언어의 쓰임새 - 프로그래밍 언어란 무엇인가 - Part 0 기초</td>\n",
       "    </tr>\n",
       "    <tr>\n",
       "      <th>4</th>\n",
       "      <td>프로그래밍 언어 배우기 - 프로그래밍 언어란 무엇인가 - Part 0 기초</td>\n",
       "    </tr>\n",
       "    <tr>\n",
       "      <th>...</th>\n",
       "      <td>...</td>\n",
       "    </tr>\n",
       "    <tr>\n",
       "      <th>118</th>\n",
       "      <td>물건중심 언어(object oriented language)와의 관계 1 - 계층타...</td>\n",
       "    </tr>\n",
       "    <tr>\n",
       "      <th>119</th>\n",
       "      <td>물건중심 언어(object oriented language)와의 관계 2 - 계층타...</td>\n",
       "    </tr>\n",
       "    <tr>\n",
       "      <th>120</th>\n",
       "      <td>유일한 특성 상속(inheritance) - 물건중심의 언어(object-orien...</td>\n",
       "    </tr>\n",
       "    <tr>\n",
       "      <th>121</th>\n",
       "      <td>실행중 결정되는 함수의 실체(late binding dynamic binding) ...</td>\n",
       "    </tr>\n",
       "    <tr>\n",
       "      <th>122</th>\n",
       "      <td>강의 리뷰 - 강의 마무리 -  Part II 이론에 기반한 언어 디자인. 값중심의...</td>\n",
       "    </tr>\n",
       "  </tbody>\n",
       "</table>\n",
       "<p>123 rows × 1 columns</p>\n",
       "</div>"
      ],
      "text/plain": [
       "                                                 title\n",
       "0                  강의의 목표 - 프로그래밍 언어란 무엇인가 - Part 0 기초\n",
       "1                강의 내용 개괄 - 프로그래밍 언어란 무엇인가 - Part 0 기초\n",
       "2          프로그래밍 언어란 무엇인가 - 프로그래밍 언어란 무엇인가 - Part 0 기초\n",
       "3           프로그래밍 언어의 쓰임새 - 프로그래밍 언어란 무엇인가 - Part 0 기초\n",
       "4            프로그래밍 언어 배우기 - 프로그래밍 언어란 무엇인가 - Part 0 기초\n",
       "..                                                 ...\n",
       "118  물건중심 언어(object oriented language)와의 관계 1 - 계층타...\n",
       "119  물건중심 언어(object oriented language)와의 관계 2 - 계층타...\n",
       "120  유일한 특성 상속(inheritance) - 물건중심의 언어(object-orien...\n",
       "121  실행중 결정되는 함수의 실체(late binding dynamic binding) ...\n",
       "122  강의 리뷰 - 강의 마무리 -  Part II 이론에 기반한 언어 디자인. 값중심의...\n",
       "\n",
       "[123 rows x 1 columns]"
      ]
     },
     "execution_count": 158,
     "metadata": {},
     "output_type": "execute_result"
    }
   ],
   "source": [
    "video_title_df"
   ]
  },
  {
   "cell_type": "markdown",
   "metadata": {},
   "source": [
    "### Video Downloader"
   ]
  },
  {
   "cell_type": "code",
   "execution_count": 189,
   "metadata": {},
   "outputs": [],
   "source": [
    "def getURL(page):\n",
    "\n",
    "    start_link = page.find(\"a href\")\n",
    "    if start_link == -1:\n",
    "        return None, 0\n",
    "    start_quote = page.find('\"', start_link)\n",
    "    end_quote = page.find('\"', start_quote + 1)\n",
    "    url = page[start_quote + 1: end_quote]\n",
    "    \n",
    "    return url, end_quote"
   ]
  },
  {
   "cell_type": "code",
   "execution_count": 190,
   "metadata": {},
   "outputs": [],
   "source": [
    "def download(url, fileName, file_new_name):\n",
    "    urlretrieve(url, fileName)\n",
    "    os.rename(fileName, file_new_name)"
   ]
  },
  {
   "cell_type": "code",
   "execution_count": null,
   "metadata": {},
   "outputs": [],
   "source": [
    "def video_downloader(page, viedo_title_df, file_extension):\n",
    "    \n",
    "    idx = -1\n",
    "    while True:\n",
    "        url, n = getURL(page)\n",
    "        page = page[n:]\n",
    "\n",
    "        if url:\n",
    "\n",
    "            if url.endswith(file_extension):\n",
    "\n",
    "                while 10 < threading.active_count():\n",
    "                    time.sleep(3)\n",
    "\n",
    "                idx += 1\n",
    "                if idx % 10 == 0 and idx != 0:\n",
    "                    print()\n",
    "                if len(url[:-4]) > 1:\n",
    "                    print(url[:-4], end=\"  |  \")\n",
    "                file_new_name = url[:-4] + \" - \" + viedo_title_df.loc[idx]['title'] + file_extension\n",
    "                t = threading.Thread(target=download, args=(target+url, url, file_new_name))\n",
    "                t.daemon = True\n",
    "                t.start()\n",
    "\n",
    "        else:\n",
    "            while 0 < threading.active_count():\n",
    "                time.sleep(3)\n",
    "            break\n",
    "    "
   ]
  },
  {
   "cell_type": "code",
   "execution_count": 200,
   "metadata": {},
   "outputs": [],
   "source": [
    "def check_download_file(video_title_df, file_extension):\n",
    "\n",
    "    video_file_list = glob(\"*.mp4\")\n",
    "    if len(video_file_list) == len(video_title_df):\n",
    "        print(\"Video Download Complete\")\n",
    "    video_file_df = pd.DataFrame({'file':video_file_list})\n",
    "    \n",
    "    return video_file_df"
   ]
  },
  {
   "cell_type": "code",
   "execution_count": 191,
   "metadata": {},
   "outputs": [
    {
     "name": "stdout",
     "output_type": "stream",
     "text": [
      "01-01  |  01-02  |  01-03  |  01-04  |  01-05  |  02-01  |  02-02  |  02-03  |  02-04  |  02-05  |  \n",
      "02-06  |  02-07  |  02-08  |  02-09  |  02-10  |  03-01  |  03-02  |  03-03  |  03-04  |  03-05  |  \n",
      "03-06  |  04-01  |  04-02  |  04-03  |  04-04  |  04-05  |  04-06  |  04-07  |  05-01  |  05-02  |  \n",
      "05-03  |  05-04  |  05-05  |  05-06  |  05-07  |  05-08  |  05-09  |  05-10  |  05-11  |  06-01  |  \n",
      "06-02  |  06-03  |  06-04  |  06-05  |  06-06  |  06-07  |  06-08  |  06-09  |  06-10  |  06-11  |  \n",
      "06-12  |  06-13  |  06-14  |  06-15  |  06-16  |  06-17  |  07-01  |  07-02  |  07-03  |  07-04  |  \n",
      "07-05  |  07-06  |  08-01  |  08-02  |  08-03  |  08-04  |  08-05  |  08-06  |  09-01  |  09-02  |  \n",
      "09-03  |  09-04  |  09-05  |  09-06  |  09-07  |  09-08  |  09-09  |  09-10  |  09-11  |  09-12  |  \n",
      "09-13  |  10-01  |  10-02  |  11-01  |  11-02  |  11-03  |  11-04  |  11-05  |  11-06  |  11-07  |  \n",
      "11-08  |  11-09  |  11-10  |  11-11  |  11-12  |  11-13  |  11-14  |  11-15  |  11-16  |  11-17  |  \n",
      "11-18  |  11-19  |  11-20  |  11-21  |  12-01  |  12-02  |  12-03  |  12-04  |  12-05  |  12-06  |  \n",
      "12-07  |  12-08  |  12-09  |  12-10  |  12-11  |  12-12  |  13-01  |  13-02  |  13-03  |  13-04  |  \n",
      "14-01  |  14-02  |  15-01  |  "
     ]
    },
    {
     "ename": "KeyboardInterrupt",
     "evalue": "",
     "output_type": "error",
     "traceback": [
      "\u001b[1;31m---------------------------------------------------------------------------\u001b[0m",
      "\u001b[1;31mKeyboardInterrupt\u001b[0m                         Traceback (most recent call last)",
      "Cell \u001b[1;32mIn[191], line 25\u001b[0m\n\u001b[0;32m     23\u001b[0m \u001b[39melse\u001b[39;00m:\n\u001b[0;32m     24\u001b[0m     \u001b[39mwhile\u001b[39;00m \u001b[39m0\u001b[39m \u001b[39m<\u001b[39m threading\u001b[39m.\u001b[39mactive_count():\n\u001b[1;32m---> 25\u001b[0m         time\u001b[39m.\u001b[39msleep(\u001b[39m3\u001b[39m)\n\u001b[0;32m     26\u001b[0m     \u001b[39mbreak\u001b[39;00m\n",
      "\u001b[1;31mKeyboardInterrupt\u001b[0m: "
     ]
    }
   ],
   "source": [
    "video_downloader(page, viedo_title_df, '.mp4')"
   ]
  },
  {
   "cell_type": "code",
   "execution_count": 204,
   "metadata": {},
   "outputs": [
    {
     "name": "stdout",
     "output_type": "stream",
     "text": [
      "Video Download Complete\n"
     ]
    },
    {
     "data": {
      "text/html": [
       "<div>\n",
       "<style scoped>\n",
       "    .dataframe tbody tr th:only-of-type {\n",
       "        vertical-align: middle;\n",
       "    }\n",
       "\n",
       "    .dataframe tbody tr th {\n",
       "        vertical-align: top;\n",
       "    }\n",
       "\n",
       "    .dataframe thead th {\n",
       "        text-align: right;\n",
       "    }\n",
       "</style>\n",
       "<table border=\"1\" class=\"dataframe\">\n",
       "  <thead>\n",
       "    <tr style=\"text-align: right;\">\n",
       "      <th></th>\n",
       "      <th>file</th>\n",
       "    </tr>\n",
       "  </thead>\n",
       "  <tbody>\n",
       "    <tr>\n",
       "      <th>0</th>\n",
       "      <td>01-01 - 강의의 목표 - 프로그래밍 언어란 무엇인가 - Part 0 기초.mp4</td>\n",
       "    </tr>\n",
       "    <tr>\n",
       "      <th>1</th>\n",
       "      <td>01-02 - 강의 내용 개괄 - 프로그래밍 언어란 무엇인가 - Part 0 기초.mp4</td>\n",
       "    </tr>\n",
       "    <tr>\n",
       "      <th>2</th>\n",
       "      <td>01-03 - 프로그래밍 언어란 무엇인가 - 프로그래밍 언어란 무엇인가 - Part...</td>\n",
       "    </tr>\n",
       "    <tr>\n",
       "      <th>3</th>\n",
       "      <td>01-04 - 프로그래밍 언어의 쓰임새 - 프로그래밍 언어란 무엇인가 - Part ...</td>\n",
       "    </tr>\n",
       "    <tr>\n",
       "      <th>4</th>\n",
       "      <td>01-05 - 프로그래밍 언어 배우기 - 프로그래밍 언어란 무엇인가 - Part 0...</td>\n",
       "    </tr>\n",
       "    <tr>\n",
       "      <th>...</th>\n",
       "      <td>...</td>\n",
       "    </tr>\n",
       "    <tr>\n",
       "      <th>118</th>\n",
       "      <td>13-03 - 물건중심 언어(object oriented language)와의 관계...</td>\n",
       "    </tr>\n",
       "    <tr>\n",
       "      <th>119</th>\n",
       "      <td>13-04 - 물건중심 언어(object oriented language)와의 관계...</td>\n",
       "    </tr>\n",
       "    <tr>\n",
       "      <th>120</th>\n",
       "      <td>14-01 - 유일한 특성 상속(inheritance) - 물건중심의 언어(obje...</td>\n",
       "    </tr>\n",
       "    <tr>\n",
       "      <th>121</th>\n",
       "      <td>14-02 - 실행중 결정되는 함수의 실체(late binding dynamic b...</td>\n",
       "    </tr>\n",
       "    <tr>\n",
       "      <th>122</th>\n",
       "      <td>15-01 - 강의 리뷰 - 강의 마무리 -  Part II 이론에 기반한 언어 디...</td>\n",
       "    </tr>\n",
       "  </tbody>\n",
       "</table>\n",
       "<p>123 rows × 1 columns</p>\n",
       "</div>"
      ],
      "text/plain": [
       "                                                  file\n",
       "0      01-01 - 강의의 목표 - 프로그래밍 언어란 무엇인가 - Part 0 기초.mp4\n",
       "1    01-02 - 강의 내용 개괄 - 프로그래밍 언어란 무엇인가 - Part 0 기초.mp4\n",
       "2    01-03 - 프로그래밍 언어란 무엇인가 - 프로그래밍 언어란 무엇인가 - Part...\n",
       "3    01-04 - 프로그래밍 언어의 쓰임새 - 프로그래밍 언어란 무엇인가 - Part ...\n",
       "4    01-05 - 프로그래밍 언어 배우기 - 프로그래밍 언어란 무엇인가 - Part 0...\n",
       "..                                                 ...\n",
       "118  13-03 - 물건중심 언어(object oriented language)와의 관계...\n",
       "119  13-04 - 물건중심 언어(object oriented language)와의 관계...\n",
       "120  14-01 - 유일한 특성 상속(inheritance) - 물건중심의 언어(obje...\n",
       "121  14-02 - 실행중 결정되는 함수의 실체(late binding dynamic b...\n",
       "122  15-01 - 강의 리뷰 - 강의 마무리 -  Part II 이론에 기반한 언어 디...\n",
       "\n",
       "[123 rows x 1 columns]"
      ]
     },
     "execution_count": 204,
     "metadata": {},
     "output_type": "execute_result"
    }
   ],
   "source": [
    "video_file_df = check_download_file(video_title_df, \"*.mp4\")\n",
    "video_file_df"
   ]
  },
  {
   "cell_type": "markdown",
   "metadata": {},
   "source": [
    "<br>"
   ]
  },
  {
   "attachments": {},
   "cell_type": "markdown",
   "metadata": {},
   "source": [
    "### Reference"
   ]
  },
  {
   "attachments": {},
   "cell_type": "markdown",
   "metadata": {},
   "source": [
    "<b>Github<b>\n",
    "<br>[serithemage](https://github.com/serithemage/python_exercise/blob/master/downloader/downloader.py)\n",
    "\n",
    "<br><b>MOOC<b>\n",
    "<br>[Kwangkeun Yi 4190.310 Programming Languages](http://ropas.snu.ac.kr/~kwang/4190.310/mooc/)"
   ]
  }
 ],
 "metadata": {
  "kernelspec": {
   "display_name": "exercise",
   "language": "python",
   "name": "python3"
  },
  "language_info": {
   "codemirror_mode": {
    "name": "ipython",
    "version": 3
   },
   "file_extension": ".py",
   "mimetype": "text/x-python",
   "name": "python",
   "nbconvert_exporter": "python",
   "pygments_lexer": "ipython3",
   "version": "3.11.3"
  },
  "orig_nbformat": 4
 },
 "nbformat": 4,
 "nbformat_minor": 2
}
