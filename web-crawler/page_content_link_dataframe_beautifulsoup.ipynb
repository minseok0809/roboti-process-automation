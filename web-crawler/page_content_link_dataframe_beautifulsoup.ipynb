{
 "cells": [
  {
   "cell_type": "markdown",
   "metadata": {},
   "source": [
    "## Page Content & Link Dataframe (Beautifulsoup)"
   ]
  },
  {
   "cell_type": "markdown",
   "metadata": {},
   "source": [
    "### Development Environment"
   ]
  },
  {
   "cell_type": "code",
   "execution_count": 89,
   "metadata": {},
   "outputs": [],
   "source": [
    "import re\n",
    "import requests\n",
    "import urllib\n",
    "import pandas as pd\n",
    "import time \n",
    "import tqdm\n",
    "from bs4 import BeautifulSoup\n",
    "from urllib.request import urlretrieve, urlopen\n",
    "from urllib.error import URLError, HTTPError"
   ]
  },
  {
   "cell_type": "markdown",
   "metadata": {},
   "source": [
    "### Page Information"
   ]
  },
  {
   "cell_type": "code",
   "execution_count": 90,
   "metadata": {},
   "outputs": [],
   "source": [
    "def make_page_content_link_list(soup):\n",
    "\n",
    "    html_tags = ['div', 'img', 'description', 'thumbnail']\n",
    "    title_list = []\n",
    "    link_list = []\n",
    "\n",
    "    a = soup.select(\"a\")\n",
    "\n",
    "    # print(a)\n",
    "\n",
    "    for a_text in a:\n",
    "        a_text = str(a_text)\n",
    "\n",
    "        a_title = re.search('target=\"_self\">(.+?)</a>', a_text)\n",
    "        if a_title != None:\n",
    "            a_title = a_title.group()\n",
    "            if all(html_tag not in a_title for html_tag in html_tags):\n",
    "                a_title = a_title.replace('/\">', '')\n",
    "                a_title = a_title.replace('</a>', '')\n",
    "                a_title = a_title.replace('target=\"_self\">', '')\n",
    "                title_list.append(a_title)\n",
    "\n",
    "        a_link = re.search('<a href=(.+?) target=\"_self\">', a_text)\n",
    "       \n",
    "        if a_link != None:\n",
    "            a_link = a_link.group()\n",
    "            a_link = a_link.replace('<a href=\"', 'https://www.hankookilbo.com')\n",
    "            a_link = a_link.replace('target=\"_self\">', '')\n",
    "            a_link = a_link.replace(\"Read/\", \"Read/Print/\")\n",
    "            a_link = a_link.replace('\">', '')\n",
    "            a_link = a_link.replace('\"', '')\n",
    "            link_list.append(a_link)\n",
    "            link_list = dict.fromkeys(link_list)\n",
    "            link_list = list(link_list)\n",
    "\n",
    "    title_list.reverse()\n",
    "    link_list.reverse()\n",
    "\n",
    "    return title_list, link_list"
   ]
  },
  {
   "cell_type": "code",
   "execution_count": 91,
   "metadata": {},
   "outputs": [],
   "source": [
    "def make_total_page_content_link_list(link_pattern, number_of_page):\n",
    "\n",
    "    total_title_list = []\n",
    "    total_link_list = []\n",
    "\n",
    "    with tqdm.tqdm(range(number_of_page)) as pbar:\n",
    "        # query = urllib.parse.quote('keyword')\n",
    "        for page_num in pbar:\n",
    "            \n",
    "            time.sleep(0.2)\n",
    "\n",
    "            url = link_pattern[0] + str(page_num + 1)\n",
    "\n",
    "            try:\n",
    "                request = urllib.request.Request(url)\n",
    "\n",
    "                response = urllib.request.urlopen(request)\n",
    "                response_code = response.getcode()\n",
    "\n",
    "                if response_code == 200:\n",
    "                    response_body = response.read()\n",
    "\n",
    "                soup = BeautifulSoup(response_body, 'html.parser') \n",
    "\n",
    "                title_list, link_list = make_page_content_link_list(soup)\n",
    "\n",
    "                total_title_list.append(title_list)\n",
    "                total_link_list.append(link_list)\n",
    "\n",
    "            except HTTPError as e:\n",
    "                err = e.read()\n",
    "                code = e.getcode()\n",
    "                print(\"Topic:\", page_topic[0].upper() + page_topic[1:])\n",
    "                print(\"The number of page:\", page_num - 1) \n",
    "                print(\"Error Code:\", code)\n",
    "                print(\"\\n\")\n",
    "                break\n",
    "\n",
    "    total_title_list = sum(total_title_list, [])\n",
    "    total_link_list = sum(total_link_list, [])\n",
    "\n",
    "    return total_title_list, total_link_list"
   ]
  },
  {
   "cell_type": "markdown",
   "metadata": {},
   "source": [
    "### Make Page Content & Link Datafram"
   ]
  },
  {
   "cell_type": "code",
   "execution_count": 96,
   "metadata": {},
   "outputs": [],
   "source": [
    "def make_page_content_link_df(titles, links):\n",
    "    \n",
    "    file_names = []\n",
    "    \n",
    "    for idx, title in enumerate(titles):\n",
    "        if idx < 10:\n",
    "            file_idx = \"0\" + str(idx)\n",
    "        elif idx >= 10:\n",
    "            file_idx = idx\n",
    "        \n",
    "        file_name = str(file_idx) + \"_\" + title\n",
    "        file_names.append(file_name)\n",
    "    \n",
    "    page_content_link_df = pd.DataFrame({'title':titles, 'File Name':file_names, 'link':links})\n",
    "    \n",
    "    return page_content_link_df"
   ]
  },
  {
   "cell_type": "code",
   "execution_count": 97,
   "metadata": {},
   "outputs": [
    {
     "name": "stderr",
     "output_type": "stream",
     "text": [
      "100%|██████████| 10/10 [00:14<00:00,  1.45s/it]\n"
     ]
    }
   ],
   "source": [
    "link_pattern = ['https://www.hankookilbo.com/Collect/1890?Page=']\n",
    "number_of_page = 10\n",
    "\n",
    "page_content_link_description_df = pd.DataFrame({'title':[\"title\"], 'link':[\"link\"]})\n",
    "\n",
    "title_list, link_list = make_total_page_content_link_list(link_pattern, number_of_page)\n",
    "page_content_link_df = make_page_content_link_df(title_list, link_list)"
   ]
  },
  {
   "cell_type": "code",
   "execution_count": 98,
   "metadata": {},
   "outputs": [
    {
     "data": {
      "text/html": [
       "<div>\n",
       "<style scoped>\n",
       "    .dataframe tbody tr th:only-of-type {\n",
       "        vertical-align: middle;\n",
       "    }\n",
       "\n",
       "    .dataframe tbody tr th {\n",
       "        vertical-align: top;\n",
       "    }\n",
       "\n",
       "    .dataframe thead th {\n",
       "        text-align: right;\n",
       "    }\n",
       "</style>\n",
       "<table border=\"1\" class=\"dataframe\">\n",
       "  <thead>\n",
       "    <tr style=\"text-align: right;\">\n",
       "      <th></th>\n",
       "      <th>title</th>\n",
       "      <th>File Name</th>\n",
       "      <th>link</th>\n",
       "    </tr>\n",
       "  </thead>\n",
       "  <tbody>\n",
       "    <tr>\n",
       "      <th>0</th>\n",
       "      <td>태국에서 증명된 우리나라 자전거 동호인의 실력</td>\n",
       "      <td>00_태국에서 증명된 우리나라 자전거 동호인의 실력</td>\n",
       "      <td>https://www.hankookilbo.com/News/Read/Print/20...</td>\n",
       "    </tr>\n",
       "    <tr>\n",
       "      <th>1</th>\n",
       "      <td>자전거 도로에 압정 뿌린 자전거 수리공</td>\n",
       "      <td>01_자전거 도로에 압정 뿌린 자전거 수리공</td>\n",
       "      <td>https://www.hankookilbo.com/News/Read/Print/20...</td>\n",
       "    </tr>\n",
       "    <tr>\n",
       "      <th>2</th>\n",
       "      <td>[박권일의 글쟁이 페달] 세상에서 가장 지루한 스포츠</td>\n",
       "      <td>02_[박권일의 글쟁이 페달] 세상에서 가장 지루한 스포츠</td>\n",
       "      <td>https://www.hankookilbo.com/News/Read/Print/20...</td>\n",
       "    </tr>\n",
       "    <tr>\n",
       "      <th>3</th>\n",
       "      <td>[두바퀴찬가] 일주일에 3번 자전거 출근했더니 생긴 놀라운 변화</td>\n",
       "      <td>03_[두바퀴찬가] 일주일에 3번 자전거 출근했더니 생긴 놀라운 변화</td>\n",
       "      <td>https://www.hankookilbo.com/News/Read/Print/20...</td>\n",
       "    </tr>\n",
       "    <tr>\n",
       "      <th>4</th>\n",
       "      <td>끊이지 않는 위협 운전, 목숨 내놓고 달리는 자전거</td>\n",
       "      <td>04_끊이지 않는 위협 운전, 목숨 내놓고 달리는 자전거</td>\n",
       "      <td>https://www.hankookilbo.com/News/Read/Print/20...</td>\n",
       "    </tr>\n",
       "    <tr>\n",
       "      <th>...</th>\n",
       "      <td>...</td>\n",
       "      <td>...</td>\n",
       "      <td>...</td>\n",
       "    </tr>\n",
       "    <tr>\n",
       "      <th>78</th>\n",
       "      <td>바퀴에 거미줄 칠라… '자전거 권태기' 벗어나기</td>\n",
       "      <td>78_바퀴에 거미줄 칠라… '자전거 권태기' 벗어나기</td>\n",
       "      <td>https://www.hankookilbo.com/News/Read/Print/20...</td>\n",
       "    </tr>\n",
       "    <tr>\n",
       "      <th>79</th>\n",
       "      <td>추워지는 날씨.. 자전거족의 피난처를 찾다</td>\n",
       "      <td>79_추워지는 날씨.. 자전거족의 피난처를 찾다</td>\n",
       "      <td>https://www.hankookilbo.com/News/Read/Print/20...</td>\n",
       "    </tr>\n",
       "    <tr>\n",
       "      <th>80</th>\n",
       "      <td>‘얼마짜리 자전거’는 중요하지 않다, 지금 당장 타라</td>\n",
       "      <td>80_‘얼마짜리 자전거’는 중요하지 않다, 지금 당장 타라</td>\n",
       "      <td>https://www.hankookilbo.com/News/Read/Print/20...</td>\n",
       "    </tr>\n",
       "    <tr>\n",
       "      <th>81</th>\n",
       "      <td>쓰고 웃을래, 안 쓰고 맘 졸일래</td>\n",
       "      <td>81_쓰고 웃을래, 안 쓰고 맘 졸일래</td>\n",
       "      <td>https://www.hankookilbo.com/News/Read/Print/20...</td>\n",
       "    </tr>\n",
       "    <tr>\n",
       "      <th>82</th>\n",
       "      <td>자전거에 헛돈 쓰지 말자</td>\n",
       "      <td>82_자전거에 헛돈 쓰지 말자</td>\n",
       "      <td>https://www.hankookilbo.com/News/Read/Print/20...</td>\n",
       "    </tr>\n",
       "  </tbody>\n",
       "</table>\n",
       "<p>83 rows × 3 columns</p>\n",
       "</div>"
      ],
      "text/plain": [
       "                                  title  \\\n",
       "0             태국에서 증명된 우리나라 자전거 동호인의 실력   \n",
       "1                 자전거 도로에 압정 뿌린 자전거 수리공   \n",
       "2         [박권일의 글쟁이 페달] 세상에서 가장 지루한 스포츠   \n",
       "3   [두바퀴찬가] 일주일에 3번 자전거 출근했더니 생긴 놀라운 변화   \n",
       "4          끊이지 않는 위협 운전, 목숨 내놓고 달리는 자전거   \n",
       "..                                  ...   \n",
       "78           바퀴에 거미줄 칠라… '자전거 권태기' 벗어나기   \n",
       "79              추워지는 날씨.. 자전거족의 피난처를 찾다   \n",
       "80        ‘얼마짜리 자전거’는 중요하지 않다, 지금 당장 타라   \n",
       "81                   쓰고 웃을래, 안 쓰고 맘 졸일래   \n",
       "82                        자전거에 헛돈 쓰지 말자   \n",
       "\n",
       "                                 File Name  \\\n",
       "0             00_태국에서 증명된 우리나라 자전거 동호인의 실력   \n",
       "1                 01_자전거 도로에 압정 뿌린 자전거 수리공   \n",
       "2         02_[박권일의 글쟁이 페달] 세상에서 가장 지루한 스포츠   \n",
       "3   03_[두바퀴찬가] 일주일에 3번 자전거 출근했더니 생긴 놀라운 변화   \n",
       "4          04_끊이지 않는 위협 운전, 목숨 내놓고 달리는 자전거   \n",
       "..                                     ...   \n",
       "78           78_바퀴에 거미줄 칠라… '자전거 권태기' 벗어나기   \n",
       "79              79_추워지는 날씨.. 자전거족의 피난처를 찾다   \n",
       "80        80_‘얼마짜리 자전거’는 중요하지 않다, 지금 당장 타라   \n",
       "81                   81_쓰고 웃을래, 안 쓰고 맘 졸일래   \n",
       "82                        82_자전거에 헛돈 쓰지 말자   \n",
       "\n",
       "                                                 link  \n",
       "0   https://www.hankookilbo.com/News/Read/Print/20...  \n",
       "1   https://www.hankookilbo.com/News/Read/Print/20...  \n",
       "2   https://www.hankookilbo.com/News/Read/Print/20...  \n",
       "3   https://www.hankookilbo.com/News/Read/Print/20...  \n",
       "4   https://www.hankookilbo.com/News/Read/Print/20...  \n",
       "..                                                ...  \n",
       "78  https://www.hankookilbo.com/News/Read/Print/20...  \n",
       "79  https://www.hankookilbo.com/News/Read/Print/20...  \n",
       "80  https://www.hankookilbo.com/News/Read/Print/20...  \n",
       "81  https://www.hankookilbo.com/News/Read/Print/20...  \n",
       "82  https://www.hankookilbo.com/News/Read/Print/20...  \n",
       "\n",
       "[83 rows x 3 columns]"
      ]
     },
     "execution_count": 98,
     "metadata": {},
     "output_type": "execute_result"
    }
   ],
   "source": [
    "page_content_link_df"
   ]
  },
  {
   "cell_type": "code",
   "execution_count": 99,
   "metadata": {},
   "outputs": [],
   "source": [
    "page_content_link_df.to_csv(\"page_content_link.csv\", index=False)"
   ]
  },
  {
   "cell_type": "markdown",
   "metadata": {},
   "source": [
    "### Reference"
   ]
  },
  {
   "cell_type": "markdown",
   "metadata": {},
   "source": [
    "<b>Github</b>\n",
    "<br><br>cheris8\n",
    "<br>[동적 웹 페이지 크롤링 with Python](https://cheris8.github.io/data%20analysis/DC-Dynamic-Webpage-Crawling/)\n",
    "<br><br><b>Magazine</b>\n",
    "<br>[요즘IT](https://yozm.wishket.com/magazine/)"
   ]
  }
 ],
 "metadata": {
  "kernelspec": {
   "display_name": "exercise",
   "language": "python",
   "name": "python3"
  },
  "language_info": {
   "codemirror_mode": {
    "name": "ipython",
    "version": 3
   },
   "file_extension": ".py",
   "mimetype": "text/x-python",
   "name": "python",
   "nbconvert_exporter": "python",
   "pygments_lexer": "ipython3",
   "version": "3.11.5"
  }
 },
 "nbformat": 4,
 "nbformat_minor": 2
}
