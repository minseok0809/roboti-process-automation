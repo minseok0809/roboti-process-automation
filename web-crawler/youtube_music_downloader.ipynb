{
 "cells": [
  {
   "cell_type": "markdown",
   "metadata": {},
   "source": [
    "### Youtube Music Downloader"
   ]
  },
  {
   "cell_type": "markdown",
   "metadata": {},
   "source": [
    "<br>"
   ]
  },
  {
   "cell_type": "code",
   "execution_count": null,
   "metadata": {},
   "outputs": [],
   "source": [
    "!pip install pytube"
   ]
  },
  {
   "cell_type": "code",
   "execution_count": 1,
   "metadata": {},
   "outputs": [],
   "source": [
    "from pytube import YouTube"
   ]
  },
  {
   "cell_type": "code",
   "execution_count": 5,
   "metadata": {},
   "outputs": [],
   "source": [
    "links = ['https://www.youtube.com/watch?v=Y7sdgiIMVVU&list=PL-fW_Z4aGgsJWdXJ-W9yb2DR9IXmjWT_A&index=1&ab_channel=DavidGarrick-Topic',\n",
    "         'https://www.youtube.com/watch?v=aJxrX42WcjQ&list=PL-fW_Z4aGgsJWdXJ-W9yb2DR9IXmjWT_A&index=2&ab_channel=JoshGroban',\n",
    "         'https://www.youtube.com/watch?v=zFu1fRNWgSk&list=PL-fW_Z4aGgsJWdXJ-W9yb2DR9IXmjWT_A&index=3&ab_channel=TheStylistics-Topic',\n",
    "         'https://www.youtube.com/watch?v=wy709iNG6i8&list=PL-fW_Z4aGgsJWdXJ-W9yb2DR9IXmjWT_A&index=4&ab_channel=EltonJohn-Topic',\n",
    "         'https://www.youtube.com/watch?v=WlgoUlOkyzU&list=PL-fW_Z4aGgsJWdXJ-W9yb2DR9IXmjWT_A&index=5&ab_channel=MusicnLyrics',\n",
    "         'https://www.youtube.com/watch?v=W-YWVbCks-Y&list=PL-fW_Z4aGgsJWdXJ-W9yb2DR9IXmjWT_A&index=6&ab_channel=WWEMusicGroup-Topic',\n",
    "         'https://www.youtube.com/watch?v=Ye-fk1PxRZI&list=PL-fW_Z4aGgsJWdXJ-W9yb2DR9IXmjWT_A&index=7&ab_channel=WWEMusicGroup-Topic',\n",
    "         'https://www.youtube.com/watch?v=FM2WB0AyAjA&list=PL-fW_Z4aGgsJWdXJ-W9yb2DR9IXmjWT_A&index=8&ab_channel=WWEMusicGroup-Topic',\n",
    "         'https://www.youtube.com/watch?v=jzz16mRP2V8&list=PL-fW_Z4aGgsJWdXJ-W9yb2DR9IXmjWT_A&index=9&ab_channel=Steelheart-Topic',\n",
    "         'https://www.youtube.com/watch?v=T-0Cvw6urWw&list=PL-fW_Z4aGgsJWdXJ-W9yb2DR9IXmjWT_A&index=10&ab_channel=%EB%8D%94%ED%81%AC%EB%A1%9C%EC%8A%A4THECROSS-Topic',\n",
    "         'https://www.youtube.com/watch?v=mILPbkdXn1E&list=PL-fW_Z4aGgsJWdXJ-W9yb2DR9IXmjWT_A&index=11&ab_channel=ooparts1977',\n",
    "         'https://www.youtube.com/watch?v=HMBZxmb8O6s&list=PL-fW_Z4aGgsJWdXJ-W9yb2DR9IXmjWT_A&index=12&ab_channel=VariousArtists-Topic',\n",
    "         'https://www.youtube.com/watch?v=JQu-sk0wTBQ&list=PL-fW_Z4aGgsJWdXJ-W9yb2DR9IXmjWT_A&index=13&ab_channel=KAC',\n",
    "         'https://www.youtube.com/watch?v=zC8RrOA0spo&list=PL-fW_Z4aGgsJWdXJ-W9yb2DR9IXmjWT_A&index=14&ab_channel=HYUKOH-Topic',\n",
    "         'https://www.youtube.com/watch?v=7fN8rP8V3E0&list=PL-fW_Z4aGgsJWdXJ-W9yb2DR9IXmjWT_A&index=15&ab_channel=Hansband-Topic',\n",
    "         'https://www.youtube.com/watch?v=7ATP7h-pB2I&list=PL-fW_Z4aGgsJWdXJ-W9yb2DR9IXmjWT_A&index=16&ab_channel=Boohwal-Topic',\n",
    "         'https://www.youtube.com/watch?v=AMShjMwlCug&list=PL-fW_Z4aGgsJWdXJ-W9yb2DR9IXmjWT_A&index=17&ab_channel=Kiha%26theFaces-Topic', \n",
    "         'https://www.youtube.com/watch?v=QX3fVJWL6zQ&list=PL-fW_Z4aGgsJWdXJ-W9yb2DR9IXmjWT_A&index=18&ab_channel=ChoYong-pil-Topic',\n",
    "         'https://www.youtube.com/watch?v=_LwftIEj25c&list=PL-fW_Z4aGgsJWdXJ-W9yb2DR9IXmjWT_A&index=19&ab_channel=%ED%98%84%EC%9D%B8-Topic',\n",
    "         'https://www.youtube.com/watch?v=hzwCeD2Vsmk&list=PL-fW_Z4aGgsJWdXJ-W9yb2DR9IXmjWT_A&index=20&ab_channel=%EC%8B%A0%ED%98%95%EC%9B%90-Topic',\n",
    "         'https://www.youtube.com/watch?v=gKaXJygOtQo&list=PL-fW_Z4aGgsJWdXJ-W9yb2DR9IXmjWT_A&index=21&ab_channel=RIAKOFFICIAL',\n",
    "         'https://www.youtube.com/watch?v=RCzFha0gJ8I&list=PL-fW_Z4aGgsJWdXJ-W9yb2DR9IXmjWT_A&index=22&ab_channel=%EB%82%98%EC%9D%98%EB%A7%8C%ED%99%94%EB%84%88%EC%9D%98%EC%95%A0%EB%8B%88',\n",
    "         'https://www.youtube.com/watch?v=YOxDdaepwMc&list=PL-fW_Z4aGgsJWdXJ-W9yb2DR9IXmjWT_A&index=23&ab_channel=JayKim',\n",
    "         'https://www.youtube.com/watch?v=mDS4-3k3Lu4&list=PL-fW_Z4aGgsJWdXJ-W9yb2DR9IXmjWT_A&index=24&ab_channel=%EC%84%A4%EC%9C%A4',\n",
    "         'https://www.youtube.com/watch?v=FD2y8Jxz-TQ&list=PL-fW_Z4aGgsJWdXJ-W9yb2DR9IXmjWT_A&index=25&ab_channel=%EC%9A%B0%ED%8C%8C%EA%B2%8C%EC%9E%84',\n",
    "         'https://www.youtube.com/watch?v=junvn7qKikc&list=PL-fW_Z4aGgsJWdXJ-W9yb2DR9IXmjWT_A&index=26&ab_channel=%EC%B6%94%EC%96%B5%EC%9D%98TV',\n",
    "         'https://www.youtube.com/watch?v=c-2T-JnXEr8&list=PL-fW_Z4aGgsJWdXJ-W9yb2DR9IXmjWT_A&index=27&ab_channel=VariousArtists-Topic',\n",
    "         'https://www.youtube.com/watch?v=K3nl8O4tFMg&list=PL-fW_Z4aGgsJWdXJ-W9yb2DR9IXmjWT_A&index=28&ab_channel=HongKwangHo-Topic',\n",
    "         'https://www.youtube.com/watch?v=aKlWBROhO3o&list=PL-fW_Z4aGgsJWdXJ-W9yb2DR9IXmjWT_A&index=29&ab_channel=ACOMMUSICAL',\n",
    "         'https://www.youtube.com/watch?v=JVk6SIj7lUE&list=PL-fW_Z4aGgsJWdXJ-W9yb2DR9IXmjWT_A&index=30&ab_channel=%EC%98%81%ED%95%9CTV',\n",
    "         'https://www.youtube.com/watch?v=C273yifETVU&list=PL-fW_Z4aGgsJWdXJ-W9yb2DR9IXmjWT_A&index=31&ab_channel=JihoonKim',\n",
    "         'https://www.youtube.com/watch?v=pBLCd4vNpFM&list=PL-fW_Z4aGgsJWdXJ-W9yb2DR9IXmjWT_A&index=32&ab_channel=Sociopata23',\n",
    "         'https://www.youtube.com/watch?v=cDinD8QNV7c&list=PL-fW_Z4aGgsJWdXJ-W9yb2DR9IXmjWT_A&index=33&ab_channel=Blasterjaxx-Topic',\n",
    "         'https://www.youtube.com/watch?v=fwOvZ34iSHs&list=PL-fW_Z4aGgsJWdXJ-W9yb2DR9IXmjWT_A&index=34&ab_channel=HitParade',\n",
    "         'https://www.youtube.com/watch?v=kf9fIepZpVs&list=PL-fW_Z4aGgsJWdXJ-W9yb2DR9IXmjWT_A&index=35&ab_channel=AppFam',\n",
    "         'https://www.youtube.com/watch?v=yPFmf_bY1vw&list=PL-fW_Z4aGgsJWdXJ-W9yb2DR9IXmjWT_A&index=36&ab_channel=PSY-Topic',\n",
    "         'https://www.youtube.com/watch?v=GywLDYmXkjs&list=PL-fW_Z4aGgsJWdXJ-W9yb2DR9IXmjWT_A&index=37&ab_channel=HWASA-Topic',\n",
    "         'https://www.youtube.com/watch?v=LKEWlU4rkxc&list=PL-fW_Z4aGgsJWdXJ-W9yb2DR9IXmjWT_A&index=38&ab_channel=TRF',\n",
    "         'https://www.youtube.com/watch?v=L69s8yDocFo&list=PL-fW_Z4aGgsJWdXJ-W9yb2DR9IXmjWT_A&index=39&ab_channel=Epiik-Topic',\n",
    "         'https://www.youtube.com/watch?v=NH_pTsACVwg&list=PL-fW_Z4aGgsJWdXJ-W9yb2DR9IXmjWT_A&index=40&ab_channel=Destiny%27sChild-Topic',\n",
    "         'https://www.youtube.com/watch?v=0ad85cZrYyY&list=PL-fW_Z4aGgsJWdXJ-W9yb2DR9IXmjWT_A&index=41&ab_channel=SNKSOUNDTEAM-Topic',\n",
    "         'https://www.youtube.com/watch?v=VTmJJ0lUyQc&list=PL-fW_Z4aGgsJWdXJ-W9yb2DR9IXmjWT_A&index=42&ab_channel=Otouto72',\n",
    "         'https://www.youtube.com/watch?v=M8VvGsmb4dU&list=PL-fW_Z4aGgsJWdXJ-W9yb2DR9IXmjWT_A&index=43&ab_channel=Work-LifeImbalance',\n",
    "         'https://www.youtube.com/watch?v=AA_PyQKDXZo&list=PL-fW_Z4aGgsJWdXJ-W9yb2DR9IXmjWT_A&index=44&ab_channel=SiIvaGunner',\n",
    "         'https://www.youtube.com/watch?v=cwjny7ovJ_U&list=PL-fW_Z4aGgsJWdXJ-W9yb2DR9IXmjWT_A&index=45&ab_channel=cheetahman91',\n",
    "         'https://www.youtube.com/watch?v=aTbfpkByIM8&list=PL-fW_Z4aGgsJWdXJ-W9yb2DR9IXmjWT_A&index=46&ab_channel=GBelair',\n",
    "         'https://www.youtube.com/watch?v=HR41nFMREBE&list=PL-fW_Z4aGgsJWdXJ-W9yb2DR9IXmjWT_A&index=47&ab_channel=DemosceneArchive',      \n",
    "         'https://www.youtube.com/watch?v=NVoNyufMUpo&list=PL-fW_Z4aGgsJWdXJ-W9yb2DR9IXmjWT_A&index=48&ab_channel=Hanternos',        \n",
    "         'https://www.youtube.com/watch?v=mk4emeJovZY&list=PL-fW_Z4aGgsJWdXJ-W9yb2DR9IXmjWT_A&index=49&ab_channel=SteveHenrichs-Topic',        \n",
    "         'https://www.youtube.com/watch?v=8mKw_HkdtY4&list=PL-fW_Z4aGgsJWdXJ-W9yb2DR9IXmjWT_A&index=50&ab_channel=%E5%90%89%E4%BF%A3%E8%89%AF-Topic',        \n",
    "         'https://www.youtube.com/watch?v=AfsNt5oZrqw&list=PL-fW_Z4aGgsJWdXJ-W9yb2DR9IXmjWT_A&index=51&ab_channel=SlipySlidy',      \n",
    "         'https://www.youtube.com/watch?v=dhggSoWbnVQ&list=PL-fW_Z4aGgsJWdXJ-W9yb2DR9IXmjWT_A&index=52&ab_channel=JYL',        \n",
    "         'https://www.youtube.com/watch?v=vYWe1VYv_rA&list=PL-fW_Z4aGgsJWdXJ-W9yb2DR9IXmjWT_A&index=53&ab_channel=%ED%85%90%EC%8B%9C%EB%9F%AC%EB%B8%8C-Topic'\n",
    "         ]"
   ]
  },
  {
   "cell_type": "code",
   "execution_count": 12,
   "metadata": {},
   "outputs": [],
   "source": [
    "for idx, link in enumerate(links):\n",
    "    try:\n",
    "        yt = YouTube(link, use_oauth=True, allow_oauth_cache=True)\n",
    "        yt.streams.filter(only_audio=True).first().download()\n",
    "    except:\n",
    "        print(\"{} Link\".format(idx))"
   ]
  },
  {
   "cell_type": "code",
   "execution_count": null,
   "metadata": {},
   "outputs": [],
   "source": [
    "for idx, link in enumerate(links):\n",
    "    try:\n",
    "        yt = YouTube(link, use_oauth=True, allow_oauth_cache=True)\n",
    "        yt.streams.filter(res='720p', file_extension='mp4').first().download()\n",
    "    except:\n",
    "        print(\"{} Link\".format(idx))"
   ]
  }
 ],
 "metadata": {
  "kernelspec": {
   "display_name": "exercise",
   "language": "python",
   "name": "python3"
  },
  "language_info": {
   "codemirror_mode": {
    "name": "ipython",
    "version": 3
   },
   "file_extension": ".py",
   "mimetype": "text/x-python",
   "name": "python",
   "nbconvert_exporter": "python",
   "pygments_lexer": "ipython3",
   "version": "3.11.5"
  }
 },
 "nbformat": 4,
 "nbformat_minor": 2
}
