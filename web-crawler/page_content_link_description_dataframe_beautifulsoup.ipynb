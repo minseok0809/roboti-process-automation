{
 "cells": [
  {
   "attachments": {},
   "cell_type": "markdown",
   "metadata": {},
   "source": [
    "## Page Content & Link & Description Dataframe (Beautifulsoup)"
   ]
  },
  {
   "cell_type": "markdown",
   "metadata": {},
   "source": [
    "<br>"
   ]
  },
  {
   "cell_type": "markdown",
   "metadata": {},
   "source": [
    "### Development Environment"
   ]
  },
  {
   "cell_type": "code",
   "execution_count": 2,
   "metadata": {},
   "outputs": [],
   "source": [
    "import os\n",
    "import re\n",
    "import time\n",
    "import requests\n",
    "import urllib\n",
    "import threading\n",
    "import pandas as pd\n",
    "from glob import glob\n",
    "from collections import Counter\n",
    "from bs4 import BeautifulSoup\n",
    "from urllib.request import urlretrieve"
   ]
  },
  {
   "cell_type": "markdown",
   "metadata": {},
   "source": [
    "### Page Information"
   ]
  },
  {
   "cell_type": "code",
   "execution_count": 33,
   "metadata": {},
   "outputs": [],
   "source": [
    "def make_total_page_content_link_description_list(link_pattern, number_of_page):\n",
    "\n",
    "    total_title_list = []\n",
    "    total_link_list = []\n",
    "    total_description_list = []\n",
    "\n",
    "    # query = urllib.parse.quote('keyword')\n",
    "    for page_num in range(number_of_page):\n",
    "        url = link_pattern[0] + str(page_num) + link_pattern[1] # + query\n",
    "\n",
    "        request = urllib.request.Request(link_pattern[0])\n",
    "\n",
    "\n",
    "        response = urllib.request.urlopen(request)\n",
    "        response_code = response.getcode()\n",
    "\n",
    "        if response_code==200:\n",
    "            response_body = response.read()\n",
    "        else:\n",
    "            print(\"Error Code:\"+response_code)\n",
    "\n",
    "        soup = BeautifulSoup(response_body, 'html.parser') \n",
    "\n",
    "        title_list, link_list, description_list = make_page_content_link_description_list(soup)\n",
    "\n",
    "        total_title_list.append(title_list)\n",
    "        total_link_list.append(link_list)\n",
    "        total_description_list.append(description_list)\n",
    "\n",
    "    total_title_list = sum(total_title_list, [])\n",
    "    total_link_list = sum(total_link_list, [])\n",
    "    total_description_list = sum(total_description_list, [])\n",
    "\n",
    "    return total_title_list, total_link_list, total_description_list"
   ]
  },
  {
   "cell_type": "markdown",
   "metadata": {},
   "source": [
    "### Make Page Content Link Description Dataframe"
   ]
  },
  {
   "cell_type": "code",
   "execution_count": 44,
   "metadata": {},
   "outputs": [],
   "source": [
    "def make_page_content_link_description_list(soup):\n",
    "\n",
    "    html_tags = ['div', 'img', 'description', 'thumbnail']\n",
    "    title_list = []\n",
    "    link_list = []\n",
    "    description_list = []\n",
    "\n",
    "    a = soup.select(\"a\")\n",
    "    for a_text in a:\n",
    "        a_text = str(a_text)\n",
    "\n",
    "        if 'detail' in a_text:\n",
    "            a_title = re.search('/\">(.+?)</a>', a_text)\n",
    "            if a_title != None:\n",
    "                a_title = a_title.group()\n",
    "                if all(html_tag not in a_title for html_tag in html_tags):\n",
    "                    a_title = a_title.replace('/\">', '')\n",
    "                    a_title = a_title.replace('</a>', '')\n",
    "                    title_list.append(a_title)\n",
    "\n",
    "            a_link = re.search('<a href=(.+?)/\">', a_text)\n",
    "            if a_link != None:\n",
    "                a_link = a_link.group()\n",
    "                a_link = a_link.replace('<a href=\"', 'https://yozm.wishket.com/')\n",
    "                a_link = a_link.replace('\">', '')\n",
    "                link_list.append(a_link)\n",
    "                link_list = dict.fromkeys(link_list)\n",
    "                link_list = list(link_list)\n",
    "\n",
    "        a_description = re.search('<p class=\"item-description\">(.+?)</p>', a_text)\n",
    "        if a_description != None:\n",
    "            a_description = a_description.group()\n",
    "            a_description = a_description.replace('<p class=\"item-description\">', '')\n",
    "            a_description = a_description.replace('</p>', '')\n",
    "            description_list.append(a_description)\n",
    "\n",
    "    return title_list, link_list, description_list"
   ]
  },
  {
   "cell_type": "code",
   "execution_count": 45,
   "metadata": {},
   "outputs": [],
   "source": [
    "def make_page_content_link_description_df(titles, links, descriptions):\n",
    "    \n",
    "    page_content_link_description_df = pd.DataFrame({'title':titles, 'link':links, 'description':descriptions,})\n",
    "    \n",
    "    return page_content_link_description_df"
   ]
  },
  {
   "cell_type": "code",
   "execution_count": 46,
   "metadata": {},
   "outputs": [],
   "source": [
    "link_pattern = ['https://yozm.wishket.com/magazine/list/develop/?page=', '&sort=&q=']\n",
    "number_of_page = 59\n",
    "title_list, link_list, description_list = make_total_page_content_link_description_list(link_pattern, number_of_page)"
   ]
  },
  {
   "cell_type": "code",
   "execution_count": 47,
   "metadata": {},
   "outputs": [],
   "source": [
    "page_content_link_description_df = make_page_content_link_description_df(title_list, link_list, description_list)"
   ]
  },
  {
   "cell_type": "code",
   "execution_count": 48,
   "metadata": {},
   "outputs": [
    {
     "data": {
      "text/html": [
       "<div>\n",
       "<style scoped>\n",
       "    .dataframe tbody tr th:only-of-type {\n",
       "        vertical-align: middle;\n",
       "    }\n",
       "\n",
       "    .dataframe tbody tr th {\n",
       "        vertical-align: top;\n",
       "    }\n",
       "\n",
       "    .dataframe thead th {\n",
       "        text-align: right;\n",
       "    }\n",
       "</style>\n",
       "<table border=\"1\" class=\"dataframe\">\n",
       "  <thead>\n",
       "    <tr style=\"text-align: right;\">\n",
       "      <th></th>\n",
       "      <th>title</th>\n",
       "      <th>link</th>\n",
       "      <th>description</th>\n",
       "    </tr>\n",
       "  </thead>\n",
       "  <tbody>\n",
       "    <tr>\n",
       "      <th>0</th>\n",
       "      <td>개발자가 알아야 할 데이터 지향 프로그래밍 with JDK 20</td>\n",
       "      <td>https://yozm.wishket.com//magazine/detail/2164/</td>\n",
       "      <td>객체지향 프로그래밍(Object-Oriented Programming, OOP)은 클래스(Class)를 통해 데이터와 행위를 묶어 관리하는 프로그래밍 패러다임입니다. 그렇지만 OOP의 사용에 대한 모호함에 대한 논의는 끊임없이 진행되고 있습니다. 이러한 배경 속에서 예호나단 샤르빗(Yehonathan Sharvit)이 데이터 지향 프로그래밍(Data Oriented Programming)이라는 새로운 개념을 제안했습니다. 전편 ‘개발자가 알아야 할 데이터 지향 설계란?’에 이어, 이번 글에서는 데이터 지향 프로그래밍은 어떤 내용인지 알아보겠습니다.</td>\n",
       "    </tr>\n",
       "    <tr>\n",
       "      <th>1</th>\n",
       "      <td>좋은 객체 ID(Object ID) 만들기</td>\n",
       "      <td>https://yozm.wishket.com//magazine/detail/2161/</td>\n",
       "      <td>객체 ID는 객체 지향 프로그래밍, 데이터베이스 관리, 네트워킹 등 다양한 컴퓨팅 환경에서 사용되는데요. 이 포스트에서는 좋은 객체 ID를 만들어야 하는 이유와 방법을 고유성과 식별 가능성을 중심으로 알아보겠습니다.</td>\n",
       "    </tr>\n",
       "    <tr>\n",
       "      <th>2</th>\n",
       "      <td>스프링 데이터 JPA, 5분 만에 알아보기</td>\n",
       "      <td>https://yozm.wishket.com//magazine/detail/2160/</td>\n",
       "      <td>스프링 데이터 JPA를 알려면 먼저 SQL을 몰라도 데이터베이스를 조작할 수 있게 해주는 편리한 도구인 ORM 개념을 알아야 합니다. 그러고 나서 JPA를 알아야 비로소 스프링 데이터 JPA를 알 수 있습니다. ORM은 SQL 공부 를 한 적이 있다면 그 편리함을 더 크게 느낄수 있는 도구인데요, 스프링 부트의 ORM 기술 표준인 스프링 JPA와 이를 구현하기 위한 하이버네이트를 사용해서 차례대로 알아보겠습니다.</td>\n",
       "    </tr>\n",
       "    <tr>\n",
       "      <th>3</th>\n",
       "      <td>개발자가 알아야 할 데이터 지향 설계란?</td>\n",
       "      <td>https://yozm.wishket.com//magazine/detail/2157/</td>\n",
       "      <td>객체지향 프로그래밍은 클래스(Class)를 통해 데이터와 행위를 묶어 관리하는 프로그래밍 패러다임입니다. 그렇지만 OOP의 사용에 대한 모호함에 대한 논의는 여전히 진행되고 있으며, 최근에는 함수형 프로그래밍(Functional Programming, FP)을 통한 활용도 많은 관심을 받고 있습니다. 이러한 배경 속에서 예호나단 샤르빗(Yehonathan Sharvit)이 데이터 지향 프로그래밍(Data Oriented Programming)이라는 새로운 개념을 제안했습니다. 그래서 이번 글에서는 데이터 지향 설계와 데이터 지향 프로그래밍에 대해 간략히 알아보는 시간을 갖고자 합니다. 첫 번째로 데이터 지향 설계와 관련된 이야기입니다.</td>\n",
       "    </tr>\n",
       "    <tr>\n",
       "      <th>4</th>\n",
       "      <td>자바 생성 패턴을 실제 프로젝트에 적용하려면?</td>\n",
       "      <td>https://yozm.wishket.com//magazine/detail/2155/</td>\n",
       "      <td>오늘은 자바 디자인 패턴 시리즈 세 번째 글로 이번 편에서는 생성 패턴(Creational Patterns)의 종류 및 프로젝트 적용 방법에 대해 알아보고자 합니다. 전편에서 살펴본 구조 패턴처럼 생성 패턴 역시 소프트웨어 설계에 있어 다양하게 활용되고 있습니다. 자바 생성 패턴 중  싱글턴(Singleton), 팩토리(Factory), 빌더(Builder), 프로토타입(Prototype) 패턴을 살펴보고, 실제 프로젝트에서 어떻게 적용하는지 참고해 보시길 바랍니다.</td>\n",
       "    </tr>\n",
       "    <tr>\n",
       "      <th>...</th>\n",
       "      <td>...</td>\n",
       "      <td>...</td>\n",
       "      <td>...</td>\n",
       "    </tr>\n",
       "    <tr>\n",
       "      <th>585</th>\n",
       "      <td>프론트엔드 개발자가 구글 I/O 2023 웹 세션에서 배운 것들</td>\n",
       "      <td>https://yozm.wishket.com//magazine/detail/2152/</td>\n",
       "      <td>Google I/O는 구글에서 매년 5월 경 주관하는 개발자 컨퍼런스로, 구글에서 새롭게 발표하는 기술, 안드로이드 등의 최신 업데이트 사항들을 공유한다. 특히 올해는 구글이 ‘바드(Bard)’라는 인공지능 챗봇을 공개하면서 한국어를 우선 지원하겠다고 밝혀 큰 화제가 되기도 했다. 이외에도 모바일, 웹, AI, 클라우드 등의 다양한 분야와 이러한 기술들을 직접 학습해 보는 세션이 준비되었다. 이번 글에서는 그중 웹에 대해 다룬 주요 세션을 웹 프론트엔드 개발자 관점에서 살펴보고자 한다.</td>\n",
       "    </tr>\n",
       "    <tr>\n",
       "      <th>586</th>\n",
       "      <td>‘프론트엔드냐, 백엔드냐’를 고민하는 당신에게</td>\n",
       "      <td>https://yozm.wishket.com//magazine/detail/2151/</td>\n",
       "      <td>프론트엔드를 해야 할지 백엔드를 해야 할지 모르겠어요. 개발을 막 시작하거나 몇 년 지나지 않은 주니어 개발자들과 대화를 하다 보면 심심치 않게 듣는 말이다. 그렇다고 꼭 경험이 적은 개발자만의 고민은 아니다. 경력이 많은 개발자들도 종종 이런 고민을 토로한다. 프랑스 철학자 장 폴 사르트르는 “인생은 BCD이다”라고 말했다. 태어나서(Birth) 죽는(Death) 순간까지 끊임없이 선택(Choice)하며 산다는 뜻이다. 삶은 선택의 연속이다. 그렇다면 어떻게 해야 더 나은 선택을 할 수 있을까?</td>\n",
       "    </tr>\n",
       "    <tr>\n",
       "      <th>587</th>\n",
       "      <td>베푸는 방법과 비판을 받아들이는 방법</td>\n",
       "      <td>https://yozm.wishket.com//magazine/detail/2150/</td>\n",
       "      <td>우리는 적게는 3-4명, 많게는 10명 이상의 인원이 협업하면서 프로젝트를 진행합니다. 어떻게 하면 팀원들 간에 더 나은 협업을 할 수 있는지, 좋은 팀을 만들 수 있는지 고민이 한 번쯤은 있으셨으리라 생각합니다. 오늘은 협업의 기술이란 책에서 소개하는 'HRT와 베푸는 방법과 비판을 받아들이는 방법 모두 배우기'를 통해 좋은 협업, 좋은 팀을 만들기 위해 무엇이 필요한지에 대한 내용을 공유하고자 합니다.</td>\n",
       "    </tr>\n",
       "    <tr>\n",
       "      <th>588</th>\n",
       "      <td>쿠팡이 클라우드 기반 ‘데이터베이스 백업 플랫폼’을 만든 이유</td>\n",
       "      <td>https://yozm.wishket.com//magazine/detail/2146/</td>\n",
       "      <td>쿠팡에서 데이터는 대체 불가능한 자원입니다. DBA 엔지니어들은 데이터베이스에 문제가 발생하는 것을 원천 차단하고자 많은 노력을 기울이지만, 예측 불가한 일로 인해 데이터에 문제가 생길 수 있습니다. 예를 들어, 사소한 물리 디스크 장애로 데이터세트가 오염될 수도 있고, 개발자 실수로 데이터가 영구적으로 삭제될 수도 있습니다. 이러한 잠재적 데이터 재해를 빠르고 효율적으로 해결하기 위하여, 쿠팡 데이터베이스 엔지니어링 팀은 전체 백업 프로세스를 간소화, 자동화하는 강력한 백업 및 복구 플랫폼을 개발하였습니다.</td>\n",
       "    </tr>\n",
       "    <tr>\n",
       "      <th>589</th>\n",
       "      <td>데이터가 곧 가치인 시대, 성패는 데이터 품질에 달려있다</td>\n",
       "      <td>https://yozm.wishket.com//magazine/detail/2144/</td>\n",
       "      <td>&amp;lt;데이터 품질의 비밀(Data Qualtiy Fundamentals)&amp;gt; 원저자들의 책 출간 기념 인터뷰를 요약했어요. 책을 기반으로 데이터 품질의 정의부터 데이터 신뢰성, 옵저버빌리티 등 관련 내용을 응축한 질문과 답변이 담겨 있어서 이 글을 읽으면 미리 &amp;lt;데이터 품질의 비밀: 데이터 신뢰를 쌓는 데이터옵스의 핵심과 엔드 투 엔드 단계별 가이드&amp;gt;을 맛볼 수 있어요. 더 심화된 내용 또는 다양한 사례를 책으로 읽기 전에 이 글을 워밍업으로 읽으면 좋아요.</td>\n",
       "    </tr>\n",
       "  </tbody>\n",
       "</table>\n",
       "<p>590 rows × 3 columns</p>\n",
       "</div>"
      ],
      "text/plain": [
       "                                   title   \n",
       "0    개발자가 알아야 할 데이터 지향 프로그래밍 with JDK 20  \\\n",
       "1                좋은 객체 ID(Object ID) 만들기   \n",
       "2                스프링 데이터 JPA, 5분 만에 알아보기   \n",
       "3                 개발자가 알아야 할 데이터 지향 설계란?   \n",
       "4              자바 생성 패턴을 실제 프로젝트에 적용하려면?   \n",
       "..                                   ...   \n",
       "585  프론트엔드 개발자가 구글 I/O 2023 웹 세션에서 배운 것들   \n",
       "586            ‘프론트엔드냐, 백엔드냐’를 고민하는 당신에게   \n",
       "587                 베푸는 방법과 비판을 받아들이는 방법   \n",
       "588   쿠팡이 클라우드 기반 ‘데이터베이스 백업 플랫폼’을 만든 이유   \n",
       "589      데이터가 곧 가치인 시대, 성패는 데이터 품질에 달려있다   \n",
       "\n",
       "                                                link   \n",
       "0    https://yozm.wishket.com//magazine/detail/2164/  \\\n",
       "1    https://yozm.wishket.com//magazine/detail/2161/   \n",
       "2    https://yozm.wishket.com//magazine/detail/2160/   \n",
       "3    https://yozm.wishket.com//magazine/detail/2157/   \n",
       "4    https://yozm.wishket.com//magazine/detail/2155/   \n",
       "..                                               ...   \n",
       "585  https://yozm.wishket.com//magazine/detail/2152/   \n",
       "586  https://yozm.wishket.com//magazine/detail/2151/   \n",
       "587  https://yozm.wishket.com//magazine/detail/2150/   \n",
       "588  https://yozm.wishket.com//magazine/detail/2146/   \n",
       "589  https://yozm.wishket.com//magazine/detail/2144/   \n",
       "\n",
       "                                                                                                                                                                                                                                                                                                                                                                 description  \n",
       "0                                                      객체지향 프로그래밍(Object-Oriented Programming, OOP)은 클래스(Class)를 통해 데이터와 행위를 묶어 관리하는 프로그래밍 패러다임입니다. 그렇지만 OOP의 사용에 대한 모호함에 대한 논의는 끊임없이 진행되고 있습니다. 이러한 배경 속에서 예호나단 샤르빗(Yehonathan Sharvit)이 데이터 지향 프로그래밍(Data Oriented Programming)이라는 새로운 개념을 제안했습니다. 전편 ‘개발자가 알아야 할 데이터 지향 설계란?’에 이어, 이번 글에서는 데이터 지향 프로그래밍은 어떤 내용인지 알아보겠습니다.  \n",
       "1                                                                                                                                                                                                                                                   객체 ID는 객체 지향 프로그래밍, 데이터베이스 관리, 네트워킹 등 다양한 컴퓨팅 환경에서 사용되는데요. 이 포스트에서는 좋은 객체 ID를 만들어야 하는 이유와 방법을 고유성과 식별 가능성을 중심으로 알아보겠습니다.  \n",
       "2                                                                                                                                   스프링 데이터 JPA를 알려면 먼저 SQL을 몰라도 데이터베이스를 조작할 수 있게 해주는 편리한 도구인 ORM 개념을 알아야 합니다. 그러고 나서 JPA를 알아야 비로소 스프링 데이터 JPA를 알 수 있습니다. ORM은 SQL 공부 를 한 적이 있다면 그 편리함을 더 크게 느낄수 있는 도구인데요, 스프링 부트의 ORM 기술 표준인 스프링 JPA와 이를 구현하기 위한 하이버네이트를 사용해서 차례대로 알아보겠습니다.  \n",
       "3    객체지향 프로그래밍은 클래스(Class)를 통해 데이터와 행위를 묶어 관리하는 프로그래밍 패러다임입니다. 그렇지만 OOP의 사용에 대한 모호함에 대한 논의는 여전히 진행되고 있으며, 최근에는 함수형 프로그래밍(Functional Programming, FP)을 통한 활용도 많은 관심을 받고 있습니다. 이러한 배경 속에서 예호나단 샤르빗(Yehonathan Sharvit)이 데이터 지향 프로그래밍(Data Oriented Programming)이라는 새로운 개념을 제안했습니다. 그래서 이번 글에서는 데이터 지향 설계와 데이터 지향 프로그래밍에 대해 간략히 알아보는 시간을 갖고자 합니다. 첫 번째로 데이터 지향 설계와 관련된 이야기입니다.  \n",
       "4                                                                                                    오늘은 자바 디자인 패턴 시리즈 세 번째 글로 이번 편에서는 생성 패턴(Creational Patterns)의 종류 및 프로젝트 적용 방법에 대해 알아보고자 합니다. 전편에서 살펴본 구조 패턴처럼 생성 패턴 역시 소프트웨어 설계에 있어 다양하게 활용되고 있습니다. 자바 생성 패턴 중  싱글턴(Singleton), 팩토리(Factory), 빌더(Builder), 프로토타입(Prototype) 패턴을 살펴보고, 실제 프로젝트에서 어떻게 적용하는지 참고해 보시길 바랍니다.  \n",
       "..                                                                                                                                                                                                                                                                                                                                                                       ...  \n",
       "585                                                                                       Google I/O는 구글에서 매년 5월 경 주관하는 개발자 컨퍼런스로, 구글에서 새롭게 발표하는 기술, 안드로이드 등의 최신 업데이트 사항들을 공유한다. 특히 올해는 구글이 ‘바드(Bard)’라는 인공지능 챗봇을 공개하면서 한국어를 우선 지원하겠다고 밝혀 큰 화제가 되기도 했다. 이외에도 모바일, 웹, AI, 클라우드 등의 다양한 분야와 이러한 기술들을 직접 학습해 보는 세션이 준비되었다. 이번 글에서는 그중 웹에 대해 다룬 주요 세션을 웹 프론트엔드 개발자 관점에서 살펴보고자 한다.  \n",
       "586                                                                                 프론트엔드를 해야 할지 백엔드를 해야 할지 모르겠어요. 개발을 막 시작하거나 몇 년 지나지 않은 주니어 개발자들과 대화를 하다 보면 심심치 않게 듣는 말이다. 그렇다고 꼭 경험이 적은 개발자만의 고민은 아니다. 경력이 많은 개발자들도 종종 이런 고민을 토로한다. 프랑스 철학자 장 폴 사르트르는 “인생은 BCD이다”라고 말했다. 태어나서(Birth) 죽는(Death) 순간까지 끊임없이 선택(Choice)하며 산다는 뜻이다. 삶은 선택의 연속이다. 그렇다면 어떻게 해야 더 나은 선택을 할 수 있을까?  \n",
       "587                                                                                                                                     우리는 적게는 3-4명, 많게는 10명 이상의 인원이 협업하면서 프로젝트를 진행합니다. 어떻게 하면 팀원들 간에 더 나은 협업을 할 수 있는지, 좋은 팀을 만들 수 있는지 고민이 한 번쯤은 있으셨으리라 생각합니다. 오늘은 협업의 기술이란 책에서 소개하는 'HRT와 베푸는 방법과 비판을 받아들이는 방법 모두 배우기'를 통해 좋은 협업, 좋은 팀을 만들기 위해 무엇이 필요한지에 대한 내용을 공유하고자 합니다.  \n",
       "588                                                                          쿠팡에서 데이터는 대체 불가능한 자원입니다. DBA 엔지니어들은 데이터베이스에 문제가 발생하는 것을 원천 차단하고자 많은 노력을 기울이지만, 예측 불가한 일로 인해 데이터에 문제가 생길 수 있습니다. 예를 들어, 사소한 물리 디스크 장애로 데이터세트가 오염될 수도 있고, 개발자 실수로 데이터가 영구적으로 삭제될 수도 있습니다. 이러한 잠재적 데이터 재해를 빠르고 효율적으로 해결하기 위하여, 쿠팡 데이터베이스 엔지니어링 팀은 전체 백업 프로세스를 간소화, 자동화하는 강력한 백업 및 복구 플랫폼을 개발하였습니다.  \n",
       "589                                                                                              &lt;데이터 품질의 비밀(Data Qualtiy Fundamentals)&gt; 원저자들의 책 출간 기념 인터뷰를 요약했어요. 책을 기반으로 데이터 품질의 정의부터 데이터 신뢰성, 옵저버빌리티 등 관련 내용을 응축한 질문과 답변이 담겨 있어서 이 글을 읽으면 미리 &lt;데이터 품질의 비밀: 데이터 신뢰를 쌓는 데이터옵스의 핵심과 엔드 투 엔드 단계별 가이드&gt;을 맛볼 수 있어요. 더 심화된 내용 또는 다양한 사례를 책으로 읽기 전에 이 글을 워밍업으로 읽으면 좋아요.  \n",
       "\n",
       "[590 rows x 3 columns]"
      ]
     },
     "execution_count": 48,
     "metadata": {},
     "output_type": "execute_result"
    }
   ],
   "source": [
    "pd.set_option('display.max_colwidth', None)\n",
    "page_content_link_description_df "
   ]
  },
  {
   "cell_type": "code",
   "execution_count": null,
   "metadata": {},
   "outputs": [],
   "source": [
    "page_content_link_description_df.to_excel('page_content_link_description_df.xlsx')"
   ]
  },
  {
   "cell_type": "markdown",
   "metadata": {},
   "source": [
    "<br>"
   ]
  },
  {
   "attachments": {},
   "cell_type": "markdown",
   "metadata": {},
   "source": [
    "### Reference"
   ]
  },
  {
   "attachments": {},
   "cell_type": "markdown",
   "metadata": {},
   "source": [
    "<b>Github<b>\n",
    "<br>cheris8\n",
    "<br>[동적 웹 페이지 크롤링 with Python](https://cheris8.github.io/data%20analysis/DC-Dynamic-Webpage-Crawling/)\n",
    "\n",
    "<br><b>Magazine<b>\n",
    "<br>[요즘IT](https://yozm.wishket.com/magazine/)"
   ]
  }
 ],
 "metadata": {
  "kernelspec": {
   "display_name": "exercise",
   "language": "python",
   "name": "python3"
  },
  "language_info": {
   "codemirror_mode": {
    "name": "ipython",
    "version": 3
   },
   "file_extension": ".py",
   "mimetype": "text/x-python",
   "name": "python",
   "nbconvert_exporter": "python",
   "pygments_lexer": "ipython3",
   "version": "3.11.3"
  },
  "orig_nbformat": 4
 },
 "nbformat": 4,
 "nbformat_minor": 2
}
