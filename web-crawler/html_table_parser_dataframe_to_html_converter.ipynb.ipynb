{
 "cells": [
  {
   "attachments": {},
   "cell_type": "markdown",
   "metadata": {},
   "source": [
    "### HTML Table Parser & Dataframe to HTML Converter (Beautifulsoup)"
   ]
  },
  {
   "cell_type": "markdown",
   "metadata": {},
   "source": [
    "<br>"
   ]
  },
  {
   "cell_type": "markdown",
   "metadata": {},
   "source": [
    "### Development Environment"
   ]
  },
  {
   "cell_type": "code",
   "execution_count": 1,
   "metadata": {},
   "outputs": [],
   "source": [
    "import re\n",
    "import html\n",
    "import requests\n",
    "import pandas as pd\n",
    "from glob import glob\n",
    "from bs4 import BeautifulSoup\n",
    "import pandas.io.formats.style"
   ]
  },
  {
   "cell_type": "markdown",
   "metadata": {},
   "source": [
    "### Page Information"
   ]
  },
  {
   "cell_type": "code",
   "execution_count": 2,
   "metadata": {},
   "outputs": [],
   "source": [
    "def make_page_soup(link):\n",
    "    target = link\n",
    "    response = requests.get(target)\n",
    "    response.raise_for_status()\n",
    "    response.encoding='EUC-KR'\n",
    "    page = str(response.content)\n",
    "    soup = BeautifulSoup(response.text, 'html.parser') \n",
    "    return page, soup"
   ]
  },
  {
   "cell_type": "code",
   "execution_count": 3,
   "metadata": {},
   "outputs": [],
   "source": [
    "link = \"http://web.stanford.edu/class/cs224n/\"\n",
    "page, soup = make_page_soup(link)\n",
    "tables = soup.find_all('table', attrs={'class':'table'})\n",
    "table = tables[1]"
   ]
  },
  {
   "cell_type": "markdown",
   "metadata": {},
   "source": [
    "### HTML Table Parser"
   ]
  },
  {
   "cell_type": "code",
   "execution_count": 65,
   "metadata": {},
   "outputs": [],
   "source": [
    "def parse_by_pattern(text):\n",
    "    link_list = []\n",
    "    final_link_list = []\n",
    "    href_pattern = re.findall(r'href=[\\'\"]?([^\\'\" >]+)', text)\n",
    "    if href_pattern != None:\n",
    "        number_of_link = len(href_pattern)\n",
    "        for i in range(number_of_link):\n",
    "            link = href_pattern[i]\n",
    "            link_list.append(link)\n",
    "        for link in link_list:\n",
    "            if \"slides/\" in link or \"project/\" in link or \\\n",
    "                \"readings/\" in link or 'assignments/' in link:\n",
    "                link = \"http://web.stanford.edu/class/cs224n/\" + link\n",
    "                final_link_list.append(link)\n",
    "    html_pattern = \"<(?:\\\"[^\\\"]*\\\"['\\\"]*|'[^']*'['\\\"]*|[^'\\\">])+>\"\n",
    "    text = re.sub(html_pattern, \"\", text) \n",
    "    text = text.replace(\"\\n\", \" \")\n",
    "    try:\n",
    "        if len(final_link_list) > 0:\n",
    "            for link in final_link_list:\n",
    "                text +=  \"<br>\" + '<a href=\"'+ link + '\">link</a>' \n",
    "        else:\n",
    "            for link in link_list:\n",
    "                text +=  \"<br>\" + '<a href=\"'+ link + '\">link</a>' \n",
    "    except:\n",
    "        pass  \n",
    "    text = text.strip()\n",
    "    text += \"<br>\"\n",
    "    return text"
   ]
  },
  {
   "cell_type": "code",
   "execution_count": 66,
   "metadata": {},
   "outputs": [],
   "source": [
    "date_list = []\n",
    "slides_tutorial_list = []\n",
    "readings_list = []\n",
    "assignment_list = []\n",
    "\n",
    "table_tr = table('tr')\n",
    "for i in range(len(table_tr)):\n",
    "    if i > 0:\n",
    "        try:\n",
    "            date = str(table_tr[i]('td')[0])            \n",
    "            date = parse_by_pattern(date)\n",
    "        except:\n",
    "            date = None        \n",
    "        try:\n",
    "            slides_tutorial = str(table_tr[i]('td')[1])\n",
    "            slides_tutorial = parse_by_pattern(slides_tutorial)\n",
    "        except:\n",
    "            slides_tutorial = None\n",
    "        try:    \n",
    "            readings = str(table_tr[i]('td')[2])\n",
    "            readings = parse_by_pattern(readings)\n",
    "        except:\n",
    "            readings = None\n",
    "        try:   \n",
    "            assignment = str(table_tr[i]('td')[3])\n",
    "            assignment = parse_by_pattern(assignment)\n",
    "        except:\n",
    "            assignment = None\n",
    "\n",
    "        date_list.append(date)\n",
    "        slides_tutorial_list.append(slides_tutorial)\n",
    "        readings_list.append(readings)\n",
    "        assignment_list.append(assignment)  "
   ]
  },
  {
   "cell_type": "code",
   "execution_count": 67,
   "metadata": {},
   "outputs": [],
   "source": [
    "slides_tutorial_df = pd.DataFrame({'date':date_list, 'content':slides_tutorial_list})\n",
    "readings_df = pd.DataFrame({'date':date_list, 'content':readings_list})\n",
    "assignment_df = pd.DataFrame({'date':date_list, 'content':assignment_list})"
   ]
  },
  {
   "cell_type": "markdown",
   "metadata": {},
   "source": [
    "### Save HTML Dataframe"
   ]
  },
  {
   "cell_type": "code",
   "execution_count": 68,
   "metadata": {},
   "outputs": [],
   "source": [
    "def write_to_html_file(df, title='', filename='out.html'):\n",
    "    '''\n",
    "    Write an entire dataframe to an HTML file with nice formatting.\n",
    "    '''\n",
    "\n",
    "    result = '''\n",
    "<html>\n",
    "<head>\n",
    "<style>\n",
    "\n",
    "    h2 {\n",
    "        text-align: center;\n",
    "        font-family: Helvetica, Arial, sans-serif;\n",
    "    }\n",
    "    table { \n",
    "        margin-left: auto;\n",
    "        margin-right: auto;\n",
    "    }\n",
    "    table, th, td {\n",
    "        border: 1px solid black;\n",
    "        border-collapse: collapse;\n",
    "    }\n",
    "    th, td {\n",
    "        word-break: break-all\n",
    "        padding: 5px;\n",
    "        text-align: center;\n",
    "        font-family: Helvetica, Arial, sans-serif;\n",
    "        font-size: 90%;\n",
    "    }\n",
    "    table tbody tr:hover {\n",
    "        background-color: #dddddd;\n",
    "    }\n",
    "    .wide {\n",
    "        width: 90%; \n",
    "    }\n",
    "\n",
    "</style>\n",
    "</head>\n",
    "<body>\n",
    "    '''\n",
    "    result += '<h2> %s </h2>\\n' % title\n",
    "    if type(df) == pd.io.formats.style.Styler:\n",
    "        result += df.render()\n",
    "    else:\n",
    "        result += df.to_html(classes='wide', escape=False)\n",
    "    result += '''\n",
    "</body>\n",
    "</html>\n",
    "'''\n",
    "    with open(filename, 'w') as f:\n",
    "        f.write(result)"
   ]
  },
  {
   "cell_type": "code",
   "execution_count": 72,
   "metadata": {},
   "outputs": [],
   "source": [
    "write_to_html_file(slides_tutorial_df, title='', filename='slides_tutorial.html')\n",
    "write_to_html_file(readings_df, title='', filename='readings.html')\n",
    "write_to_html_file(assignment_df, title='', filename='assignment.html')"
   ]
  },
  {
   "cell_type": "markdown",
   "metadata": {},
   "source": [
    "<br>"
   ]
  },
  {
   "attachments": {},
   "cell_type": "markdown",
   "metadata": {},
   "source": [
    "### Reference"
   ]
  },
  {
   "attachments": {},
   "cell_type": "markdown",
   "metadata": {},
   "source": [
    "<br><b>MOOC<b>\n",
    "<br>[CS224N: Natural Language Processing with Deep Learning, Stanford University](http://web.stanford.edu/class/cs224n/)\n",
    "\n",
    "<br><b>Stackoverflow<b>\n",
    "<br>[Applying styling to Pandas dataframe saved to HTML file](https://stackoverflow.com/questions/47704441/applying-styling-to-pandas-dataframe-saved-to-html-file)"
   ]
  }
 ],
 "metadata": {
  "kernelspec": {
   "display_name": "exercise",
   "language": "python",
   "name": "python3"
  },
  "language_info": {
   "codemirror_mode": {
    "name": "ipython",
    "version": 3
   },
   "file_extension": ".py",
   "mimetype": "text/x-python",
   "name": "python",
   "nbconvert_exporter": "python",
   "pygments_lexer": "ipython3",
   "version": "3.11.3"
  },
  "orig_nbformat": 4
 },
 "nbformat": 4,
 "nbformat_minor": 2
}
