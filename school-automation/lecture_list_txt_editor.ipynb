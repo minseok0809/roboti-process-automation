{
 "cells": [
  {
   "attachments": {},
   "cell_type": "markdown",
   "metadata": {},
   "source": [
    "## Lecture List (Txt Editor) "
   ]
  },
  {
   "cell_type": "markdown",
   "metadata": {},
   "source": []
  },
  {
   "cell_type": "markdown",
   "metadata": {},
   "source": []
  },
  {
   "attachments": {},
   "cell_type": "markdown",
   "metadata": {},
   "source": [
    "### Development Envrionment"
   ]
  },
  {
   "cell_type": "code",
   "execution_count": 10,
   "metadata": {},
   "outputs": [],
   "source": [
    "import re"
   ]
  },
  {
   "attachments": {},
   "cell_type": "markdown",
   "metadata": {},
   "source": [
    "### Bradcasting Website "
   ]
  },
  {
   "attachments": {},
   "cell_type": "markdown",
   "metadata": {},
   "source": [
    "#### SBS Biz Knowledge <송병건의 그림 속 경제사>"
   ]
  },
  {
   "cell_type": "code",
   "execution_count": 6,
   "metadata": {},
   "outputs": [
    {
     "name": "stdout",
     "output_type": "stream",
     "text": [
      "22회 고무의 진화, 세계를 연결하다\n",
      "방송일 2019.07.06(토)\n",
      "FREE올림픽,허구의 전통이 130년의 역사를 만들다\n"
     ]
    }
   ],
   "source": [
    "line_num = 0\n",
    "with open('SBS Biz Knowledge.txt', 'r') as f:\n",
    "    lines = f.read().splitlines() \n",
    "    for line in lines:\n",
    "        line_num += 1\n",
    "        if line_num <= 3:\n",
    "            print(line)"
   ]
  },
  {
   "cell_type": "code",
   "execution_count": 8,
   "metadata": {},
   "outputs": [],
   "source": [
    "text = \"\"\n",
    "with open('SBS Biz Knowledge.txt', 'r') as f:\n",
    "    lines = f.read().splitlines() \n",
    "    for line in lines:\n",
    "        if '방송일' not in line and 'FREE' not in line:\n",
    "            line = re.sub(r\"[0-9]+회\", \"\", line)\n",
    "            text += (line + \"\\n\")\n",
    "\n",
    "with open('SBS Biz Knowledge_completion.txt', 'w') as f:\n",
    "    f.write(text)"
   ]
  },
  {
   "attachments": {},
   "cell_type": "markdown",
   "metadata": {},
   "source": [
    "### Youtube Channel"
   ]
  },
  {
   "attachments": {},
   "cell_type": "markdown",
   "metadata": {},
   "source": [
    "#### EO"
   ]
  },
  {
   "cell_type": "code",
   "execution_count": 13,
   "metadata": {},
   "outputs": [
    {
     "name": "stdout",
     "output_type": "stream",
     "text": [
      "12:33\n",
      "지금 재생 중\n",
      "스타트업에 무조건 있는 빌런 특징 [실리콘밸리댄스 EP.01]\n",
      "조회수 3.5만회\n",
      "2일 전\n"
     ]
    }
   ],
   "source": [
    "line_num = 0\n",
    "with open('eo.txt', 'r') as f:\n",
    "    lines = f.read().splitlines() \n",
    "    for line in lines:\n",
    "        line_num += 1\n",
    "        if line_num <= 5:\n",
    "            print(line)"
   ]
  },
  {
   "cell_type": "code",
   "execution_count": 16,
   "metadata": {},
   "outputs": [],
   "source": [
    "text = \"\"\n",
    "with open('eo.txt', 'r') as f:\n",
    "    lines = f.read().splitlines() \n",
    "    for line in lines:\n",
    "        if '지금 재생 중' not in line and '조회수' not in line and \\\n",
    "            '개월' not in line and '년 전' not in line and \\\n",
    "                '일 전' not in line and '주 전' not in line:\n",
    "            line = re.sub(r\"[0-9]+:+[0-9]+[0-9]\", \"\", line)\n",
    "            line = re.sub(r\":+[0-9]+[0-9]\", \"\", line)\n",
    "            if line != \"\":\n",
    "                text += (line + \"\\n\")\n",
    "        \n",
    "with open('eo_completion.txt', 'w') as f:\n",
    "    f.write(text)"
   ]
  },
  {
   "cell_type": "code",
   "execution_count": 17,
   "metadata": {},
   "outputs": [
    {
     "name": "stdout",
     "output_type": "stream",
     "text": [
      "스타트업에 무조건 있는 빌런 특징 [실리콘밸리댄스 EP.01]\n",
      "인공지능이 만들어내고 있는 새로운 기회들\n",
      "1조 기업 창업자가 선택한 미래의 유니콘ㅣ센드버드 김동신, Yess 장지원\n"
     ]
    }
   ],
   "source": [
    "line_num = 0\n",
    "with open('eo_completion.txt', 'r') as f:\n",
    "    lines = f.read().splitlines() \n",
    "    for line in lines:\n",
    "        line_num += 1\n",
    "        if line_num <= 3:\n",
    "            print(line)"
   ]
  },
  {
   "attachments": {},
   "cell_type": "markdown",
   "metadata": {},
   "source": [
    "### Podcast"
   ]
  },
  {
   "attachments": {},
   "cell_type": "markdown",
   "metadata": {},
   "source": [
    "#### 팟빵 <과학하고 앉아있네>"
   ]
  },
  {
   "cell_type": "code",
   "execution_count": 2,
   "metadata": {},
   "outputs": [
    {
     "name": "stdout",
     "output_type": "stream",
     "text": [
      "이용의 집착분석 II - 체온 1도 올리면 면역력 5배! 평생 병에 안 걸릴 수 있다?\n",
      "오늘\n",
      "55분\n",
      "50\n"
     ]
    }
   ],
   "source": [
    "line_num = 0\n",
    "with open('과학하고앉아있네.txt', 'r') as f:\n",
    "    lines = f.read().splitlines() \n",
    "    for line in lines:\n",
    "        line_num += 1\n",
    "        if line_num <= 4:\n",
    "            print(line)"
   ]
  },
  {
   "cell_type": "code",
   "execution_count": 5,
   "metadata": {},
   "outputs": [],
   "source": [
    "text = \"\"\n",
    "line_num = -1\n",
    "with open('과학하고앉아있네.txt', 'r') as f:\n",
    "    lines = f.read().splitlines() \n",
    "    for line in lines:\n",
    "        line_num += 1\n",
    "        if line_num % 5 == 0:\n",
    "            text += (line + \"\\n\")\n",
    "        \n",
    "with open('과학하고앉아있네_completion.txt', 'w') as f:\n",
    "    f.write(text)"
   ]
  },
  {
   "cell_type": "code",
   "execution_count": 6,
   "metadata": {},
   "outputs": [
    {
     "name": "stdout",
     "output_type": "stream",
     "text": [
      "이용의 집착분석 II - 체온 1도 올리면 면역력 5배! 평생 병에 안 걸릴 수 있다?\n",
      "과학과사람들 뉴스룸 S9E03 버지니아급 잠수함, 한빛-TLV, 초파리 뇌지도\n",
      "우주에서 기다릴게 출간기념 북콘서트 with 이소연박사, 이강환 박사\n"
     ]
    }
   ],
   "source": [
    "line_num = 0\n",
    "with open('과학하고앉아있네_completion.txt', 'r') as f:\n",
    "    lines = f.read().splitlines() \n",
    "    for line in lines:\n",
    "        line_num += 1\n",
    "        if line_num <= 3:\n",
    "            print(line)"
   ]
  }
 ],
 "metadata": {
  "kernelspec": {
   "display_name": "vscode",
   "language": "python",
   "name": "python3"
  },
  "language_info": {
   "codemirror_mode": {
    "name": "ipython",
    "version": 3
   },
   "file_extension": ".py",
   "mimetype": "text/x-python",
   "name": "python",
   "nbconvert_exporter": "python",
   "pygments_lexer": "ipython3",
   "version": "3.10.9"
  },
  "orig_nbformat": 4,
  "vscode": {
   "interpreter": {
    "hash": "d717929ba838751f4ff0a01c71d98cfd63c6cc0362540d10631b9e314a288e77"
   }
  }
 },
 "nbformat": 4,
 "nbformat_minor": 2
}
