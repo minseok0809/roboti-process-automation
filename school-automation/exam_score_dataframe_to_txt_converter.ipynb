{
 "cells": [
  {
   "attachments": {},
   "cell_type": "markdown",
   "metadata": {},
   "source": [
    "## Exam Score Dataframe to TXT Converter"
   ]
  },
  {
   "attachments": {},
   "cell_type": "markdown",
   "metadata": {},
   "source": [
    "### Development Envrionment"
   ]
  },
  {
   "cell_type": "code",
   "execution_count": 1,
   "metadata": {},
   "outputs": [],
   "source": [
    "import os\n",
    "import pandas as pd\n",
    "import numpy as np\n",
    "import dataframe_image\n",
    "import matplotlib.pyplot as plt\n",
    "import matplotlib.font_manager as fm"
   ]
  },
  {
   "attachments": {},
   "cell_type": "markdown",
   "metadata": {},
   "source": [
    "### Exam Score Dataframe to TXT Converter"
   ]
  },
  {
   "cell_type": "code",
   "execution_count": 11,
   "metadata": {},
   "outputs": [],
   "source": [
    "midterm_exam_df = pd.read_excel(\"강의 1 중간고사 채점 (파이썬).xlsx\", engine='openpyxl')\n",
    "final_exam_df = pd.read_excel(\"강의 1 기말고사 채점 (파이썬).xlsx\", engine='openpyxl')\n",
    "total_exam_df = pd.read_excel(\"강의 1 총점 (파이썬).xlsx\", engine='openpyxl')"
   ]
  },
  {
   "cell_type": "code",
   "execution_count": 23,
   "metadata": {},
   "outputs": [],
   "source": [
    "def total_score_txt(exam_score_dataframe_midterm, exam_score_dataframe_final, exam_score_dataframe_total, txt_file_path):\n",
    "    student_num = len(exam_score_dataframe_midterm)\n",
    "    \n",
    "    with open(txt_file_path, \"w\") as f:\n",
    "        for i in range(student_num):\n",
    "            student_info_midterm = list(exam_score_dataframe_midterm.loc[i, :])\n",
    "            student_info_final = list(exam_score_dataframe_final.loc[i, :])\n",
    "            student_info_total = list(exam_score_dataframe_total.loc[i, :])\n",
    "            student_infos = [student_info_midterm, student_info_final, student_info_total]\n",
    "            for num, student_info in enumerate(student_infos):\n",
    "                if num == 0: columns = list(exam_score_dataframe_midterm.columns) \n",
    "                elif num == 1: columns = list(exam_score_dataframe_final.columns)\n",
    "                elif num == 2: columns = list(exam_score_dataframe_total.columns)\n",
    "                                                                           \n",
    "                for idx, (j, k) in enumerate(zip(columns, student_info)):\n",
    "                    if num == 0 and idx == 1: f.write('중간고사:\\n')  \n",
    "                    elif num == 1 and idx == 2: f.write('기말고사:\\n')   \n",
    "                    elif num == 2 and idx == 2: f.write('총점:\\n')  \n",
    "\n",
    "                    if num == 2 and idx == 6: \n",
    "                        f.write('{}: {} (10점 만점) \\n'.format(j, k))\n",
    "                    else:\n",
    "                        f.write('{}: {}\\n'.format(j, k))                   \n",
    "            f.write('\\n')\n",
    "    f.close()"
   ]
  },
  {
   "cell_type": "code",
   "execution_count": 7,
   "metadata": {},
   "outputs": [],
   "source": [
    "def score_txt(exam_score_dataframe, txt_file_path):\n",
    "    student_num = len(exam_score_dataframe)\n",
    "    columns = list(exam_score_dataframe.columns)\n",
    "\n",
    "    with open(txt_file_path, \"w\") as f:\n",
    "        for i in range(student_num):\n",
    "            student_info = list(exam_score_dataframe.loc[i, :])\n",
    "            for idx, (j, k) in enumerate(zip(columns, student_info)):\n",
    "                if idx == 2:\n",
    "                    f.write('점수:\\n')\n",
    "                f.write('{}: {}\\n'.format(j, k))\n",
    "            f.write('\\n')\n",
    "    f.close()"
   ]
  },
  {
   "cell_type": "code",
   "execution_count": 4,
   "metadata": {},
   "outputs": [],
   "source": [
    "score_txt(midterm_exam_df, \"강의 1 중간고사 채점 (파이썬).txt\")\n",
    "score_txt(final_exam_df, \"강의 1 기말고사 채점 (파이썬).txt\")"
   ]
  },
  {
   "cell_type": "code",
   "execution_count": 24,
   "metadata": {},
   "outputs": [],
   "source": [
    "total_score_txt(midterm_exam_df, final_exam_df, total_exam_df, \"강의 1 총점 (파이썬).txt\")"
   ]
  }
 ],
 "metadata": {
  "kernelspec": {
   "display_name": "exercise",
   "language": "python",
   "name": "exercise"
  },
  "language_info": {
   "codemirror_mode": {
    "name": "ipython",
    "version": 3
   },
   "file_extension": ".py",
   "mimetype": "text/x-python",
   "name": "python",
   "nbconvert_exporter": "python",
   "pygments_lexer": "ipython3",
   "version": "3.11.5"
  },
  "orig_nbformat": 4
 },
 "nbformat": 4,
 "nbformat_minor": 2
}
