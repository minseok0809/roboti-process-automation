{
 "cells": [
  {
   "attachments": {},
   "cell_type": "markdown",
   "metadata": {},
   "source": [
    "## Exam Score Dataframe to TXT Converter"
   ]
  },
  {
   "attachments": {},
   "cell_type": "markdown",
   "metadata": {},
   "source": [
    "### Development Envrionment"
   ]
  },
  {
   "cell_type": "code",
   "execution_count": 1,
   "metadata": {},
   "outputs": [],
   "source": [
    "import os\n",
    "import pandas as pd\n",
    "import numpy as np\n",
    "import dataframe_image\n",
    "import matplotlib.pyplot as plt\n",
    "import matplotlib.font_manager as fm"
   ]
  },
  {
   "attachments": {},
   "cell_type": "markdown",
   "metadata": {},
   "source": [
    "### Exam Score Dataframe to TXT Converter"
   ]
  },
  {
   "cell_type": "code",
   "execution_count": 2,
   "metadata": {},
   "outputs": [],
   "source": [
    "midterm_exam_df = pd.read_excel(\"AI100 인공지능개론 중간고사 채점 (파이썬).xlsx\", engine='openpyxl')\n",
    "final_exam_df = pd.read_excel(\"AI100 인공지능개론 기말고사 채점 (파이썬).xlsx\", engine='openpyxl')"
   ]
  },
  {
   "cell_type": "code",
   "execution_count": 14,
   "metadata": {},
   "outputs": [],
   "source": [
    "def score_txt(exam_score_dataframe, txt_file_path):\n",
    "    student_num = len(exam_score_dataframe)\n",
    "    columns = list(exam_score_dataframe.columns)\n",
    "\n",
    "    with open(txt_file_path, \"w\") as f:\n",
    "        for i in range(student_num):\n",
    "            student_info = list(exam_score_dataframe.loc[i, :])\n",
    "            for idx, (j, k) in enumerate(zip(columns, student_info)):\n",
    "                if idx == 2:\n",
    "                    f.write('점수:\\n')\n",
    "                f.write('{}: {}\\n'.format(j, k))\n",
    "            f.write('\\n')\n",
    "    f.close()"
   ]
  },
  {
   "cell_type": "code",
   "execution_count": 16,
   "metadata": {},
   "outputs": [],
   "source": [
    "score_txt(midterm_exam_df, \"AI100 인공지능개론 중간고사 채점 (파이썬).txt\")\n",
    "score_txt(final_exam_df, \"AI100 인공지능개론 기말고사 채점 (파이썬).txt\")"
   ]
  }
 ],
 "metadata": {
  "kernelspec": {
   "display_name": "exercise",
   "language": "python",
   "name": "python3"
  },
  "language_info": {
   "codemirror_mode": {
    "name": "ipython",
    "version": 3
   },
   "file_extension": ".py",
   "mimetype": "text/x-python",
   "name": "python",
   "nbconvert_exporter": "python",
   "pygments_lexer": "ipython3",
   "version": "3.11.5"
  },
  "orig_nbformat": 4
 },
 "nbformat": 4,
 "nbformat_minor": 2
}
