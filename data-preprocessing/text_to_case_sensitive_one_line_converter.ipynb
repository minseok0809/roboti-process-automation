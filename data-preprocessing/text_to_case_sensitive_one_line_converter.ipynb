{
 "cells": [
  {
   "cell_type": "markdown",
   "metadata": {},
   "source": [
    "### Text To Case-Sensitive & One Line Converter"
   ]
  },
  {
   "cell_type": "markdown",
   "metadata": {},
   "source": [
    "### Development Environment"
   ]
  },
  {
   "cell_type": "code",
   "execution_count": null,
   "metadata": {},
   "outputs": [],
   "source": [
    "%pip install clipboard"
   ]
  },
  {
   "cell_type": "code",
   "execution_count": 198,
   "metadata": {},
   "outputs": [],
   "source": [
    "import re\n",
    "import clipboard"
   ]
  },
  {
   "cell_type": "markdown",
   "metadata": {},
   "source": [
    "### Text Converter"
   ]
  },
  {
   "cell_type": "code",
   "execution_count": 96,
   "metadata": {},
   "outputs": [],
   "source": [
    "def case_sensitive_converter(text, prepositions):\n",
    "\n",
    "    case_sensitive_text = \"\"\n",
    "    words = re.split(' |\\n', text)\n",
    "\n",
    "    for word in words:\n",
    "        if any(word.lower() == preposition for preposition in prepositions):\n",
    "            word = word.lower()\n",
    "        else:\n",
    "            word = word[:1].upper() + word[1:].lower() \n",
    "        case_sensitive_text += word + \" \" \n",
    "        \n",
    "    case_sensitive_text = case_sensitive_text.strip() \n",
    "\n",
    "    return case_sensitive_text"
   ]
  },
  {
   "cell_type": "code",
   "execution_count": 189,
   "metadata": {},
   "outputs": [],
   "source": [
    "def one_line_converter(text):\n",
    "\n",
    "    one_line_text = \"\"\n",
    "    words = text.replace(\"\\n\", \" \")\n",
    "\n",
    "    if type(words) == list:\n",
    "        for word in words:\n",
    "            one_line_text += word\n",
    "\n",
    "    elif type(words) != list:\n",
    "        one_line_text = words\n",
    "\n",
    "    one_line_text = one_line_text.strip() \n",
    "\n",
    "    return one_line_text"
   ]
  },
  {
   "cell_type": "code",
   "execution_count": 190,
   "metadata": {},
   "outputs": [],
   "source": [
    "def special_symbol_remover(text):\n",
    "\n",
    "    text = re.sub('[-=+,#/\\?:^.@*\\\"※~ㆍ!』‘|\\(\\)\\[\\]`\\'…》\\”\\“\\’·]', ' ', text)\n",
    "\n",
    "    return text"
   ]
  },
  {
   "cell_type": "code",
   "execution_count": 224,
   "metadata": {},
   "outputs": [
    {
     "name": "stdout",
     "output_type": "stream",
     "text": [
      "Original:\n",
      "KNOWLEDGE DISTILLATION WITH DYNAMIC TARGET \n",
      "\n",
      "Case-Sensitive:\n",
      "Knowledge Distillation with Dynamic Target \n",
      "\n",
      "One Line:\n",
      "Knowledge Distillation with Dynamic Target \n",
      "\n",
      "Clean:\n",
      "Knowledge Distillation with Dynamic Target\n"
     ]
    }
   ],
   "source": [
    "text = input(\"Enter your value: \")\n",
    "\n",
    "prepositions = ['aboard', 'about', 'above', 'across', 'after', 'against', \n",
    "                'along', 'amid', 'among', 'anti', 'around', 'as', 'at', \n",
    "                'before', 'behind', 'below', 'beneath', 'beside', 'besides', \n",
    "                'between', 'beyond', 'but', 'by', 'concerning', 'considering', \n",
    "                'despite', 'down', 'during', 'except', 'excepting', 'excluding', \n",
    "                'following', 'for', 'from', 'in', 'inside', 'into', 'like', 'minus',\n",
    "                'near', 'of', 'off', 'on', 'onto', 'opposite', 'outside', 'over',\n",
    "                'past', 'per', 'plus', 'regarding', 'round', 'save', 'since', 'than', \n",
    "                'through', 'to', 'toward', 'towards', 'under', 'underneath', 'unlike', \n",
    "                'until', 'up', 'upon', 'versus', 'via', 'with', 'within', 'without']\n",
    "\n",
    "case_sensitive_text = case_sensitive_converter(text, prepositions)\n",
    "one_line_text = one_line_converter(case_sensitive_text)\n",
    "clean_text = special_symbol_remover(one_line_text)\n",
    "\n",
    "print(\"Original:\"); print(text, \"\\n\")\n",
    "print(\"Case-Sensitive:\"); print(case_sensitive_text, \"\\n\")\n",
    "print(\"One Line:\"); print(one_line_text, \"\\n\")\n",
    "print(\"Clean:\"); print(clean_text)"
   ]
  },
  {
   "cell_type": "code",
   "execution_count": 225,
   "metadata": {},
   "outputs": [],
   "source": [
    "clipboard.copy(one_line_text)"
   ]
  },
  {
   "cell_type": "code",
   "execution_count": null,
   "metadata": {},
   "outputs": [],
   "source": [
    "clipboard.copy(clean_text)"
   ]
  },
  {
   "cell_type": "code",
   "execution_count": 219,
   "metadata": {},
   "outputs": [
    {
     "name": "stdout",
     "output_type": "stream",
     "text": [
      "Wenxian Shi, Yuxuan Song, Hao Zhou, Bohan Li, and Lei Li. Learning from deep model via exploring local targets, 2021. URL https://openreview. net/forum?id=5slGDu_bVc6\n"
     ]
    }
   ],
   "source": [
    "text2 = input(\"Enter your value: \")\n",
    "\n",
    "one_line_text2 = one_line_converter(text2)\n",
    "print(one_line_text2)\n",
    "clipboard.copy(one_line_text2)"
   ]
  },
  {
   "cell_type": "code",
   "execution_count": 218,
   "metadata": {},
   "outputs": [],
   "source": [
    "clipboard.copy(one_line_text2)"
   ]
  },
  {
   "cell_type": "markdown",
   "metadata": {},
   "source": [
    "### Reference"
   ]
  },
  {
   "cell_type": "markdown",
   "metadata": {},
   "source": [
    "[English Club](https://www.englishclub.com/grammar/prepositions-list.htm)"
   ]
  }
 ],
 "metadata": {
  "kernelspec": {
   "display_name": "exercise",
   "language": "python",
   "name": "python3"
  },
  "language_info": {
   "codemirror_mode": {
    "name": "ipython",
    "version": 3
   },
   "file_extension": ".py",
   "mimetype": "text/x-python",
   "name": "python",
   "nbconvert_exporter": "python",
   "pygments_lexer": "ipython3",
   "version": "3.11.3"
  },
  "orig_nbformat": 4
 },
 "nbformat": 4,
 "nbformat_minor": 2
}
