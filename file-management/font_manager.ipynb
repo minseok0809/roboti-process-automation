{
 "cells": [
  {
   "attachments": {},
   "cell_type": "markdown",
   "metadata": {},
   "source": [
    "## Font Manager"
   ]
  },
  {
   "cell_type": "code",
   "execution_count": 1,
   "metadata": {},
   "outputs": [],
   "source": [
    "from matplotlib import font_manager"
   ]
  },
  {
   "cell_type": "code",
   "execution_count": 2,
   "metadata": {},
   "outputs": [
    {
     "name": "stdout",
     "output_type": "stream",
     "text": [
      "NanumSquareOTF C:\\Users\\MinSeok\\AppData\\Local\\Microsoft\\Windows\\Fonts\\NanumSquareR.otf\n",
      "NanumSquareOTF C:\\Users\\MinSeok\\AppData\\Local\\Microsoft\\Windows\\Fonts\\NanumSquareEB.otf\n",
      "NanumMyeongjoOTF C:\\Users\\MinSeok\\AppData\\Local\\Microsoft\\Windows\\Fonts\\NanumMyeongjo.otf\n",
      "NanumGothicOTF C:\\Users\\MinSeok\\AppData\\Local\\Microsoft\\Windows\\Fonts\\NanumGothic.otf\n",
      "NanumSquareOTF C:\\Users\\MinSeok\\AppData\\Local\\Microsoft\\Windows\\Fonts\\NanumSquareB.otf\n",
      "NanumBarunGothicOTF C:\\Users\\MinSeok\\AppData\\Local\\Microsoft\\Windows\\Fonts\\NanumBarunGothic.otf\n"
     ]
    }
   ],
   "source": [
    "for i in font_manager.fontManager.ttflist:\n",
    "    if 'Nanum' in i.name:\n",
    "        print(i.name, i.fname)"
   ]
  }
 ],
 "metadata": {
  "kernelspec": {
   "display_name": "exercise",
   "language": "python",
   "name": "python3"
  },
  "language_info": {
   "codemirror_mode": {
    "name": "ipython",
    "version": 3
   },
   "file_extension": ".py",
   "mimetype": "text/x-python",
   "name": "python",
   "nbconvert_exporter": "python",
   "pygments_lexer": "ipython3",
   "version": "3.11.3"
  },
  "orig_nbformat": 4
 },
 "nbformat": 4,
 "nbformat_minor": 2
}
