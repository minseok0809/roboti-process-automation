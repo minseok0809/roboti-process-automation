{
 "cells": [
  {
   "cell_type": "markdown",
   "metadata": {},
   "source": [
    "### Music MP3 Duration Calculator"
   ]
  },
  {
   "cell_type": "code",
   "execution_count": null,
   "metadata": {},
   "outputs": [],
   "source": [
    "%pip install mutagen"
   ]
  },
  {
   "cell_type": "code",
   "execution_count": 6,
   "metadata": {},
   "outputs": [],
   "source": [
    "import glob\n",
    "import datetime\n",
    "import numpy as np\n",
    "from mutagen.mp3 import MP3"
   ]
  },
  {
   "cell_type": "code",
   "execution_count": 2,
   "metadata": {},
   "outputs": [],
   "source": [
    "def get_music_duration(filename):\n",
    "    audio = MP3(\"example.mp3\")\n",
    "    return audio.info.length"
   ]
  },
  {
   "cell_type": "code",
   "execution_count": null,
   "metadata": {},
   "outputs": [],
   "source": [
    "def get_music_file_duration(file_path):\n",
    "     \n",
    "     durations = []\n",
    "\n",
    "     music_files = glob.glob(file_path, recursive=True)\n",
    "     number_of_music_files = len(music_files)\n",
    "     \n",
    "     for filename in music_files:\n",
    "          durations.append(get_music_duration(filename))\n",
    "\n",
    "     total_music_duration = str(datetime.timedelta(seconds = sum(durations))).split(\".\")[0]\n",
    "     mean_music_duration = round(np.mean(durations), 2)\n",
    "     std_music_duration =  round(np.std(durations), 2)\n",
    "\n",
    "     return number_of_music_files, total_music_duration, mean_music_duration, std_music_duration"
   ]
  },
  {
   "cell_type": "code",
   "execution_count": null,
   "metadata": {},
   "outputs": [],
   "source": [
    "number_of_music_files, total_music_duration, \\\n",
    "    mean_music_duration, std_music_duration = get_music_file_duration('*.mp3')"
   ]
  },
  {
   "cell_type": "code",
   "execution_count": null,
   "metadata": {},
   "outputs": [],
   "source": [
    "print(\"The number of file:\", number_of_music_files)\n",
    "print(\"Total duration:\", total_music_duration)\n",
    "print(\"Mean duration:\", mean_music_duration)\n",
    "print(\"Standard deviation duration:\", std_music_duration)"
   ]
  }
 ],
 "metadata": {
  "kernelspec": {
   "display_name": "exercise",
   "language": "python",
   "name": "python3"
  },
  "language_info": {
   "codemirror_mode": {
    "name": "ipython",
    "version": 3
   },
   "file_extension": ".py",
   "mimetype": "text/x-python",
   "name": "python",
   "nbconvert_exporter": "python",
   "pygments_lexer": "ipython3",
   "version": "3.11.3"
  },
  "orig_nbformat": 4
 },
 "nbformat": 4,
 "nbformat_minor": 2
}
