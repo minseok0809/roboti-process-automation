{
 "cells": [
  {
   "cell_type": "markdown",
   "metadata": {},
   "source": [
    "### Video MP4 Duration Calculator"
   ]
  },
  {
   "cell_type": "code",
   "execution_count": null,
   "metadata": {},
   "outputs": [],
   "source": [
    "%pip install moviepy"
   ]
  },
  {
   "cell_type": "code",
   "execution_count": 6,
   "metadata": {},
   "outputs": [],
   "source": [
    "import glob\n",
    "import datetime\n",
    "import numpy as np\n",
    "from moviepy.editor import VideoFileClip"
   ]
  },
  {
   "cell_type": "code",
   "execution_count": 2,
   "metadata": {},
   "outputs": [],
   "source": [
    "def get_video_duration(filename):\n",
    "    clip = VideoFileClip(filename)\n",
    "    return clip.duration"
   ]
  },
  {
   "cell_type": "code",
   "execution_count": null,
   "metadata": {},
   "outputs": [],
   "source": [
    "def get_video_file_duration(file_path):\n",
    "     \n",
    "     durations = []\n",
    "\n",
    "     video_files = glob.glob(file_path, recursive=True)\n",
    "     number_of_video_files = len(video_files)\n",
    "     \n",
    "     for filename in video_files:\n",
    "          durations.append(get_video_duration(filename))\n",
    "\n",
    "     total_video_duration = str(datetime.timedelta(seconds = sum(durations))).split(\".\")[0]\n",
    "     mean_video_duration = round(np.mean(durations), 2)\n",
    "     std_video_duration =  round(np.std(durations), 2)\n",
    "\n",
    "     return number_of_video_files, total_video_duration, mean_video_duration, std_video_duration"
   ]
  },
  {
   "cell_type": "code",
   "execution_count": null,
   "metadata": {},
   "outputs": [],
   "source": [
    "number_of_video_files, total_video_duration, \\\n",
    "    mean_video_duration, std_video_duration = get_video_file_duration('*.mp4')"
   ]
  },
  {
   "cell_type": "code",
   "execution_count": 33,
   "metadata": {},
   "outputs": [
    {
     "name": "stdout",
     "output_type": "stream",
     "text": [
      "The number of file: 123\n",
      "Total duration: 23:13:24\n",
      "Mean duration: 679.71\n",
      "Standard deviation duration: 155.67\n"
     ]
    }
   ],
   "source": [
    "print(\"The number of file:\", number_of_video_files)\n",
    "print(\"Total duration:\", total_video_duration)\n",
    "print(\"Mean duration:\", mean_video_duration)\n",
    "print(\"Standard deviation duration:\", std_video_duration)"
   ]
  }
 ],
 "metadata": {
  "kernelspec": {
   "display_name": "exercise",
   "language": "python",
   "name": "python3"
  },
  "language_info": {
   "codemirror_mode": {
    "name": "ipython",
    "version": 3
   },
   "file_extension": ".py",
   "mimetype": "text/x-python",
   "name": "python",
   "nbconvert_exporter": "python",
   "pygments_lexer": "ipython3",
   "version": "3.11.3"
  },
  "orig_nbformat": 4
 },
 "nbformat": 4,
 "nbformat_minor": 2
}
