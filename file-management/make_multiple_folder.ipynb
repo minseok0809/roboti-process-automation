{
 "cells": [
  {
   "cell_type": "markdown",
   "metadata": {},
   "source": [
    "### Make Multiple Folder"
   ]
  },
  {
   "cell_type": "code",
   "execution_count": 3,
   "metadata": {},
   "outputs": [],
   "source": [
    "import os"
   ]
  },
  {
   "cell_type": "code",
   "execution_count": 16,
   "metadata": {},
   "outputs": [],
   "source": [
    "def make_list(text):\n",
    "\n",
    "    new_list = []\n",
    "    text_list = text.split(\"\\n\")\n",
    "\n",
    "    for i in text_list:\n",
    "        val = i.strip()\n",
    "        if len(i) > 0:\n",
    "            new_list.append(val)\n",
    "    \n",
    "    return new_list"
   ]
  },
  {
   "cell_type": "code",
   "execution_count": 17,
   "metadata": {},
   "outputs": [],
   "source": [
    "text = \"\"\" automatic_patent_classification_data_post\n",
    "automatic_patent_classification_data_pro\n",
    "british_korean_data_on_patents_in_major_countries_linked_to_industrial_information_post\n",
    "british_korean_data_on_patents_in_major_countries_linked_to_industrial_information_pro\n",
    "document_summary_text_post\n",
    "document_summary_text_pro\n",
    "general_common_sense_post\n",
    "general_common_sense_pro\n",
    "korean_corpus_data_based_on_large_scale_purchase_books_post\n",
    "korean_corpus_data_based_on_large_scale_purchase_books_pro\n",
    "legal_regulations_(such_as_terms_and_conditions_of_judgment)_text_analysis_data_post\n",
    "legal_regulations_(such_as_terms_and_conditions_of_judgment)_text_analysis_data_pro\n",
    "machine_reading_post\n",
    "machine_reading_data_for_administrative_documents_pro\n",
    "machine_reading_data_for_administrative_documents_post\n",
    "machine_reading_pro\n",
    "news_article_machine_reading_data_post\n",
    "news_article_machine_reading_data_pro\n",
    "professional_corpus_post\n",
    "professional_corpus_pro\n",
    "reading_books_by_machine_post\n",
    "reading_books_by_machine_pro\n",
    "summary_and_report_generation_data_post\n",
    "summary_and_report_generation_data_pro\n",
    "summary_of_book_materials_post\n",
    "summary_of_book_materials_pro\n",
    "summary_of_thesis_materials_pro\n",
    "summary_of_thesis_materials_post\n",
    "web_data_based_korean_corpus_data_post\n",
    "web_data_based_korean_corpus_data_pro \"\"\""
   ]
  },
  {
   "cell_type": "code",
   "execution_count": 18,
   "metadata": {},
   "outputs": [],
   "source": [
    "folder_list = make_list(text)"
   ]
  },
  {
   "cell_type": "code",
   "execution_count": null,
   "metadata": {},
   "outputs": [],
   "source": [
    "path = './'\n",
    "for folder in folder_list:\n",
    "    os.mkdir(os.path.join(path,folder))"
   ]
  }
 ],
 "metadata": {
  "kernelspec": {
   "display_name": "exercise",
   "language": "python",
   "name": "python3"
  },
  "language_info": {
   "codemirror_mode": {
    "name": "ipython",
    "version": 3
   },
   "file_extension": ".py",
   "mimetype": "text/x-python",
   "name": "python",
   "nbconvert_exporter": "python",
   "pygments_lexer": "ipython3",
   "version": "3.11.3"
  },
  "orig_nbformat": 4
 },
 "nbformat": 4,
 "nbformat_minor": 2
}
